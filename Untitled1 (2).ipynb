{
 "cells": [
  {
   "cell_type": "code",
   "execution_count": null,
   "id": "4c1ff99a",
   "metadata": {},
   "outputs": [],
   "source": []
  },
  {
   "cell_type": "code",
   "execution_count": 4,
   "id": "14fe7c07",
   "metadata": {},
   "outputs": [
    {
     "name": "stderr",
     "output_type": "stream",
     "text": [
      "also installing the dependency 'Cubist'\n",
      "\n"
     ]
    },
    {
     "name": "stdout",
     "output_type": "stream",
     "text": [
      "\n",
      "  There are binary versions available but the source versions are later:\n",
      "        binary source needs_compilation\n",
      "Cubist  0.2.40  0.4.0              TRUE\n",
      "C50    0.1.3.1  0.1.6              TRUE\n",
      "\n",
      "  Binaries will be installed\n"
     ]
    },
    {
     "name": "stderr",
     "output_type": "stream",
     "text": [
      "Warning message:\n",
      "\"package 'C50' is in use and will not be installed\""
     ]
    },
    {
     "name": "stdout",
     "output_type": "stream",
     "text": [
      "package 'Cubist' successfully unpacked and MD5 sums checked\n"
     ]
    },
    {
     "name": "stderr",
     "output_type": "stream",
     "text": [
      "Warning message:\n",
      "\"cannot remove prior installation of package 'Cubist'\"Warning message in file.copy(savedcopy, lib, recursive = TRUE):\n",
      "\"problem copying C:\\Users\\akhil\\anaconda3\\envs\\r-tutorial\\Lib\\R\\library\\00LOCK\\Cubist\\libs\\x64\\Cubist.dll to C:\\Users\\akhil\\anaconda3\\envs\\r-tutorial\\Lib\\R\\library\\Cubist\\libs\\x64\\Cubist.dll: Permission denied\"Warning message:\n",
      "\"restored 'Cubist'\""
     ]
    },
    {
     "name": "stdout",
     "output_type": "stream",
     "text": [
      "\n",
      "The downloaded binary packages are in\n",
      "\tC:\\Users\\akhil\\AppData\\Local\\Temp\\Rtmpon1XDy\\downloaded_packages\n"
     ]
    },
    {
     "name": "stderr",
     "output_type": "stream",
     "text": [
      "also installing the dependencies 'credentials', 'openssl', 'rstudioapi', 'zip', 'gitcreds', 'ini', 'fastmap', 'htmltools', 'sass', 'jquerylib', 'vctrs', 'systemfonts', 'textshaping', 'processx', 'diffobj', 'rematch2', 'gert', 'gh', 'rappdirs', 'rprojroot', 'cachem', 'bslib', 'downlit', 'httr', 'ragg', 'xml2', 'xopen', 'brew', 'commonmark', 'purrr', 'cpp11', 'brio', 'callr', 'praise', 'ps', 'waldo', 'usethis', 'cli', 'desc', 'ellipsis', 'fs', 'lifecycle', 'memoise', 'miniUI', 'pkgbuild', 'pkgdown', 'pkgload', 'profvis', 'rcmdcheck', 'remotes', 'rlang', 'roxygen2', 'rversions', 'sessioninfo', 'testthat', 'urlchecker', 'withr'\n",
      "\n"
     ]
    },
    {
     "name": "stdout",
     "output_type": "stream",
     "text": [
      "\n",
      "  There are binary versions available but the source versions are later:\n",
      "             binary source needs_compilation\n",
      "credentials   1.3.0  1.3.2             FALSE\n",
      "openssl       1.4.4  2.0.4              TRUE\n",
      "rstudioapi     0.13   0.14             FALSE\n",
      "zip           2.1.1  2.2.1              TRUE\n",
      "gitcreds      0.1.1  0.1.2             FALSE\n",
      "htmltools   0.5.1.1  0.5.3              TRUE\n",
      "sass          0.4.0  0.4.2              TRUE\n",
      "vctrs         0.3.8  0.5.0              TRUE\n",
      "systemfonts   1.0.2  1.0.4              TRUE\n",
      "textshaping   0.3.4  0.3.6              TRUE\n",
      "processx      3.5.2  3.7.0              TRUE\n",
      "diffobj       0.3.4  0.3.5              TRUE\n",
      "gert          1.3.0  1.9.1              TRUE\n",
      "gh            1.3.0  1.3.1             FALSE\n",
      "rprojroot     2.0.2  2.0.3             FALSE\n",
      "cachem        1.0.4  1.0.6              TRUE\n",
      "bslib         0.2.4  0.4.0             FALSE\n",
      "downlit       0.2.1  0.4.2             FALSE\n",
      "httr          1.4.2  1.4.4             FALSE\n",
      "ragg          1.1.2  1.2.3              TRUE\n",
      "xml2          1.3.2  1.3.3              TRUE\n",
      "brew          1.0-6  1.0-8             FALSE\n",
      "commonmark      1.7  1.8.1              TRUE\n",
      "purrr         0.3.4  0.3.5              TRUE\n",
      "cpp11         0.2.7  0.4.3             FALSE\n",
      "brio          1.1.2  1.1.3              TRUE\n",
      "callr         3.7.0  3.7.2             FALSE\n",
      "ps            1.6.0  1.7.1              TRUE\n",
      "waldo         0.2.5  0.4.0             FALSE\n",
      "usethis       2.0.1  2.1.6             FALSE\n",
      "cli           2.5.0  3.4.1              TRUE\n",
      "desc          1.3.0  1.4.2             FALSE\n",
      "fs            1.5.0  1.5.2              TRUE\n",
      "lifecycle     1.0.0  1.0.3             FALSE\n",
      "memoise       2.0.0  2.0.1             FALSE\n",
      "pkgbuild      1.2.0  1.3.1             FALSE\n",
      "pkgdown       1.6.1  2.0.6             FALSE\n",
      "pkgload       1.2.1  1.3.0             FALSE\n",
      "rcmdcheck     1.3.3  1.4.0             FALSE\n",
      "remotes       2.3.0  2.4.2             FALSE\n",
      "rlang        0.4.11  1.0.6              TRUE\n",
      "roxygen2      7.1.1  7.2.1              TRUE\n",
      "rversions     2.0.2  2.1.2             FALSE\n",
      "sessioninfo   1.1.1  1.2.2             FALSE\n",
      "testthat      3.0.2  3.1.5              TRUE\n",
      "urlchecker    1.0.0  1.0.1             FALSE\n",
      "withr         2.4.2  2.5.0             FALSE\n",
      "devtools      2.4.1  2.4.5             FALSE\n",
      "\n",
      "  Binaries will be installed\n",
      "package 'openssl' successfully unpacked and MD5 sums checked\n",
      "package 'zip' successfully unpacked and MD5 sums checked\n",
      "package 'ini' successfully unpacked and MD5 sums checked\n",
      "package 'fastmap' successfully unpacked and MD5 sums checked\n",
      "package 'htmltools' successfully unpacked and MD5 sums checked\n"
     ]
    },
    {
     "name": "stderr",
     "output_type": "stream",
     "text": [
      "Warning message:\n",
      "\"cannot remove prior installation of package 'htmltools'\"Warning message in file.copy(savedcopy, lib, recursive = TRUE):\n",
      "\"problem copying C:\\Users\\akhil\\anaconda3\\envs\\r-tutorial\\Lib\\R\\library\\00LOCK\\htmltools\\libs\\x64\\htmltools.dll to C:\\Users\\akhil\\anaconda3\\envs\\r-tutorial\\Lib\\R\\library\\htmltools\\libs\\x64\\htmltools.dll: Permission denied\"Warning message:\n",
      "\"restored 'htmltools'\""
     ]
    },
    {
     "name": "stdout",
     "output_type": "stream",
     "text": [
      "package 'sass' successfully unpacked and MD5 sums checked\n",
      "package 'jquerylib' successfully unpacked and MD5 sums checked\n",
      "package 'vctrs' successfully unpacked and MD5 sums checked\n",
      "package 'systemfonts' successfully unpacked and MD5 sums checked\n",
      "package 'textshaping' successfully unpacked and MD5 sums checked\n",
      "package 'processx' successfully unpacked and MD5 sums checked\n",
      "package 'diffobj' successfully unpacked and MD5 sums checked\n",
      "package 'rematch2' successfully unpacked and MD5 sums checked\n",
      "package 'gert' successfully unpacked and MD5 sums checked\n",
      "package 'rappdirs' successfully unpacked and MD5 sums checked\n",
      "package 'cachem' successfully unpacked and MD5 sums checked\n",
      "package 'ragg' successfully unpacked and MD5 sums checked\n",
      "package 'xml2' successfully unpacked and MD5 sums checked\n",
      "package 'xopen' successfully unpacked and MD5 sums checked\n",
      "package 'commonmark' successfully unpacked and MD5 sums checked\n",
      "package 'purrr' successfully unpacked and MD5 sums checked\n"
     ]
    },
    {
     "name": "stderr",
     "output_type": "stream",
     "text": [
      "Warning message:\n",
      "\"cannot remove prior installation of package 'purrr'\"Warning message in file.copy(savedcopy, lib, recursive = TRUE):\n",
      "\"problem copying C:\\Users\\akhil\\anaconda3\\envs\\r-tutorial\\Lib\\R\\library\\00LOCK\\purrr\\libs\\x64\\purrr.dll to C:\\Users\\akhil\\anaconda3\\envs\\r-tutorial\\Lib\\R\\library\\purrr\\libs\\x64\\purrr.dll: Permission denied\"Warning message:\n",
      "\"restored 'purrr'\""
     ]
    },
    {
     "name": "stdout",
     "output_type": "stream",
     "text": [
      "package 'brio' successfully unpacked and MD5 sums checked\n",
      "package 'praise' successfully unpacked and MD5 sums checked\n",
      "package 'ps' successfully unpacked and MD5 sums checked\n",
      "package 'cli' successfully unpacked and MD5 sums checked\n",
      "package 'ellipsis' successfully unpacked and MD5 sums checked\n",
      "package 'fs' successfully unpacked and MD5 sums checked\n",
      "package 'miniUI' successfully unpacked and MD5 sums checked\n",
      "package 'profvis' successfully unpacked and MD5 sums checked\n",
      "package 'rlang' successfully unpacked and MD5 sums checked\n"
     ]
    },
    {
     "name": "stderr",
     "output_type": "stream",
     "text": [
      "Warning message:\n",
      "\"cannot remove prior installation of package 'rlang'\"Warning message in file.copy(savedcopy, lib, recursive = TRUE):\n",
      "\"problem copying C:\\Users\\akhil\\anaconda3\\envs\\r-tutorial\\Lib\\R\\library\\00LOCK\\rlang\\libs\\x64\\rlang.dll to C:\\Users\\akhil\\anaconda3\\envs\\r-tutorial\\Lib\\R\\library\\rlang\\libs\\x64\\rlang.dll: Permission denied\"Warning message:\n",
      "\"restored 'rlang'\""
     ]
    },
    {
     "name": "stdout",
     "output_type": "stream",
     "text": [
      "package 'roxygen2' successfully unpacked and MD5 sums checked\n",
      "package 'testthat' successfully unpacked and MD5 sums checked\n",
      "\n",
      "The downloaded binary packages are in\n",
      "\tC:\\Users\\akhil\\AppData\\Local\\Temp\\Rtmpon1XDy\\downloaded_packages\n"
     ]
    },
    {
     "name": "stderr",
     "output_type": "stream",
     "text": [
      "installing the source packages 'credentials', 'rstudioapi', 'gitcreds', 'gh', 'rprojroot', 'bslib', 'downlit', 'httr', 'brew', 'cpp11', 'callr', 'waldo', 'usethis', 'desc', 'lifecycle', 'memoise', 'pkgbuild', 'pkgdown', 'pkgload', 'rcmdcheck', 'remotes', 'rversions', 'sessioninfo', 'urlchecker', 'withr', 'devtools'\n",
      "\n",
      "Warning message in install.packages(\"devtools\"):\n",
      "\"installation of package 'callr' had non-zero exit status\"Warning message in install.packages(\"devtools\"):\n",
      "\"installation of package 'waldo' had non-zero exit status\"Warning message in install.packages(\"devtools\"):\n",
      "\"installation of package 'lifecycle' had non-zero exit status\"Warning message in install.packages(\"devtools\"):\n",
      "\"installation of package 'sessioninfo' had non-zero exit status\"Warning message in install.packages(\"devtools\"):\n",
      "\"installation of package 'gh' had non-zero exit status\"Warning message in install.packages(\"devtools\"):\n",
      "\"installation of package 'bslib' had non-zero exit status\"Warning message in install.packages(\"devtools\"):\n",
      "\"installation of package 'downlit' had non-zero exit status\"Warning message in install.packages(\"devtools\"):\n",
      "\"installation of package 'usethis' had non-zero exit status\"Warning message in install.packages(\"devtools\"):\n",
      "\"installation of package 'pkgload' had non-zero exit status\"Warning message in install.packages(\"devtools\"):\n",
      "\"installation of package 'pkgdown' had non-zero exit status\"Warning message in install.packages(\"devtools\"):\n",
      "\"installation of package 'rcmdcheck' had non-zero exit status\"Warning message in install.packages(\"devtools\"):\n",
      "\"installation of package 'devtools' had non-zero exit status\""
     ]
    }
   ],
   "source": [
    "install.packages(\"C50\")\n",
    "install.packages(\"devtools\")\n"
   ]
  },
  {
   "cell_type": "code",
   "execution_count": 7,
   "id": "30f53d7b",
   "metadata": {},
   "outputs": [
    {
     "name": "stdout",
     "output_type": "stream",
     "text": [
      "package 'ggthemes' successfully unpacked and MD5 sums checked\n",
      "\n",
      "The downloaded binary packages are in\n",
      "\tC:\\Users\\akhil\\AppData\\Local\\Temp\\Rtmpon1XDy\\downloaded_packages\n"
     ]
    }
   ],
   "source": [
    "install.packages(\"ggthemes\")\n"
   ]
  },
  {
   "cell_type": "code",
   "execution_count": 9,
   "id": "70a209a3",
   "metadata": {},
   "outputs": [
    {
     "name": "stdout",
     "output_type": "stream",
     "text": [
      "package 'gridExtra' successfully unpacked and MD5 sums checked\n",
      "\n",
      "The downloaded binary packages are in\n",
      "\tC:\\Users\\akhil\\AppData\\Local\\Temp\\Rtmpon1XDy\\downloaded_packages\n"
     ]
    }
   ],
   "source": [
    "install.packages(\"gridExtra\")\n"
   ]
  },
  {
   "cell_type": "code",
   "execution_count": 21,
   "id": "d72e873c",
   "metadata": {},
   "outputs": [
    {
     "name": "stdout",
     "output_type": "stream",
     "text": [
      "\n",
      "  There is a binary version available but the source version is later:\n",
      "           binary source needs_compilation\n",
      "rpart.plot  3.0.9  3.1.1             FALSE\n",
      "\n"
     ]
    },
    {
     "name": "stderr",
     "output_type": "stream",
     "text": [
      "installing the source package 'rpart.plot'\n",
      "\n",
      "also installing the dependencies 'isoband', 'rlang'\n",
      "\n"
     ]
    },
    {
     "name": "stdout",
     "output_type": "stream",
     "text": [
      "\n",
      "  There are binary versions available but the source versions are later:\n",
      "        binary source needs_compilation\n",
      "isoband  0.2.4  0.2.6              TRUE\n",
      "rlang   0.4.11  1.0.6              TRUE\n",
      "ggplot2  3.3.3  3.3.6             FALSE\n",
      "\n",
      "  Binaries will be installed\n",
      "package 'isoband' successfully unpacked and MD5 sums checked\n",
      "package 'rlang' successfully unpacked and MD5 sums checked\n"
     ]
    },
    {
     "name": "stderr",
     "output_type": "stream",
     "text": [
      "Warning message:\n",
      "\"cannot remove prior installation of package 'rlang'\"Warning message in file.copy(savedcopy, lib, recursive = TRUE):\n",
      "\"problem copying C:\\Users\\akhil\\anaconda3\\envs\\r-tutorial\\Lib\\R\\library\\00LOCK\\rlang\\libs\\x64\\rlang.dll to C:\\Users\\akhil\\anaconda3\\envs\\r-tutorial\\Lib\\R\\library\\rlang\\libs\\x64\\rlang.dll: Permission denied\"Warning message:\n",
      "\"restored 'rlang'\""
     ]
    },
    {
     "name": "stdout",
     "output_type": "stream",
     "text": [
      "\n",
      "The downloaded binary packages are in\n",
      "\tC:\\Users\\akhil\\AppData\\Local\\Temp\\Rtmpon1XDy\\downloaded_packages\n"
     ]
    },
    {
     "name": "stderr",
     "output_type": "stream",
     "text": [
      "installing the source package 'ggplot2'\n",
      "\n",
      "Warning message in install.packages(\"ggplot2\"):\n",
      "\"installation of package 'ggplot2' had non-zero exit status\"also installing the dependency 'proxy'\n",
      "\n"
     ]
    },
    {
     "name": "stdout",
     "output_type": "stream",
     "text": [
      "\n",
      "  There are binary versions available but the source versions are later:\n",
      "      binary source needs_compilation\n",
      "proxy 0.4-25 0.4-27              TRUE\n",
      "e1071  1.7-6 1.7-11              TRUE\n",
      "\n",
      "  Binaries will be installed\n",
      "package 'proxy' successfully unpacked and MD5 sums checked\n",
      "package 'e1071' successfully unpacked and MD5 sums checked\n",
      "\n",
      "The downloaded binary packages are in\n",
      "\tC:\\Users\\akhil\\AppData\\Local\\Temp\\Rtmpon1XDy\\downloaded_packages\n"
     ]
    }
   ],
   "source": [
    "install.packages(\"rpart.plot\")\n",
    "install.packages(\"ggplot2\")\n",
    "install.packages(\"e1071\")"
   ]
  },
  {
   "cell_type": "code",
   "execution_count": 11,
   "id": "1ef3844d",
   "metadata": {},
   "outputs": [
    {
     "data": {
      "text/html": [
       "<table>\n",
       "<thead><tr><th></th><th scope=col>used</th><th scope=col>(Mb)</th><th scope=col>gc trigger</th><th scope=col>(Mb)</th><th scope=col>max used</th><th scope=col>(Mb)</th></tr></thead>\n",
       "<tbody>\n",
       "\t<tr><th scope=row>Ncells</th><td>1984130 </td><td>106     </td><td> 3935330</td><td>210.2   </td><td> 3935330</td><td>210.2   </td></tr>\n",
       "\t<tr><th scope=row>Vcells</th><td>3400688 </td><td> 26     </td><td>10146329</td><td> 77.5   </td><td>10137935</td><td> 77.4   </td></tr>\n",
       "</tbody>\n",
       "</table>\n"
      ],
      "text/latex": [
       "\\begin{tabular}{r|llllll}\n",
       "  & used & (Mb) & gc trigger & (Mb) & max used & (Mb)\\\\\n",
       "\\hline\n",
       "\tNcells & 1984130  & 106      &  3935330 & 210.2    &  3935330 & 210.2   \\\\\n",
       "\tVcells & 3400688  &  26      & 10146329 &  77.5    & 10137935 &  77.4   \\\\\n",
       "\\end{tabular}\n"
      ],
      "text/markdown": [
       "\n",
       "| <!--/--> | used | (Mb) | gc trigger | (Mb) | max used | (Mb) |\n",
       "|---|---|---|---|---|---|---|\n",
       "| Ncells | 1984130  | 106      |  3935330 | 210.2    |  3935330 | 210.2    |\n",
       "| Vcells | 3400688  |  26      | 10146329 |  77.5    | 10137935 |  77.4    |\n",
       "\n"
      ],
      "text/plain": [
       "       used    (Mb) gc trigger (Mb)  max used (Mb) \n",
       "Ncells 1984130 106   3935330   210.2  3935330 210.2\n",
       "Vcells 3400688  26  10146329    77.5 10137935  77.4"
      ]
     },
     "metadata": {},
     "output_type": "display_data"
    }
   ],
   "source": [
    "rm(list=ls()) ; gc()\n",
    "library(C50)\n",
    "library(dplyr)\n",
    "library(ggplot2)\n",
    "library(caret)\n",
    "# library(\"devtools\")\n",
    "# install_github(\"davpinto/fastknn\")\n",
    "library(dplyr)\n",
    "library(magrittr)\n",
    "library(forcats)  \n",
    "library(ggthemes)\n",
    "library(gridExtra)"
   ]
  },
  {
   "cell_type": "code",
   "execution_count": 41,
   "id": "86750e46",
   "metadata": {
    "scrolled": true
   },
   "outputs": [
    {
     "data": {
      "text/html": [
       "<table>\n",
       "<thead><tr><th scope=col>ID</th><th scope=col>LIMIT_BAL</th><th scope=col>SEX</th><th scope=col>EDUCATION</th><th scope=col>MARRIAGE</th><th scope=col>AGE</th><th scope=col>PAY_0</th><th scope=col>PAY_2</th><th scope=col>PAY_3</th><th scope=col>PAY_4</th><th scope=col>...</th><th scope=col>BILL_AMT4</th><th scope=col>BILL_AMT5</th><th scope=col>BILL_AMT6</th><th scope=col>PAY_AMT1</th><th scope=col>PAY_AMT2</th><th scope=col>PAY_AMT3</th><th scope=col>PAY_AMT4</th><th scope=col>PAY_AMT5</th><th scope=col>PAY_AMT6</th><th scope=col>default.payment.next.month</th></tr></thead>\n",
       "<tbody>\n",
       "\t<tr><td>1     </td><td> 20000</td><td>2     </td><td>2     </td><td>1     </td><td>24    </td><td> 2    </td><td>2     </td><td>-1    </td><td>-1    </td><td>...   </td><td>    0 </td><td>    0 </td><td>    0 </td><td>   0  </td><td>  689 </td><td>    0 </td><td>   0  </td><td>   0  </td><td>   0  </td><td>1     </td></tr>\n",
       "\t<tr><td>2     </td><td>120000</td><td>2     </td><td>2     </td><td>2     </td><td>26    </td><td>-1    </td><td>2     </td><td> 0    </td><td> 0    </td><td>...   </td><td> 3272 </td><td> 3455 </td><td> 3261 </td><td>   0  </td><td> 1000 </td><td> 1000 </td><td>1000  </td><td>   0  </td><td>2000  </td><td>1     </td></tr>\n",
       "\t<tr><td>3     </td><td> 90000</td><td>2     </td><td>2     </td><td>2     </td><td>34    </td><td> 0    </td><td>0     </td><td> 0    </td><td> 0    </td><td>...   </td><td>14331 </td><td>14948 </td><td>15549 </td><td>1518  </td><td> 1500 </td><td> 1000 </td><td>1000  </td><td>1000  </td><td>5000  </td><td>0     </td></tr>\n",
       "\t<tr><td>4     </td><td> 50000</td><td>2     </td><td>2     </td><td>1     </td><td>37    </td><td> 0    </td><td>0     </td><td> 0    </td><td> 0    </td><td>...   </td><td>28314 </td><td>28959 </td><td>29547 </td><td>2000  </td><td> 2019 </td><td> 1200 </td><td>1100  </td><td>1069  </td><td>1000  </td><td>0     </td></tr>\n",
       "\t<tr><td>5     </td><td> 50000</td><td>1     </td><td>2     </td><td>1     </td><td>57    </td><td>-1    </td><td>0     </td><td>-1    </td><td> 0    </td><td>...   </td><td>20940 </td><td>19146 </td><td>19131 </td><td>2000  </td><td>36681 </td><td>10000 </td><td>9000  </td><td> 689  </td><td> 679  </td><td>0     </td></tr>\n",
       "\t<tr><td>6     </td><td> 50000</td><td>1     </td><td>1     </td><td>2     </td><td>37    </td><td> 0    </td><td>0     </td><td> 0    </td><td> 0    </td><td>...   </td><td>19394 </td><td>19619 </td><td>20024 </td><td>2500  </td><td> 1815 </td><td>  657 </td><td>1000  </td><td>1000  </td><td> 800  </td><td>0     </td></tr>\n",
       "</tbody>\n",
       "</table>\n"
      ],
      "text/latex": [
       "\\begin{tabular}{r|lllllllllllllllllllllllll}\n",
       " ID & LIMIT\\_BAL & SEX & EDUCATION & MARRIAGE & AGE & PAY\\_0 & PAY\\_2 & PAY\\_3 & PAY\\_4 & ... & BILL\\_AMT4 & BILL\\_AMT5 & BILL\\_AMT6 & PAY\\_AMT1 & PAY\\_AMT2 & PAY\\_AMT3 & PAY\\_AMT4 & PAY\\_AMT5 & PAY\\_AMT6 & default.payment.next.month\\\\\n",
       "\\hline\n",
       "\t 1      &  20000 & 2      & 2      & 1      & 24     &  2     & 2      & -1     & -1     & ...    &     0  &     0  &     0  &    0   &   689  &     0  &    0   &    0   &    0   & 1     \\\\\n",
       "\t 2      & 120000 & 2      & 2      & 2      & 26     & -1     & 2      &  0     &  0     & ...    &  3272  &  3455  &  3261  &    0   &  1000  &  1000  & 1000   &    0   & 2000   & 1     \\\\\n",
       "\t 3      &  90000 & 2      & 2      & 2      & 34     &  0     & 0      &  0     &  0     & ...    & 14331  & 14948  & 15549  & 1518   &  1500  &  1000  & 1000   & 1000   & 5000   & 0     \\\\\n",
       "\t 4      &  50000 & 2      & 2      & 1      & 37     &  0     & 0      &  0     &  0     & ...    & 28314  & 28959  & 29547  & 2000   &  2019  &  1200  & 1100   & 1069   & 1000   & 0     \\\\\n",
       "\t 5      &  50000 & 1      & 2      & 1      & 57     & -1     & 0      & -1     &  0     & ...    & 20940  & 19146  & 19131  & 2000   & 36681  & 10000  & 9000   &  689   &  679   & 0     \\\\\n",
       "\t 6      &  50000 & 1      & 1      & 2      & 37     &  0     & 0      &  0     &  0     & ...    & 19394  & 19619  & 20024  & 2500   &  1815  &   657  & 1000   & 1000   &  800   & 0     \\\\\n",
       "\\end{tabular}\n"
      ],
      "text/markdown": [
       "\n",
       "| ID | LIMIT_BAL | SEX | EDUCATION | MARRIAGE | AGE | PAY_0 | PAY_2 | PAY_3 | PAY_4 | ... | BILL_AMT4 | BILL_AMT5 | BILL_AMT6 | PAY_AMT1 | PAY_AMT2 | PAY_AMT3 | PAY_AMT4 | PAY_AMT5 | PAY_AMT6 | default.payment.next.month |\n",
       "|---|---|---|---|---|---|---|---|---|---|---|---|---|---|---|---|---|---|---|---|---|\n",
       "| 1      |  20000 | 2      | 2      | 1      | 24     |  2     | 2      | -1     | -1     | ...    |     0  |     0  |     0  |    0   |   689  |     0  |    0   |    0   |    0   | 1      |\n",
       "| 2      | 120000 | 2      | 2      | 2      | 26     | -1     | 2      |  0     |  0     | ...    |  3272  |  3455  |  3261  |    0   |  1000  |  1000  | 1000   |    0   | 2000   | 1      |\n",
       "| 3      |  90000 | 2      | 2      | 2      | 34     |  0     | 0      |  0     |  0     | ...    | 14331  | 14948  | 15549  | 1518   |  1500  |  1000  | 1000   | 1000   | 5000   | 0      |\n",
       "| 4      |  50000 | 2      | 2      | 1      | 37     |  0     | 0      |  0     |  0     | ...    | 28314  | 28959  | 29547  | 2000   |  2019  |  1200  | 1100   | 1069   | 1000   | 0      |\n",
       "| 5      |  50000 | 1      | 2      | 1      | 57     | -1     | 0      | -1     |  0     | ...    | 20940  | 19146  | 19131  | 2000   | 36681  | 10000  | 9000   |  689   |  679   | 0      |\n",
       "| 6      |  50000 | 1      | 1      | 2      | 37     |  0     | 0      |  0     |  0     | ...    | 19394  | 19619  | 20024  | 2500   |  1815  |   657  | 1000   | 1000   |  800   | 0      |\n",
       "\n"
      ],
      "text/plain": [
       "  ID LIMIT_BAL SEX EDUCATION MARRIAGE AGE PAY_0 PAY_2 PAY_3 PAY_4 ... BILL_AMT4\n",
       "1 1   20000    2   2         1        24   2    2     -1    -1    ...     0    \n",
       "2 2  120000    2   2         2        26  -1    2      0     0    ...  3272    \n",
       "3 3   90000    2   2         2        34   0    0      0     0    ... 14331    \n",
       "4 4   50000    2   2         1        37   0    0      0     0    ... 28314    \n",
       "5 5   50000    1   2         1        57  -1    0     -1     0    ... 20940    \n",
       "6 6   50000    1   1         2        37   0    0      0     0    ... 19394    \n",
       "  BILL_AMT5 BILL_AMT6 PAY_AMT1 PAY_AMT2 PAY_AMT3 PAY_AMT4 PAY_AMT5 PAY_AMT6\n",
       "1     0         0        0       689        0       0        0        0    \n",
       "2  3455      3261        0      1000     1000    1000        0     2000    \n",
       "3 14948     15549     1518      1500     1000    1000     1000     5000    \n",
       "4 28959     29547     2000      2019     1200    1100     1069     1000    \n",
       "5 19146     19131     2000     36681    10000    9000      689      679    \n",
       "6 19619     20024     2500      1815      657    1000     1000      800    \n",
       "  default.payment.next.month\n",
       "1 1                         \n",
       "2 1                         \n",
       "3 0                         \n",
       "4 0                         \n",
       "5 0                         \n",
       "6 0                         "
      ]
     },
     "metadata": {},
     "output_type": "display_data"
    }
   ],
   "source": [
    "cc <- read.csv(\"C:/Users/akhil/Downloads/UCI_Credit_Card.csv\")\n",
    "head(cc)"
   ]
  },
  {
   "cell_type": "code",
   "execution_count": 42,
   "id": "57644b6c",
   "metadata": {},
   "outputs": [],
   "source": [
    "cc$default.payment.next.month <- factor(cc$default.payment.next.month,levels=c(0,1), labels=c(\"No\",\"Yes\"))"
   ]
  },
  {
   "cell_type": "code",
   "execution_count": 43,
   "id": "730befa1",
   "metadata": {},
   "outputs": [
    {
     "data": {
      "text/html": [
       "<table>\n",
       "<thead><tr><th scope=col>ID</th><th scope=col>LIMIT_BAL</th><th scope=col>SEX</th><th scope=col>EDUCATION</th><th scope=col>MARRIAGE</th><th scope=col>AGE</th><th scope=col>PAY_0</th><th scope=col>PAY_2</th><th scope=col>PAY_3</th><th scope=col>PAY_4</th><th scope=col>...</th><th scope=col>BILL_AMT4</th><th scope=col>BILL_AMT5</th><th scope=col>BILL_AMT6</th><th scope=col>PAY_AMT1</th><th scope=col>PAY_AMT2</th><th scope=col>PAY_AMT3</th><th scope=col>PAY_AMT4</th><th scope=col>PAY_AMT5</th><th scope=col>PAY_AMT6</th><th scope=col>default.payment.next.month</th></tr></thead>\n",
       "<tbody>\n",
       "\t<tr><td>1     </td><td> 20000</td><td>2     </td><td>2     </td><td>1     </td><td>24    </td><td> 2    </td><td>2     </td><td>-1    </td><td>-1    </td><td>...   </td><td>    0 </td><td>    0 </td><td>    0 </td><td>   0  </td><td>  689 </td><td>    0 </td><td>   0  </td><td>   0  </td><td>   0  </td><td>Yes   </td></tr>\n",
       "\t<tr><td>2     </td><td>120000</td><td>2     </td><td>2     </td><td>2     </td><td>26    </td><td>-1    </td><td>2     </td><td> 0    </td><td> 0    </td><td>...   </td><td> 3272 </td><td> 3455 </td><td> 3261 </td><td>   0  </td><td> 1000 </td><td> 1000 </td><td>1000  </td><td>   0  </td><td>2000  </td><td>Yes   </td></tr>\n",
       "\t<tr><td>3     </td><td> 90000</td><td>2     </td><td>2     </td><td>2     </td><td>34    </td><td> 0    </td><td>0     </td><td> 0    </td><td> 0    </td><td>...   </td><td>14331 </td><td>14948 </td><td>15549 </td><td>1518  </td><td> 1500 </td><td> 1000 </td><td>1000  </td><td>1000  </td><td>5000  </td><td>No    </td></tr>\n",
       "\t<tr><td>4     </td><td> 50000</td><td>2     </td><td>2     </td><td>1     </td><td>37    </td><td> 0    </td><td>0     </td><td> 0    </td><td> 0    </td><td>...   </td><td>28314 </td><td>28959 </td><td>29547 </td><td>2000  </td><td> 2019 </td><td> 1200 </td><td>1100  </td><td>1069  </td><td>1000  </td><td>No    </td></tr>\n",
       "\t<tr><td>5     </td><td> 50000</td><td>1     </td><td>2     </td><td>1     </td><td>57    </td><td>-1    </td><td>0     </td><td>-1    </td><td> 0    </td><td>...   </td><td>20940 </td><td>19146 </td><td>19131 </td><td>2000  </td><td>36681 </td><td>10000 </td><td>9000  </td><td> 689  </td><td> 679  </td><td>No    </td></tr>\n",
       "\t<tr><td>6     </td><td> 50000</td><td>1     </td><td>1     </td><td>2     </td><td>37    </td><td> 0    </td><td>0     </td><td> 0    </td><td> 0    </td><td>...   </td><td>19394 </td><td>19619 </td><td>20024 </td><td>2500  </td><td> 1815 </td><td>  657 </td><td>1000  </td><td>1000  </td><td> 800  </td><td>No    </td></tr>\n",
       "</tbody>\n",
       "</table>\n"
      ],
      "text/latex": [
       "\\begin{tabular}{r|lllllllllllllllllllllllll}\n",
       " ID & LIMIT\\_BAL & SEX & EDUCATION & MARRIAGE & AGE & PAY\\_0 & PAY\\_2 & PAY\\_3 & PAY\\_4 & ... & BILL\\_AMT4 & BILL\\_AMT5 & BILL\\_AMT6 & PAY\\_AMT1 & PAY\\_AMT2 & PAY\\_AMT3 & PAY\\_AMT4 & PAY\\_AMT5 & PAY\\_AMT6 & default.payment.next.month\\\\\n",
       "\\hline\n",
       "\t 1      &  20000 & 2      & 2      & 1      & 24     &  2     & 2      & -1     & -1     & ...    &     0  &     0  &     0  &    0   &   689  &     0  &    0   &    0   &    0   & Yes   \\\\\n",
       "\t 2      & 120000 & 2      & 2      & 2      & 26     & -1     & 2      &  0     &  0     & ...    &  3272  &  3455  &  3261  &    0   &  1000  &  1000  & 1000   &    0   & 2000   & Yes   \\\\\n",
       "\t 3      &  90000 & 2      & 2      & 2      & 34     &  0     & 0      &  0     &  0     & ...    & 14331  & 14948  & 15549  & 1518   &  1500  &  1000  & 1000   & 1000   & 5000   & No    \\\\\n",
       "\t 4      &  50000 & 2      & 2      & 1      & 37     &  0     & 0      &  0     &  0     & ...    & 28314  & 28959  & 29547  & 2000   &  2019  &  1200  & 1100   & 1069   & 1000   & No    \\\\\n",
       "\t 5      &  50000 & 1      & 2      & 1      & 57     & -1     & 0      & -1     &  0     & ...    & 20940  & 19146  & 19131  & 2000   & 36681  & 10000  & 9000   &  689   &  679   & No    \\\\\n",
       "\t 6      &  50000 & 1      & 1      & 2      & 37     &  0     & 0      &  0     &  0     & ...    & 19394  & 19619  & 20024  & 2500   &  1815  &   657  & 1000   & 1000   &  800   & No    \\\\\n",
       "\\end{tabular}\n"
      ],
      "text/markdown": [
       "\n",
       "| ID | LIMIT_BAL | SEX | EDUCATION | MARRIAGE | AGE | PAY_0 | PAY_2 | PAY_3 | PAY_4 | ... | BILL_AMT4 | BILL_AMT5 | BILL_AMT6 | PAY_AMT1 | PAY_AMT2 | PAY_AMT3 | PAY_AMT4 | PAY_AMT5 | PAY_AMT6 | default.payment.next.month |\n",
       "|---|---|---|---|---|---|---|---|---|---|---|---|---|---|---|---|---|---|---|---|---|\n",
       "| 1      |  20000 | 2      | 2      | 1      | 24     |  2     | 2      | -1     | -1     | ...    |     0  |     0  |     0  |    0   |   689  |     0  |    0   |    0   |    0   | Yes    |\n",
       "| 2      | 120000 | 2      | 2      | 2      | 26     | -1     | 2      |  0     |  0     | ...    |  3272  |  3455  |  3261  |    0   |  1000  |  1000  | 1000   |    0   | 2000   | Yes    |\n",
       "| 3      |  90000 | 2      | 2      | 2      | 34     |  0     | 0      |  0     |  0     | ...    | 14331  | 14948  | 15549  | 1518   |  1500  |  1000  | 1000   | 1000   | 5000   | No     |\n",
       "| 4      |  50000 | 2      | 2      | 1      | 37     |  0     | 0      |  0     |  0     | ...    | 28314  | 28959  | 29547  | 2000   |  2019  |  1200  | 1100   | 1069   | 1000   | No     |\n",
       "| 5      |  50000 | 1      | 2      | 1      | 57     | -1     | 0      | -1     |  0     | ...    | 20940  | 19146  | 19131  | 2000   | 36681  | 10000  | 9000   |  689   |  679   | No     |\n",
       "| 6      |  50000 | 1      | 1      | 2      | 37     |  0     | 0      |  0     |  0     | ...    | 19394  | 19619  | 20024  | 2500   |  1815  |   657  | 1000   | 1000   |  800   | No     |\n",
       "\n"
      ],
      "text/plain": [
       "  ID LIMIT_BAL SEX EDUCATION MARRIAGE AGE PAY_0 PAY_2 PAY_3 PAY_4 ... BILL_AMT4\n",
       "1 1   20000    2   2         1        24   2    2     -1    -1    ...     0    \n",
       "2 2  120000    2   2         2        26  -1    2      0     0    ...  3272    \n",
       "3 3   90000    2   2         2        34   0    0      0     0    ... 14331    \n",
       "4 4   50000    2   2         1        37   0    0      0     0    ... 28314    \n",
       "5 5   50000    1   2         1        57  -1    0     -1     0    ... 20940    \n",
       "6 6   50000    1   1         2        37   0    0      0     0    ... 19394    \n",
       "  BILL_AMT5 BILL_AMT6 PAY_AMT1 PAY_AMT2 PAY_AMT3 PAY_AMT4 PAY_AMT5 PAY_AMT6\n",
       "1     0         0        0       689        0       0        0        0    \n",
       "2  3455      3261        0      1000     1000    1000        0     2000    \n",
       "3 14948     15549     1518      1500     1000    1000     1000     5000    \n",
       "4 28959     29547     2000      2019     1200    1100     1069     1000    \n",
       "5 19146     19131     2000     36681    10000    9000      689      679    \n",
       "6 19619     20024     2500      1815      657    1000     1000      800    \n",
       "  default.payment.next.month\n",
       "1 Yes                       \n",
       "2 Yes                       \n",
       "3 No                        \n",
       "4 No                        \n",
       "5 No                        \n",
       "6 No                        "
      ]
     },
     "metadata": {},
     "output_type": "display_data"
    }
   ],
   "source": [
    "head(cc)"
   ]
  },
  {
   "cell_type": "code",
   "execution_count": 44,
   "id": "a1d1cbe4",
   "metadata": {},
   "outputs": [
    {
     "data": {
      "image/png": "[encoded data removed]",
      "text/plain": [
       "plot without title"
      ]
     },
     "metadata": {},
     "output_type": "display_data"
    }
   ],
   "source": [
    "ggplot(cc, aes(x=EDUCATION, fill=default.payment.next.month, color=default.payment.next.month)) + \n",
    "  geom_histogram(binwidth=1, position=\"stack\") +\n",
    "  scale_color_manual(values=c(\"black\",\"black\")) +\n",
    "  scale_fill_manual(values=c(\"darkolivegreen4\", \"red\"))"
   ]
  },
  {
   "cell_type": "code",
   "execution_count": 45,
   "id": "1deae88c",
   "metadata": {},
   "outputs": [
    {
     "data": {
      "image/png": "[encoded data removed]",
      "text/plain": [
       "plot without title"
      ]
     },
     "metadata": {},
     "output_type": "display_data"
    }
   ],
   "source": [
    "ggplot(cc, aes(x=PAY_0, fill=default.payment.next.month, color=default.payment.next.month)) + \n",
    "  geom_histogram(binwidth=1, position=\"stack\") +\n",
    "  scale_color_manual(values=c(\"black\",\"black\")) +\n",
    "  scale_fill_manual(values=c(\"darkolivegreen4\", \"red\"))"
   ]
  },
  {
   "cell_type": "code",
   "execution_count": 46,
   "id": "74eb6cfd",
   "metadata": {},
   "outputs": [
    {
     "data": {
      "image/png": "[encoded data removed]",
      "text/plain": [
       "plot without title"
      ]
     },
     "metadata": {},
     "output_type": "display_data"
    }
   ],
   "source": [
    "ggplot(cc, aes(x=PAY_2, fill=default.payment.next.month, color=default.payment.next.month)) + \n",
    "  geom_histogram(binwidth=1, position=\"stack\") +\n",
    "  scale_color_manual(values=c(\"black\",\"black\")) +\n",
    "  scale_fill_manual(values=c(\"darkolivegreen4\", \"red\"))"
   ]
  },
  {
   "cell_type": "code",
   "execution_count": 47,
   "id": "d306cfa4",
   "metadata": {},
   "outputs": [
    {
     "data": {
      "image/png": "[encoded data removed]",
      "text/plain": [
       "plot without title"
      ]
     },
     "metadata": {},
     "output_type": "display_data"
    }
   ],
   "source": [
    "ggplot(cc, aes(x=PAY_4, fill=default.payment.next.month, color=default.payment.next.month)) + \n",
    "  geom_histogram(binwidth=1, position=\"stack\") +\n",
    "  scale_color_manual(values=c(\"black\",\"black\")) +\n",
    "  scale_fill_manual(values=c(\"darkolivegreen4\", \"red\"))"
   ]
  },
  {
   "cell_type": "code",
   "execution_count": 48,
   "id": "41318f0b",
   "metadata": {},
   "outputs": [
    {
     "data": {
      "image/png": "[encoded data removed]",
      "text/plain": [
       "plot without title"
      ]
     },
     "metadata": {},
     "output_type": "display_data"
    }
   ],
   "source": [
    "ggplot(cc, aes(x=PAY_6, fill=default.payment.next.month, color=default.payment.next.month)) + \n",
    "  geom_histogram(binwidth=1, position=\"stack\") +\n",
    "  scale_color_manual(values=c(\"black\",\"black\")) +\n",
    "  scale_fill_manual(values=c(\"darkolivegreen4\", \"red\"))"
   ]
  },
  {
   "cell_type": "code",
   "execution_count": 49,
   "id": "3f7a54c0",
   "metadata": {},
   "outputs": [],
   "source": [
    "cc$SEX <- factor(cc$SEX,levels=c(1,2), labels=c(\"Male\", \"Female\")) "
   ]
  },
  {
   "cell_type": "code",
   "execution_count": 50,
   "id": "38ff013e",
   "metadata": {},
   "outputs": [
    {
     "data": {
      "text/html": [
       "<table>\n",
       "<thead><tr><th scope=col>ID</th><th scope=col>LIMIT_BAL</th><th scope=col>SEX</th><th scope=col>EDUCATION</th><th scope=col>MARRIAGE</th><th scope=col>AGE</th><th scope=col>PAY_0</th><th scope=col>PAY_2</th><th scope=col>PAY_3</th><th scope=col>PAY_4</th><th scope=col>...</th><th scope=col>BILL_AMT4</th><th scope=col>BILL_AMT5</th><th scope=col>BILL_AMT6</th><th scope=col>PAY_AMT1</th><th scope=col>PAY_AMT2</th><th scope=col>PAY_AMT3</th><th scope=col>PAY_AMT4</th><th scope=col>PAY_AMT5</th><th scope=col>PAY_AMT6</th><th scope=col>default.payment.next.month</th></tr></thead>\n",
       "<tbody>\n",
       "\t<tr><td>1     </td><td> 20000</td><td>Female</td><td>2     </td><td>1     </td><td>24    </td><td> 2    </td><td>2     </td><td>-1    </td><td>-1    </td><td>...   </td><td>    0 </td><td>    0 </td><td>    0 </td><td>   0  </td><td>  689 </td><td>    0 </td><td>   0  </td><td>   0  </td><td>   0  </td><td>Yes   </td></tr>\n",
       "\t<tr><td>2     </td><td>120000</td><td>Female</td><td>2     </td><td>2     </td><td>26    </td><td>-1    </td><td>2     </td><td> 0    </td><td> 0    </td><td>...   </td><td> 3272 </td><td> 3455 </td><td> 3261 </td><td>   0  </td><td> 1000 </td><td> 1000 </td><td>1000  </td><td>   0  </td><td>2000  </td><td>Yes   </td></tr>\n",
       "\t<tr><td>3     </td><td> 90000</td><td>Female</td><td>2     </td><td>2     </td><td>34    </td><td> 0    </td><td>0     </td><td> 0    </td><td> 0    </td><td>...   </td><td>14331 </td><td>14948 </td><td>15549 </td><td>1518  </td><td> 1500 </td><td> 1000 </td><td>1000  </td><td>1000  </td><td>5000  </td><td>No    </td></tr>\n",
       "\t<tr><td>4     </td><td> 50000</td><td>Female</td><td>2     </td><td>1     </td><td>37    </td><td> 0    </td><td>0     </td><td> 0    </td><td> 0    </td><td>...   </td><td>28314 </td><td>28959 </td><td>29547 </td><td>2000  </td><td> 2019 </td><td> 1200 </td><td>1100  </td><td>1069  </td><td>1000  </td><td>No    </td></tr>\n",
       "\t<tr><td>5     </td><td> 50000</td><td>Male  </td><td>2     </td><td>1     </td><td>57    </td><td>-1    </td><td>0     </td><td>-1    </td><td> 0    </td><td>...   </td><td>20940 </td><td>19146 </td><td>19131 </td><td>2000  </td><td>36681 </td><td>10000 </td><td>9000  </td><td> 689  </td><td> 679  </td><td>No    </td></tr>\n",
       "\t<tr><td>6     </td><td> 50000</td><td>Male  </td><td>1     </td><td>2     </td><td>37    </td><td> 0    </td><td>0     </td><td> 0    </td><td> 0    </td><td>...   </td><td>19394 </td><td>19619 </td><td>20024 </td><td>2500  </td><td> 1815 </td><td>  657 </td><td>1000  </td><td>1000  </td><td> 800  </td><td>No    </td></tr>\n",
       "</tbody>\n",
       "</table>\n"
      ],
      "text/latex": [
       "\\begin{tabular}{r|lllllllllllllllllllllllll}\n",
       " ID & LIMIT\\_BAL & SEX & EDUCATION & MARRIAGE & AGE & PAY\\_0 & PAY\\_2 & PAY\\_3 & PAY\\_4 & ... & BILL\\_AMT4 & BILL\\_AMT5 & BILL\\_AMT6 & PAY\\_AMT1 & PAY\\_AMT2 & PAY\\_AMT3 & PAY\\_AMT4 & PAY\\_AMT5 & PAY\\_AMT6 & default.payment.next.month\\\\\n",
       "\\hline\n",
       "\t 1      &  20000 & Female & 2      & 1      & 24     &  2     & 2      & -1     & -1     & ...    &     0  &     0  &     0  &    0   &   689  &     0  &    0   &    0   &    0   & Yes   \\\\\n",
       "\t 2      & 120000 & Female & 2      & 2      & 26     & -1     & 2      &  0     &  0     & ...    &  3272  &  3455  &  3261  &    0   &  1000  &  1000  & 1000   &    0   & 2000   & Yes   \\\\\n",
       "\t 3      &  90000 & Female & 2      & 2      & 34     &  0     & 0      &  0     &  0     & ...    & 14331  & 14948  & 15549  & 1518   &  1500  &  1000  & 1000   & 1000   & 5000   & No    \\\\\n",
       "\t 4      &  50000 & Female & 2      & 1      & 37     &  0     & 0      &  0     &  0     & ...    & 28314  & 28959  & 29547  & 2000   &  2019  &  1200  & 1100   & 1069   & 1000   & No    \\\\\n",
       "\t 5      &  50000 & Male   & 2      & 1      & 57     & -1     & 0      & -1     &  0     & ...    & 20940  & 19146  & 19131  & 2000   & 36681  & 10000  & 9000   &  689   &  679   & No    \\\\\n",
       "\t 6      &  50000 & Male   & 1      & 2      & 37     &  0     & 0      &  0     &  0     & ...    & 19394  & 19619  & 20024  & 2500   &  1815  &   657  & 1000   & 1000   &  800   & No    \\\\\n",
       "\\end{tabular}\n"
      ],
      "text/markdown": [
       "\n",
       "| ID | LIMIT_BAL | SEX | EDUCATION | MARRIAGE | AGE | PAY_0 | PAY_2 | PAY_3 | PAY_4 | ... | BILL_AMT4 | BILL_AMT5 | BILL_AMT6 | PAY_AMT1 | PAY_AMT2 | PAY_AMT3 | PAY_AMT4 | PAY_AMT5 | PAY_AMT6 | default.payment.next.month |\n",
       "|---|---|---|---|---|---|---|---|---|---|---|---|---|---|---|---|---|---|---|---|---|\n",
       "| 1      |  20000 | Female | 2      | 1      | 24     |  2     | 2      | -1     | -1     | ...    |     0  |     0  |     0  |    0   |   689  |     0  |    0   |    0   |    0   | Yes    |\n",
       "| 2      | 120000 | Female | 2      | 2      | 26     | -1     | 2      |  0     |  0     | ...    |  3272  |  3455  |  3261  |    0   |  1000  |  1000  | 1000   |    0   | 2000   | Yes    |\n",
       "| 3      |  90000 | Female | 2      | 2      | 34     |  0     | 0      |  0     |  0     | ...    | 14331  | 14948  | 15549  | 1518   |  1500  |  1000  | 1000   | 1000   | 5000   | No     |\n",
       "| 4      |  50000 | Female | 2      | 1      | 37     |  0     | 0      |  0     |  0     | ...    | 28314  | 28959  | 29547  | 2000   |  2019  |  1200  | 1100   | 1069   | 1000   | No     |\n",
       "| 5      |  50000 | Male   | 2      | 1      | 57     | -1     | 0      | -1     |  0     | ...    | 20940  | 19146  | 19131  | 2000   | 36681  | 10000  | 9000   |  689   |  679   | No     |\n",
       "| 6      |  50000 | Male   | 1      | 2      | 37     |  0     | 0      |  0     |  0     | ...    | 19394  | 19619  | 20024  | 2500   |  1815  |   657  | 1000   | 1000   |  800   | No     |\n",
       "\n"
      ],
      "text/plain": [
       "  ID LIMIT_BAL SEX    EDUCATION MARRIAGE AGE PAY_0 PAY_2 PAY_3 PAY_4 ...\n",
       "1 1   20000    Female 2         1        24   2    2     -1    -1    ...\n",
       "2 2  120000    Female 2         2        26  -1    2      0     0    ...\n",
       "3 3   90000    Female 2         2        34   0    0      0     0    ...\n",
       "4 4   50000    Female 2         1        37   0    0      0     0    ...\n",
       "5 5   50000    Male   2         1        57  -1    0     -1     0    ...\n",
       "6 6   50000    Male   1         2        37   0    0      0     0    ...\n",
       "  BILL_AMT4 BILL_AMT5 BILL_AMT6 PAY_AMT1 PAY_AMT2 PAY_AMT3 PAY_AMT4 PAY_AMT5\n",
       "1     0         0         0        0       689        0       0        0    \n",
       "2  3272      3455      3261        0      1000     1000    1000        0    \n",
       "3 14331     14948     15549     1518      1500     1000    1000     1000    \n",
       "4 28314     28959     29547     2000      2019     1200    1100     1069    \n",
       "5 20940     19146     19131     2000     36681    10000    9000      689    \n",
       "6 19394     19619     20024     2500      1815      657    1000     1000    \n",
       "  PAY_AMT6 default.payment.next.month\n",
       "1    0     Yes                       \n",
       "2 2000     Yes                       \n",
       "3 5000     No                        \n",
       "4 1000     No                        \n",
       "5  679     No                        \n",
       "6  800     No                        "
      ]
     },
     "metadata": {},
     "output_type": "display_data"
    }
   ],
   "source": [
    "head(cc)"
   ]
  },
  {
   "cell_type": "code",
   "execution_count": 51,
   "id": "c660040c",
   "metadata": {},
   "outputs": [
    {
     "data": {
      "text/html": [
       "<table>\n",
       "<thead><tr><th scope=col>ID</th><th scope=col>LIMIT_BAL</th><th scope=col>SEX</th><th scope=col>EDUCATION</th><th scope=col>MARRIAGE</th><th scope=col>AGE</th><th scope=col>PAY_0</th><th scope=col>PAY_2</th><th scope=col>PAY_3</th><th scope=col>PAY_4</th><th scope=col>...</th><th scope=col>BILL_AMT4</th><th scope=col>BILL_AMT5</th><th scope=col>BILL_AMT6</th><th scope=col>PAY_AMT1</th><th scope=col>PAY_AMT2</th><th scope=col>PAY_AMT3</th><th scope=col>PAY_AMT4</th><th scope=col>PAY_AMT5</th><th scope=col>PAY_AMT6</th><th scope=col>default.payment.next.month</th></tr></thead>\n",
       "<tbody>\n",
       "\t<tr><td>1              </td><td> 20000         </td><td>Female         </td><td>university     </td><td>1              </td><td>24             </td><td> 2             </td><td>2              </td><td>-1             </td><td>-1             </td><td>...            </td><td>    0          </td><td>    0          </td><td>    0          </td><td>   0           </td><td>  689          </td><td>    0          </td><td>   0           </td><td>   0           </td><td>   0           </td><td>Yes            </td></tr>\n",
       "\t<tr><td>2              </td><td>120000         </td><td>Female         </td><td>university     </td><td>2              </td><td>26             </td><td>-1             </td><td>2              </td><td> 0             </td><td> 0             </td><td>...            </td><td> 3272          </td><td> 3455          </td><td> 3261          </td><td>   0           </td><td> 1000          </td><td> 1000          </td><td>1000           </td><td>   0           </td><td>2000           </td><td>Yes            </td></tr>\n",
       "\t<tr><td>3              </td><td> 90000         </td><td>Female         </td><td>university     </td><td>2              </td><td>34             </td><td> 0             </td><td>0              </td><td> 0             </td><td> 0             </td><td>...            </td><td>14331          </td><td>14948          </td><td>15549          </td><td>1518           </td><td> 1500          </td><td> 1000          </td><td>1000           </td><td>1000           </td><td>5000           </td><td>No             </td></tr>\n",
       "\t<tr><td>4              </td><td> 50000         </td><td>Female         </td><td>university     </td><td>1              </td><td>37             </td><td> 0             </td><td>0              </td><td> 0             </td><td> 0             </td><td>...            </td><td>28314          </td><td>28959          </td><td>29547          </td><td>2000           </td><td> 2019          </td><td> 1200          </td><td>1100           </td><td>1069           </td><td>1000           </td><td>No             </td></tr>\n",
       "\t<tr><td>5              </td><td> 50000         </td><td>Male           </td><td>university     </td><td>1              </td><td>57             </td><td>-1             </td><td>0              </td><td>-1             </td><td> 0             </td><td>...            </td><td>20940          </td><td>19146          </td><td>19131          </td><td>2000           </td><td>36681          </td><td>10000          </td><td>9000           </td><td> 689           </td><td> 679           </td><td>No             </td></tr>\n",
       "\t<tr><td>6              </td><td> 50000         </td><td>Male           </td><td>graduate_school</td><td>2              </td><td>37             </td><td> 0             </td><td>0              </td><td> 0             </td><td> 0             </td><td>...            </td><td>19394          </td><td>19619          </td><td>20024          </td><td>2500           </td><td> 1815          </td><td>  657          </td><td>1000           </td><td>1000           </td><td> 800           </td><td>No             </td></tr>\n",
       "</tbody>\n",
       "</table>\n"
      ],
      "text/latex": [
       "\\begin{tabular}{r|lllllllllllllllllllllllll}\n",
       " ID & LIMIT\\_BAL & SEX & EDUCATION & MARRIAGE & AGE & PAY\\_0 & PAY\\_2 & PAY\\_3 & PAY\\_4 & ... & BILL\\_AMT4 & BILL\\_AMT5 & BILL\\_AMT6 & PAY\\_AMT1 & PAY\\_AMT2 & PAY\\_AMT3 & PAY\\_AMT4 & PAY\\_AMT5 & PAY\\_AMT6 & default.payment.next.month\\\\\n",
       "\\hline\n",
       "\t 1               &  20000          & Female          & university      & 1               & 24              &  2              & 2               & -1              & -1              & ...             &     0           &     0           &     0           &    0            &   689           &     0           &    0            &    0            &    0            & Yes            \\\\\n",
       "\t 2               & 120000          & Female          & university      & 2               & 26              & -1              & 2               &  0              &  0              & ...             &  3272           &  3455           &  3261           &    0            &  1000           &  1000           & 1000            &    0            & 2000            & Yes            \\\\\n",
       "\t 3               &  90000          & Female          & university      & 2               & 34              &  0              & 0               &  0              &  0              & ...             & 14331           & 14948           & 15549           & 1518            &  1500           &  1000           & 1000            & 1000            & 5000            & No             \\\\\n",
       "\t 4               &  50000          & Female          & university      & 1               & 37              &  0              & 0               &  0              &  0              & ...             & 28314           & 28959           & 29547           & 2000            &  2019           &  1200           & 1100            & 1069            & 1000            & No             \\\\\n",
       "\t 5               &  50000          & Male            & university      & 1               & 57              & -1              & 0               & -1              &  0              & ...             & 20940           & 19146           & 19131           & 2000            & 36681           & 10000           & 9000            &  689            &  679            & No             \\\\\n",
       "\t 6                 &  50000            & Male              & graduate\\_school & 2                 & 37                &  0                & 0                 &  0                &  0                & ...               & 19394             & 19619             & 20024             & 2500              &  1815             &   657             & 1000              & 1000              &  800              & No               \\\\\n",
       "\\end{tabular}\n"
      ],
      "text/markdown": [
       "\n",
       "| ID | LIMIT_BAL | SEX | EDUCATION | MARRIAGE | AGE | PAY_0 | PAY_2 | PAY_3 | PAY_4 | ... | BILL_AMT4 | BILL_AMT5 | BILL_AMT6 | PAY_AMT1 | PAY_AMT2 | PAY_AMT3 | PAY_AMT4 | PAY_AMT5 | PAY_AMT6 | default.payment.next.month |\n",
       "|---|---|---|---|---|---|---|---|---|---|---|---|---|---|---|---|---|---|---|---|---|\n",
       "| 1               |  20000          | Female          | university      | 1               | 24              |  2              | 2               | -1              | -1              | ...             |     0           |     0           |     0           |    0            |   689           |     0           |    0            |    0            |    0            | Yes             |\n",
       "| 2               | 120000          | Female          | university      | 2               | 26              | -1              | 2               |  0              |  0              | ...             |  3272           |  3455           |  3261           |    0            |  1000           |  1000           | 1000            |    0            | 2000            | Yes             |\n",
       "| 3               |  90000          | Female          | university      | 2               | 34              |  0              | 0               |  0              |  0              | ...             | 14331           | 14948           | 15549           | 1518            |  1500           |  1000           | 1000            | 1000            | 5000            | No              |\n",
       "| 4               |  50000          | Female          | university      | 1               | 37              |  0              | 0               |  0              |  0              | ...             | 28314           | 28959           | 29547           | 2000            |  2019           |  1200           | 1100            | 1069            | 1000            | No              |\n",
       "| 5               |  50000          | Male            | university      | 1               | 57              | -1              | 0               | -1              |  0              | ...             | 20940           | 19146           | 19131           | 2000            | 36681           | 10000           | 9000            |  689            |  679            | No              |\n",
       "| 6               |  50000          | Male            | graduate_school | 2               | 37              |  0              | 0               |  0              |  0              | ...             | 19394           | 19619           | 20024           | 2500            |  1815           |   657           | 1000            | 1000            |  800            | No              |\n",
       "\n"
      ],
      "text/plain": [
       "  ID LIMIT_BAL SEX    EDUCATION       MARRIAGE AGE PAY_0 PAY_2 PAY_3 PAY_4 ...\n",
       "1 1   20000    Female university      1        24   2    2     -1    -1    ...\n",
       "2 2  120000    Female university      2        26  -1    2      0     0    ...\n",
       "3 3   90000    Female university      2        34   0    0      0     0    ...\n",
       "4 4   50000    Female university      1        37   0    0      0     0    ...\n",
       "5 5   50000    Male   university      1        57  -1    0     -1     0    ...\n",
       "6 6   50000    Male   graduate_school 2        37   0    0      0     0    ...\n",
       "  BILL_AMT4 BILL_AMT5 BILL_AMT6 PAY_AMT1 PAY_AMT2 PAY_AMT3 PAY_AMT4 PAY_AMT5\n",
       "1     0         0         0        0       689        0       0        0    \n",
       "2  3272      3455      3261        0      1000     1000    1000        0    \n",
       "3 14331     14948     15549     1518      1500     1000    1000     1000    \n",
       "4 28314     28959     29547     2000      2019     1200    1100     1069    \n",
       "5 20940     19146     19131     2000     36681    10000    9000      689    \n",
       "6 19394     19619     20024     2500      1815      657    1000     1000    \n",
       "  PAY_AMT6 default.payment.next.month\n",
       "1    0     Yes                       \n",
       "2 2000     Yes                       \n",
       "3 5000     No                        \n",
       "4 1000     No                        \n",
       "5  679     No                        \n",
       "6  800     No                        "
      ]
     },
     "metadata": {},
     "output_type": "display_data"
    }
   ],
   "source": [
    "cc$EDUCATION <- factor(cc$EDUCATION,levels=c(1,2,3,4,5,6), labels=c(\"graduate_school\", \"university\",\"high_school\",\"others\",\"unknown\",\"unknown\")) \n",
    "head(cc)"
   ]
  },
  {
   "cell_type": "code",
   "execution_count": 52,
   "id": "c4941fea",
   "metadata": {},
   "outputs": [],
   "source": [
    "cc$MARRIAGE <- factor(cc$MARRIAGE,levels=c(1,2,3), labels=c(\"married\", \"single\",\"others\")) \n"
   ]
  },
  {
   "cell_type": "code",
   "execution_count": 53,
   "id": "fc12b6d8",
   "metadata": {},
   "outputs": [
    {
     "data": {
      "text/html": [
       "<table>\n",
       "<thead><tr><th scope=col>ID</th><th scope=col>LIMIT_BAL</th><th scope=col>SEX</th><th scope=col>EDUCATION</th><th scope=col>MARRIAGE</th><th scope=col>AGE</th><th scope=col>PAY_0</th><th scope=col>PAY_2</th><th scope=col>PAY_3</th><th scope=col>PAY_4</th><th scope=col>...</th><th scope=col>BILL_AMT4</th><th scope=col>BILL_AMT5</th><th scope=col>BILL_AMT6</th><th scope=col>PAY_AMT1</th><th scope=col>PAY_AMT2</th><th scope=col>PAY_AMT3</th><th scope=col>PAY_AMT4</th><th scope=col>PAY_AMT5</th><th scope=col>PAY_AMT6</th><th scope=col>default.payment.next.month</th></tr></thead>\n",
       "<tbody>\n",
       "\t<tr><td>1              </td><td> 20000         </td><td>Female         </td><td>university     </td><td>married        </td><td>24             </td><td> 2             </td><td>2              </td><td>-1             </td><td>-1             </td><td>...            </td><td>    0          </td><td>    0          </td><td>    0          </td><td>   0           </td><td>  689          </td><td>    0          </td><td>   0           </td><td>   0           </td><td>   0           </td><td>Yes            </td></tr>\n",
       "\t<tr><td>2              </td><td>120000         </td><td>Female         </td><td>university     </td><td>single         </td><td>26             </td><td>-1             </td><td>2              </td><td> 0             </td><td> 0             </td><td>...            </td><td> 3272          </td><td> 3455          </td><td> 3261          </td><td>   0           </td><td> 1000          </td><td> 1000          </td><td>1000           </td><td>   0           </td><td>2000           </td><td>Yes            </td></tr>\n",
       "\t<tr><td>3              </td><td> 90000         </td><td>Female         </td><td>university     </td><td>single         </td><td>34             </td><td> 0             </td><td>0              </td><td> 0             </td><td> 0             </td><td>...            </td><td>14331          </td><td>14948          </td><td>15549          </td><td>1518           </td><td> 1500          </td><td> 1000          </td><td>1000           </td><td>1000           </td><td>5000           </td><td>No             </td></tr>\n",
       "\t<tr><td>4              </td><td> 50000         </td><td>Female         </td><td>university     </td><td>married        </td><td>37             </td><td> 0             </td><td>0              </td><td> 0             </td><td> 0             </td><td>...            </td><td>28314          </td><td>28959          </td><td>29547          </td><td>2000           </td><td> 2019          </td><td> 1200          </td><td>1100           </td><td>1069           </td><td>1000           </td><td>No             </td></tr>\n",
       "\t<tr><td>5              </td><td> 50000         </td><td>Male           </td><td>university     </td><td>married        </td><td>57             </td><td>-1             </td><td>0              </td><td>-1             </td><td> 0             </td><td>...            </td><td>20940          </td><td>19146          </td><td>19131          </td><td>2000           </td><td>36681          </td><td>10000          </td><td>9000           </td><td> 689           </td><td> 679           </td><td>No             </td></tr>\n",
       "\t<tr><td>6              </td><td> 50000         </td><td>Male           </td><td>graduate_school</td><td>single         </td><td>37             </td><td> 0             </td><td>0              </td><td> 0             </td><td> 0             </td><td>...            </td><td>19394          </td><td>19619          </td><td>20024          </td><td>2500           </td><td> 1815          </td><td>  657          </td><td>1000           </td><td>1000           </td><td> 800           </td><td>No             </td></tr>\n",
       "</tbody>\n",
       "</table>\n"
      ],
      "text/latex": [
       "\\begin{tabular}{r|lllllllllllllllllllllllll}\n",
       " ID & LIMIT\\_BAL & SEX & EDUCATION & MARRIAGE & AGE & PAY\\_0 & PAY\\_2 & PAY\\_3 & PAY\\_4 & ... & BILL\\_AMT4 & BILL\\_AMT5 & BILL\\_AMT6 & PAY\\_AMT1 & PAY\\_AMT2 & PAY\\_AMT3 & PAY\\_AMT4 & PAY\\_AMT5 & PAY\\_AMT6 & default.payment.next.month\\\\\n",
       "\\hline\n",
       "\t 1               &  20000          & Female          & university      & married         & 24              &  2              & 2               & -1              & -1              & ...             &     0           &     0           &     0           &    0            &   689           &     0           &    0            &    0            &    0            & Yes            \\\\\n",
       "\t 2               & 120000          & Female          & university      & single          & 26              & -1              & 2               &  0              &  0              & ...             &  3272           &  3455           &  3261           &    0            &  1000           &  1000           & 1000            &    0            & 2000            & Yes            \\\\\n",
       "\t 3               &  90000          & Female          & university      & single          & 34              &  0              & 0               &  0              &  0              & ...             & 14331           & 14948           & 15549           & 1518            &  1500           &  1000           & 1000            & 1000            & 5000            & No             \\\\\n",
       "\t 4               &  50000          & Female          & university      & married         & 37              &  0              & 0               &  0              &  0              & ...             & 28314           & 28959           & 29547           & 2000            &  2019           &  1200           & 1100            & 1069            & 1000            & No             \\\\\n",
       "\t 5               &  50000          & Male            & university      & married         & 57              & -1              & 0               & -1              &  0              & ...             & 20940           & 19146           & 19131           & 2000            & 36681           & 10000           & 9000            &  689            &  679            & No             \\\\\n",
       "\t 6                 &  50000            & Male              & graduate\\_school & single            & 37                &  0                & 0                 &  0                &  0                & ...               & 19394             & 19619             & 20024             & 2500              &  1815             &   657             & 1000              & 1000              &  800              & No               \\\\\n",
       "\\end{tabular}\n"
      ],
      "text/markdown": [
       "\n",
       "| ID | LIMIT_BAL | SEX | EDUCATION | MARRIAGE | AGE | PAY_0 | PAY_2 | PAY_3 | PAY_4 | ... | BILL_AMT4 | BILL_AMT5 | BILL_AMT6 | PAY_AMT1 | PAY_AMT2 | PAY_AMT3 | PAY_AMT4 | PAY_AMT5 | PAY_AMT6 | default.payment.next.month |\n",
       "|---|---|---|---|---|---|---|---|---|---|---|---|---|---|---|---|---|---|---|---|---|\n",
       "| 1               |  20000          | Female          | university      | married         | 24              |  2              | 2               | -1              | -1              | ...             |     0           |     0           |     0           |    0            |   689           |     0           |    0            |    0            |    0            | Yes             |\n",
       "| 2               | 120000          | Female          | university      | single          | 26              | -1              | 2               |  0              |  0              | ...             |  3272           |  3455           |  3261           |    0            |  1000           |  1000           | 1000            |    0            | 2000            | Yes             |\n",
       "| 3               |  90000          | Female          | university      | single          | 34              |  0              | 0               |  0              |  0              | ...             | 14331           | 14948           | 15549           | 1518            |  1500           |  1000           | 1000            | 1000            | 5000            | No              |\n",
       "| 4               |  50000          | Female          | university      | married         | 37              |  0              | 0               |  0              |  0              | ...             | 28314           | 28959           | 29547           | 2000            |  2019           |  1200           | 1100            | 1069            | 1000            | No              |\n",
       "| 5               |  50000          | Male            | university      | married         | 57              | -1              | 0               | -1              |  0              | ...             | 20940           | 19146           | 19131           | 2000            | 36681           | 10000           | 9000            |  689            |  679            | No              |\n",
       "| 6               |  50000          | Male            | graduate_school | single          | 37              |  0              | 0               |  0              |  0              | ...             | 19394           | 19619           | 20024           | 2500            |  1815           |   657           | 1000            | 1000            |  800            | No              |\n",
       "\n"
      ],
      "text/plain": [
       "  ID LIMIT_BAL SEX    EDUCATION       MARRIAGE AGE PAY_0 PAY_2 PAY_3 PAY_4 ...\n",
       "1 1   20000    Female university      married  24   2    2     -1    -1    ...\n",
       "2 2  120000    Female university      single   26  -1    2      0     0    ...\n",
       "3 3   90000    Female university      single   34   0    0      0     0    ...\n",
       "4 4   50000    Female university      married  37   0    0      0     0    ...\n",
       "5 5   50000    Male   university      married  57  -1    0     -1     0    ...\n",
       "6 6   50000    Male   graduate_school single   37   0    0      0     0    ...\n",
       "  BILL_AMT4 BILL_AMT5 BILL_AMT6 PAY_AMT1 PAY_AMT2 PAY_AMT3 PAY_AMT4 PAY_AMT5\n",
       "1     0         0         0        0       689        0       0        0    \n",
       "2  3272      3455      3261        0      1000     1000    1000        0    \n",
       "3 14331     14948     15549     1518      1500     1000    1000     1000    \n",
       "4 28314     28959     29547     2000      2019     1200    1100     1069    \n",
       "5 20940     19146     19131     2000     36681    10000    9000      689    \n",
       "6 19394     19619     20024     2500      1815      657    1000     1000    \n",
       "  PAY_AMT6 default.payment.next.month\n",
       "1    0     Yes                       \n",
       "2 2000     Yes                       \n",
       "3 5000     No                        \n",
       "4 1000     No                        \n",
       "5  679     No                        \n",
       "6  800     No                        "
      ]
     },
     "metadata": {},
     "output_type": "display_data"
    }
   ],
   "source": [
    "head(cc)"
   ]
  },
  {
   "cell_type": "code",
   "execution_count": null,
   "id": "6aeacccc",
   "metadata": {},
   "outputs": [],
   "source": []
  },
  {
   "cell_type": "code",
   "execution_count": 57,
   "id": "c9b2a1fa",
   "metadata": {},
   "outputs": [
    {
     "data": {
      "image/png": "[encoded data removed]",
      "text/plain": [
       "plot without title"
      ]
     },
     "metadata": {},
     "output_type": "display_data"
    }
   ],
   "source": [
    "education<-ggplot(data=cc, aes(x=EDUCATION, fill = as.factor(default.payment.next.month)))    +geom_bar(position=\"dodge\")  + \n",
    "  geom_text(stat='count', aes(label=..count.., vjust = -1), size = 3, position = position_dodge(width=.9))+\n",
    " ggtitle(\"Bar Plot to show distribution of Education by default payers\")+ theme(axis.text.x = element_text(angle = 45,hjust=1))\n",
    "education"
   ]
  },
  {
   "cell_type": "code",
   "execution_count": 59,
   "id": "d5c2a93b",
   "metadata": {},
   "outputs": [
    {
     "data": {
      "image/png": "[encoded data removed]",
      "text/plain": [
       "plot without title"
      ]
     },
     "metadata": {},
     "output_type": "display_data"
    }
   ],
   "source": [
    "sex_class<-ggplot(data=cc, aes(x=SEX, fill = as.factor(default.payment.next.month)))    +geom_bar(position=\"dodge\")  + \n",
    "  geom_text(stat='count', aes(label=..count.., vjust = -1), size = 3, position = position_dodge(width=.9))+\n",
    "ggtitle(\"Bar Plot to show distribution of Sex by default payers\")\n",
    "\n",
    "sex_class"
   ]
  },
  {
   "cell_type": "code",
   "execution_count": 61,
   "id": "e9fb69a2",
   "metadata": {
    "scrolled": true
   },
   "outputs": [
    {
     "data": {
      "image/png": "[encoded data removed]",
      "text/plain": [
       "plot without title"
      ]
     },
     "metadata": {},
     "output_type": "display_data"
    }
   ],
   "source": [
    "marriage_class<-ggplot(data=cc, aes(x=MARRIAGE, fill = as.factor(default.payment.next.month)))    +geom_bar(position=\"dodge\")  + \n",
    "  geom_text(stat='count', aes(label=..count.., vjust = -1), size = 3, position = position_dodge(width=.9))+\n",
    "ggtitle(\"Bar Plot to show distribution of Marital status by default payers\")\n",
    "\n",
    "marriage_class"
   ]
  },
  {
   "cell_type": "code",
   "execution_count": 62,
   "id": "a75f8395",
   "metadata": {},
   "outputs": [],
   "source": [
    "train <- cc[sample(nrow(cc), 5000), ] "
   ]
  },
  {
   "cell_type": "code",
   "execution_count": 64,
   "id": "3ede3bde",
   "metadata": {
    "scrolled": true
   },
   "outputs": [
    {
     "data": {
      "text/html": [
       "<table>\n",
       "<thead><tr><th></th><th scope=col>ID</th><th scope=col>LIMIT_BAL</th><th scope=col>SEX</th><th scope=col>EDUCATION</th><th scope=col>MARRIAGE</th><th scope=col>AGE</th><th scope=col>PAY_0</th><th scope=col>PAY_2</th><th scope=col>PAY_3</th><th scope=col>PAY_4</th><th scope=col>...</th><th scope=col>BILL_AMT4</th><th scope=col>BILL_AMT5</th><th scope=col>BILL_AMT6</th><th scope=col>PAY_AMT1</th><th scope=col>PAY_AMT2</th><th scope=col>PAY_AMT3</th><th scope=col>PAY_AMT4</th><th scope=col>PAY_AMT5</th><th scope=col>PAY_AMT6</th><th scope=col>default.payment.next.month</th></tr></thead>\n",
       "<tbody>\n",
       "\t<tr><th scope=row>18939</th><td>18939          </td><td> 50000         </td><td>Female         </td><td>university     </td><td>married        </td><td>28             </td><td> 0             </td><td> 0             </td><td> 0             </td><td> 2             </td><td>...            </td><td>43238          </td><td>30248          </td><td>27447          </td><td> 3000          </td><td> 6000          </td><td>    0          </td><td> 3500          </td><td>    0          </td><td> 1100          </td><td>No             </td></tr>\n",
       "\t<tr><th scope=row>7997</th><td> 7997          </td><td> 30000         </td><td>Male           </td><td>graduate_school</td><td>married        </td><td>30             </td><td> 0             </td><td> 0             </td><td> 0             </td><td> 0             </td><td>...            </td><td>16378          </td><td>16961          </td><td>19669          </td><td> 3000          </td><td> 2000          </td><td> 2000          </td><td> 1000          </td><td> 3000          </td><td> 1000          </td><td>No             </td></tr>\n",
       "\t<tr><th scope=row>1194</th><td> 1194          </td><td>200000         </td><td>Male           </td><td>graduate_school</td><td>married        </td><td>37             </td><td> 0             </td><td> 0             </td><td> 0             </td><td> 0             </td><td>...            </td><td>21171          </td><td>17762          </td><td>23670          </td><td>11202          </td><td>19275          </td><td>22304          </td><td>23850          </td><td>23784          </td><td>84430          </td><td>No             </td></tr>\n",
       "\t<tr><th scope=row>15748</th><td>15748          </td><td>100000         </td><td>Female         </td><td>university     </td><td>single         </td><td>22             </td><td> 1             </td><td> 2             </td><td> 0             </td><td> 0             </td><td>...            </td><td>97696          </td><td>90605          </td><td>85293          </td><td>    0          </td><td> 5000          </td><td> 3000          </td><td> 2113          </td><td> 2995          </td><td>  139          </td><td>No             </td></tr>\n",
       "\t<tr><th scope=row>26065</th><td>26065          </td><td>210000         </td><td>Female         </td><td>graduate_school</td><td>single         </td><td>29             </td><td>-1             </td><td>-1             </td><td>-1             </td><td>-1             </td><td>...            </td><td> 3764          </td><td> 2221          </td><td>  266          </td><td>  484          </td><td>  980          </td><td> 4000          </td><td>  266          </td><td>    0          </td><td> 1913          </td><td>No             </td></tr>\n",
       "\t<tr><th scope=row>7437</th><td> 7437          </td><td> 30000         </td><td>Female         </td><td>graduate_school</td><td>single         </td><td>24             </td><td> 2             </td><td> 2             </td><td> 2             </td><td> 0             </td><td>...            </td><td>15868          </td><td>16657          </td><td>13998          </td><td> 4500          </td><td>    0          </td><td> 1000          </td><td> 1000          </td><td>  668          </td><td>  203          </td><td>Yes            </td></tr>\n",
       "</tbody>\n",
       "</table>\n"
      ],
      "text/latex": [
       "\\begin{tabular}{r|lllllllllllllllllllllllll}\n",
       "  & ID & LIMIT\\_BAL & SEX & EDUCATION & MARRIAGE & AGE & PAY\\_0 & PAY\\_2 & PAY\\_3 & PAY\\_4 & ... & BILL\\_AMT4 & BILL\\_AMT5 & BILL\\_AMT6 & PAY\\_AMT1 & PAY\\_AMT2 & PAY\\_AMT3 & PAY\\_AMT4 & PAY\\_AMT5 & PAY\\_AMT6 & default.payment.next.month\\\\\n",
       "\\hline\n",
       "\t18939 & 18939           &  50000          & Female          & university      & married         & 28              &  0              &  0              &  0              &  2              & ...             & 43238           & 30248           & 27447           &  3000           &  6000           &     0           &  3500           &     0           &  1100           & No             \\\\\n",
       "\t7997 &  7997             &  30000            & Male              & graduate\\_school & married           & 30                &  0                &  0                &  0                &  0                & ...               & 16378             & 16961             & 19669             &  3000             &  2000             &  2000             &  1000             &  3000             &  1000             & No               \\\\\n",
       "\t1194 &  1194             & 200000            & Male              & graduate\\_school & married           & 37                &  0                &  0                &  0                &  0                & ...               & 21171             & 17762             & 23670             & 11202             & 19275             & 22304             & 23850             & 23784             & 84430             & No               \\\\\n",
       "\t15748 & 15748           & 100000          & Female          & university      & single          & 22              &  1              &  2              &  0              &  0              & ...             & 97696           & 90605           & 85293           &     0           &  5000           &  3000           &  2113           &  2995           &   139           & No             \\\\\n",
       "\t26065 & 26065             & 210000            & Female            & graduate\\_school & single            & 29                & -1                & -1                & -1                & -1                & ...               &  3764             &  2221             &   266             &   484             &   980             &  4000             &   266             &     0             &  1913             & No               \\\\\n",
       "\t7437 &  7437             &  30000            & Female            & graduate\\_school & single            & 24                &  2                &  2                &  2                &  0                & ...               & 15868             & 16657             & 13998             &  4500             &     0             &  1000             &  1000             &   668             &   203             & Yes              \\\\\n",
       "\\end{tabular}\n"
      ],
      "text/markdown": [
       "\n",
       "| <!--/--> | ID | LIMIT_BAL | SEX | EDUCATION | MARRIAGE | AGE | PAY_0 | PAY_2 | PAY_3 | PAY_4 | ... | BILL_AMT4 | BILL_AMT5 | BILL_AMT6 | PAY_AMT1 | PAY_AMT2 | PAY_AMT3 | PAY_AMT4 | PAY_AMT5 | PAY_AMT6 | default.payment.next.month |\n",
       "|---|---|---|---|---|---|---|---|---|---|---|---|---|---|---|---|---|---|---|---|---|---|\n",
       "| 18939 | 18939           |  50000          | Female          | university      | married         | 28              |  0              |  0              |  0              |  2              | ...             | 43238           | 30248           | 27447           |  3000           |  6000           |     0           |  3500           |     0           |  1100           | No              |\n",
       "| 7997 |  7997           |  30000          | Male            | graduate_school | married         | 30              |  0              |  0              |  0              |  0              | ...             | 16378           | 16961           | 19669           |  3000           |  2000           |  2000           |  1000           |  3000           |  1000           | No              |\n",
       "| 1194 |  1194           | 200000          | Male            | graduate_school | married         | 37              |  0              |  0              |  0              |  0              | ...             | 21171           | 17762           | 23670           | 11202           | 19275           | 22304           | 23850           | 23784           | 84430           | No              |\n",
       "| 15748 | 15748           | 100000          | Female          | university      | single          | 22              |  1              |  2              |  0              |  0              | ...             | 97696           | 90605           | 85293           |     0           |  5000           |  3000           |  2113           |  2995           |   139           | No              |\n",
       "| 26065 | 26065           | 210000          | Female          | graduate_school | single          | 29              | -1              | -1              | -1              | -1              | ...             |  3764           |  2221           |   266           |   484           |   980           |  4000           |   266           |     0           |  1913           | No              |\n",
       "| 7437 |  7437           |  30000          | Female          | graduate_school | single          | 24              |  2              |  2              |  2              |  0              | ...             | 15868           | 16657           | 13998           |  4500           |     0           |  1000           |  1000           |   668           |   203           | Yes             |\n",
       "\n"
      ],
      "text/plain": [
       "      ID    LIMIT_BAL SEX    EDUCATION       MARRIAGE AGE PAY_0 PAY_2 PAY_3\n",
       "18939 18939  50000    Female university      married  28   0     0     0   \n",
       "7997   7997  30000    Male   graduate_school married  30   0     0     0   \n",
       "1194   1194 200000    Male   graduate_school married  37   0     0     0   \n",
       "15748 15748 100000    Female university      single   22   1     2     0   \n",
       "26065 26065 210000    Female graduate_school single   29  -1    -1    -1   \n",
       "7437   7437  30000    Female graduate_school single   24   2     2     2   \n",
       "      PAY_4 ... BILL_AMT4 BILL_AMT5 BILL_AMT6 PAY_AMT1 PAY_AMT2 PAY_AMT3\n",
       "18939  2    ... 43238     30248     27447      3000     6000        0   \n",
       "7997   0    ... 16378     16961     19669      3000     2000     2000   \n",
       "1194   0    ... 21171     17762     23670     11202    19275    22304   \n",
       "15748  0    ... 97696     90605     85293         0     5000     3000   \n",
       "26065 -1    ...  3764      2221       266       484      980     4000   \n",
       "7437   0    ... 15868     16657     13998      4500        0     1000   \n",
       "      PAY_AMT4 PAY_AMT5 PAY_AMT6 default.payment.next.month\n",
       "18939  3500        0     1100    No                        \n",
       "7997   1000     3000     1000    No                        \n",
       "1194  23850    23784    84430    No                        \n",
       "15748  2113     2995      139    No                        \n",
       "26065   266        0     1913    No                        \n",
       "7437   1000      668      203    Yes                       "
      ]
     },
     "metadata": {},
     "output_type": "display_data"
    }
   ],
   "source": [
    "head(train)"
   ]
  },
  {
   "cell_type": "code",
   "execution_count": 76,
   "id": "324fd355",
   "metadata": {},
   "outputs": [
    {
     "data": {
      "text/html": [
       "<table>\n",
       "<thead><tr><th></th><th scope=col>ID</th><th scope=col>LIMIT_BAL</th><th scope=col>SEX</th><th scope=col>EDUCATION</th><th scope=col>MARRIAGE</th><th scope=col>AGE</th><th scope=col>PAY_0</th><th scope=col>PAY_2</th><th scope=col>PAY_3</th><th scope=col>PAY_4</th><th scope=col>...</th><th scope=col>BILL_AMT4</th><th scope=col>BILL_AMT5</th><th scope=col>BILL_AMT6</th><th scope=col>PAY_AMT1</th><th scope=col>PAY_AMT2</th><th scope=col>PAY_AMT3</th><th scope=col>PAY_AMT4</th><th scope=col>PAY_AMT5</th><th scope=col>PAY_AMT6</th><th scope=col>default.payment.next.month</th></tr></thead>\n",
       "<tbody>\n",
       "\t<tr><th scope=row>254</th><td>  254          </td><td>160000         </td><td>Female         </td><td>graduate_school</td><td>single         </td><td>28             </td><td> 0             </td><td>0              </td><td>0              </td><td>0              </td><td>...            </td><td> 7222          </td><td>99669          </td><td>84426          </td><td>7042           </td><td>2000           </td><td>1000           </td><td>99669          </td><td>12600          </td><td>10000          </td><td>No             </td></tr>\n",
       "\t<tr><th scope=row>25358</th><td>25358          </td><td>180000         </td><td>Female         </td><td>graduate_school</td><td>single         </td><td>25             </td><td>-1             </td><td>0              </td><td>0              </td><td>0              </td><td>...            </td><td>47383          </td><td>32876          </td><td>28915          </td><td>1867           </td><td>2501           </td><td>1271           </td><td>  926          </td><td>  876          </td><td> 3004          </td><td>No             </td></tr>\n",
       "\t<tr><th scope=row>67</th><td>   67          </td><td> 10000         </td><td>Male           </td><td>university     </td><td>married        </td><td>56             </td><td> 2             </td><td>2              </td><td>2              </td><td>0              </td><td>...            </td><td> 4062          </td><td> 4196          </td><td> 4326          </td><td>2300           </td><td>   0           </td><td> 150           </td><td>  200          </td><td>  200          </td><td>  160          </td><td>Yes            </td></tr>\n",
       "\t<tr><th scope=row>7437</th><td> 7437          </td><td> 30000         </td><td>Female         </td><td>graduate_school</td><td>single         </td><td>24             </td><td> 2             </td><td>2              </td><td>2              </td><td>0              </td><td>...            </td><td>15868          </td><td>16657          </td><td>13998          </td><td>4500           </td><td>   0           </td><td>1000           </td><td> 1000          </td><td>  668          </td><td>  203          </td><td>Yes            </td></tr>\n",
       "</tbody>\n",
       "</table>\n"
      ],
      "text/latex": [
       "\\begin{tabular}{r|lllllllllllllllllllllllll}\n",
       "  & ID & LIMIT\\_BAL & SEX & EDUCATION & MARRIAGE & AGE & PAY\\_0 & PAY\\_2 & PAY\\_3 & PAY\\_4 & ... & BILL\\_AMT4 & BILL\\_AMT5 & BILL\\_AMT6 & PAY\\_AMT1 & PAY\\_AMT2 & PAY\\_AMT3 & PAY\\_AMT4 & PAY\\_AMT5 & PAY\\_AMT6 & default.payment.next.month\\\\\n",
       "\\hline\n",
       "\t254 &   254             & 160000            & Female            & graduate\\_school & single            & 28                &  0                & 0                 & 0                 & 0                 & ...               &  7222             & 99669             & 84426             & 7042              & 2000              & 1000              & 99669             & 12600             & 10000             & No               \\\\\n",
       "\t25358 & 25358             & 180000            & Female            & graduate\\_school & single            & 25                & -1                & 0                 & 0                 & 0                 & ...               & 47383             & 32876             & 28915             & 1867              & 2501              & 1271              &   926             &   876             &  3004             & No               \\\\\n",
       "\t67 &    67           &  10000          & Male            & university      & married         & 56              &  2              & 2               & 2               & 0               & ...             &  4062           &  4196           &  4326           & 2300            &    0            &  150            &   200           &   200           &   160           & Yes            \\\\\n",
       "\t7437 &  7437             &  30000            & Female            & graduate\\_school & single            & 24                &  2                & 2                 & 2                 & 0                 & ...               & 15868             & 16657             & 13998             & 4500              &    0              & 1000              &  1000             &   668             &   203             & Yes              \\\\\n",
       "\\end{tabular}\n"
      ],
      "text/markdown": [
       "\n",
       "| <!--/--> | ID | LIMIT_BAL | SEX | EDUCATION | MARRIAGE | AGE | PAY_0 | PAY_2 | PAY_3 | PAY_4 | ... | BILL_AMT4 | BILL_AMT5 | BILL_AMT6 | PAY_AMT1 | PAY_AMT2 | PAY_AMT3 | PAY_AMT4 | PAY_AMT5 | PAY_AMT6 | default.payment.next.month |\n",
       "|---|---|---|---|---|---|---|---|---|---|---|---|---|---|---|---|---|---|---|---|---|---|\n",
       "| 254 |   254           | 160000          | Female          | graduate_school | single          | 28              |  0              | 0               | 0               | 0               | ...             |  7222           | 99669           | 84426           | 7042            | 2000            | 1000            | 99669           | 12600           | 10000           | No              |\n",
       "| 25358 | 25358           | 180000          | Female          | graduate_school | single          | 25              | -1              | 0               | 0               | 0               | ...             | 47383           | 32876           | 28915           | 1867            | 2501            | 1271            |   926           |   876           |  3004           | No              |\n",
       "| 67 |    67           |  10000          | Male            | university      | married         | 56              |  2              | 2               | 2               | 0               | ...             |  4062           |  4196           |  4326           | 2300            |    0            |  150            |   200           |   200           |   160           | Yes             |\n",
       "| 7437 |  7437           |  30000          | Female          | graduate_school | single          | 24              |  2              | 2               | 2               | 0               | ...             | 15868           | 16657           | 13998           | 4500            |    0            | 1000            |  1000           |   668           |   203           | Yes             |\n",
       "\n"
      ],
      "text/plain": [
       "      ID    LIMIT_BAL SEX    EDUCATION       MARRIAGE AGE PAY_0 PAY_2 PAY_3\n",
       "254     254 160000    Female graduate_school single   28   0    0     0    \n",
       "25358 25358 180000    Female graduate_school single   25  -1    0     0    \n",
       "67       67  10000    Male   university      married  56   2    2     2    \n",
       "7437   7437  30000    Female graduate_school single   24   2    2     2    \n",
       "      PAY_4 ... BILL_AMT4 BILL_AMT5 BILL_AMT6 PAY_AMT1 PAY_AMT2 PAY_AMT3\n",
       "254   0     ...  7222     99669     84426     7042     2000     1000    \n",
       "25358 0     ... 47383     32876     28915     1867     2501     1271    \n",
       "67    0     ...  4062      4196      4326     2300        0      150    \n",
       "7437  0     ... 15868     16657     13998     4500        0     1000    \n",
       "      PAY_AMT4 PAY_AMT5 PAY_AMT6 default.payment.next.month\n",
       "254   99669    12600    10000    No                        \n",
       "25358   926      876     3004    No                        \n",
       "67      200      200      160    Yes                       \n",
       "7437   1000      668      203    Yes                       "
      ]
     },
     "metadata": {},
     "output_type": "display_data"
    }
   ],
   "source": [
    "test <- cc[c(254,25358,67,7437),]      # please do NOT copy the exact numbers here, use your own numbers!!!\n",
    "head(test)"
   ]
  },
  {
   "cell_type": "code",
   "execution_count": 77,
   "id": "ffef9327",
   "metadata": {
    "scrolled": true
   },
   "outputs": [
    {
     "data": {
      "text/plain": [
       "\n",
       "Naive Bayes Classifier for Discrete Predictors\n",
       "\n",
       "Call:\n",
       "naiveBayes.default(x = X, y = Y, laplace = laplace)\n",
       "\n",
       "A-priori probabilities:\n",
       "Y\n",
       "    No    Yes \n",
       "0.7728 0.2272 \n",
       "\n",
       "Conditional probabilities:\n",
       "     SEX\n",
       "Y          Male    Female\n",
       "  No  0.3687888 0.6312112\n",
       "  Yes 0.4330986 0.5669014\n",
       "\n",
       "     EDUCATION\n",
       "Y     graduate_school   university  high_school       others      unknown\n",
       "  No     0.3597513598 0.4628334628 0.1603211603 0.0051800052 0.0119140119\n",
       "  Yes    0.2984154930 0.5158450704 0.1830985915 0.0008802817 0.0017605634\n",
       "\n",
       "     MARRIAGE\n",
       "Y         married      single      others\n",
       "  No  0.449805447 0.541893645 0.008300908\n",
       "  Yes 0.481057269 0.505726872 0.013215859\n"
      ]
     },
     "metadata": {},
     "output_type": "display_data"
    }
   ],
   "source": [
    "library(e1071)\n",
    "nbDem <- naiveBayes(default.payment.next.month ~ SEX + EDUCATION + MARRIAGE, train)\n",
    "nbDem"
   ]
  },
  {
   "cell_type": "code",
   "execution_count": 78,
   "id": "e4e983a5",
   "metadata": {},
   "outputs": [
    {
     "data": {
      "text/html": [
       "<ol class=list-inline>\n",
       "\t<li>No</li>\n",
       "\t<li>No</li>\n",
       "\t<li>No</li>\n",
       "\t<li>No</li>\n",
       "</ol>\n",
       "\n",
       "<details>\n",
       "\t<summary style=display:list-item;cursor:pointer>\n",
       "\t\t<strong>Levels</strong>:\n",
       "\t</summary>\n",
       "\t<ol class=list-inline>\n",
       "\t\t<li>'No'</li>\n",
       "\t\t<li>'Yes'</li>\n",
       "\t</ol>\n",
       "</details>"
      ],
      "text/latex": [
       "\\begin{enumerate*}\n",
       "\\item No\n",
       "\\item No\n",
       "\\item No\n",
       "\\item No\n",
       "\\end{enumerate*}\n",
       "\n",
       "\\emph{Levels}: \\begin{enumerate*}\n",
       "\\item 'No'\n",
       "\\item 'Yes'\n",
       "\\end{enumerate*}\n"
      ],
      "text/markdown": [
       "1. No\n",
       "2. No\n",
       "3. No\n",
       "4. No\n",
       "\n",
       "\n",
       "\n",
       "**Levels**: 1. 'No'\n",
       "2. 'Yes'\n",
       "\n",
       "\n"
      ],
      "text/plain": [
       "[1] No No No No\n",
       "Levels: No Yes"
      ]
     },
     "metadata": {},
     "output_type": "display_data"
    }
   ],
   "source": [
    "predict(nbDem, test)\n"
   ]
  },
  {
   "cell_type": "code",
   "execution_count": 79,
   "id": "97003f47",
   "metadata": {},
   "outputs": [
    {
     "data": {
      "text/plain": [
       "\n",
       "Naive Bayes Classifier for Discrete Predictors\n",
       "\n",
       "Call:\n",
       "naiveBayes.default(x = X, y = Y, laplace = laplace)\n",
       "\n",
       "A-priori probabilities:\n",
       "Y\n",
       "    No    Yes \n",
       "0.7728 0.2272 \n",
       "\n",
       "Conditional probabilities:\n",
       "     PAY_0\n",
       "Y           [,1]      [,2]\n",
       "  No  -0.2054865 0.9750769\n",
       "  Yes  0.6760563 1.3682326\n",
       "\n",
       "     PAY_2\n",
       "Y           [,1]     [,2]\n",
       "  No  -0.2929607 1.043249\n",
       "  Yes  0.4955986 1.477579\n",
       "\n",
       "     PAY_3\n",
       "Y           [,1]     [,2]\n",
       "  No  -0.3178054 1.063568\n",
       "  Yes  0.3996479 1.477753\n"
      ]
     },
     "metadata": {},
     "output_type": "display_data"
    }
   ],
   "source": [
    "nbPay <- naiveBayes(default.payment.next.month ~ PAY_0 + PAY_2 + PAY_3, train)\n",
    "nbPay"
   ]
  },
  {
   "cell_type": "code",
   "execution_count": 81,
   "id": "f5bdca3d",
   "metadata": {},
   "outputs": [
    {
     "data": {
      "text/html": [
       "<ol class=list-inline>\n",
       "\t<li>No</li>\n",
       "\t<li>No</li>\n",
       "\t<li>Yes</li>\n",
       "\t<li>Yes</li>\n",
       "</ol>\n",
       "\n",
       "<details>\n",
       "\t<summary style=display:list-item;cursor:pointer>\n",
       "\t\t<strong>Levels</strong>:\n",
       "\t</summary>\n",
       "\t<ol class=list-inline>\n",
       "\t\t<li>'No'</li>\n",
       "\t\t<li>'Yes'</li>\n",
       "\t</ol>\n",
       "</details>"
      ],
      "text/latex": [
       "\\begin{enumerate*}\n",
       "\\item No\n",
       "\\item No\n",
       "\\item Yes\n",
       "\\item Yes\n",
       "\\end{enumerate*}\n",
       "\n",
       "\\emph{Levels}: \\begin{enumerate*}\n",
       "\\item 'No'\n",
       "\\item 'Yes'\n",
       "\\end{enumerate*}\n"
      ],
      "text/markdown": [
       "1. No\n",
       "2. No\n",
       "3. Yes\n",
       "4. Yes\n",
       "\n",
       "\n",
       "\n",
       "**Levels**: 1. 'No'\n",
       "2. 'Yes'\n",
       "\n",
       "\n"
      ],
      "text/plain": [
       "[1] No  No  Yes Yes\n",
       "Levels: No Yes"
      ]
     },
     "metadata": {},
     "output_type": "display_data"
    }
   ],
   "source": [
    "predict(nbPay, test)\n"
   ]
  },
  {
   "cell_type": "code",
   "execution_count": 98,
   "id": "0705ffe9",
   "metadata": {},
   "outputs": [
    {
     "data": {
      "text/html": [
       "<ol class=list-inline>\n",
       "\t<li>No</li>\n",
       "\t<li>No</li>\n",
       "\t<li>Yes</li>\n",
       "\t<li>Yes</li>\n",
       "</ol>\n",
       "\n",
       "<details>\n",
       "\t<summary style=display:list-item;cursor:pointer>\n",
       "\t\t<strong>Levels</strong>:\n",
       "\t</summary>\n",
       "\t<ol class=list-inline>\n",
       "\t\t<li>'No'</li>\n",
       "\t\t<li>'Yes'</li>\n",
       "\t</ol>\n",
       "</details>"
      ],
      "text/latex": [
       "\\begin{enumerate*}\n",
       "\\item No\n",
       "\\item No\n",
       "\\item Yes\n",
       "\\item Yes\n",
       "\\end{enumerate*}\n",
       "\n",
       "\\emph{Levels}: \\begin{enumerate*}\n",
       "\\item 'No'\n",
       "\\item 'Yes'\n",
       "\\end{enumerate*}\n"
      ],
      "text/markdown": [
       "1. No\n",
       "2. No\n",
       "3. Yes\n",
       "4. Yes\n",
       "\n",
       "\n",
       "\n",
       "**Levels**: 1. 'No'\n",
       "2. 'Yes'\n",
       "\n",
       "\n"
      ],
      "text/plain": [
       "[1] No  No  Yes Yes\n",
       "Levels: No Yes"
      ]
     },
     "metadata": {},
     "output_type": "display_data"
    }
   ],
   "source": [
    "nbPay <- naiveBayes(default.payment.next.month ~ PAY_0 + PAY_2 + PAY_3, train, laplace=1.5)\n",
    "predict(nbPay, test)"
   ]
  },
  {
   "cell_type": "code",
   "execution_count": 99,
   "id": "5c16ed96",
   "metadata": {},
   "outputs": [],
   "source": [
    "library(\"rpart\")\n",
    "library(\"rpart.plot\")\n",
    "dtPay <- rpart(default.payment.next.month ~ PAY_0 + PAY_2 + PAY_3,\n",
    "            method=\"class\",\n",
    "            data=train, parms=list(split='information'), \n",
    "            minsplit=20, cp=0.02)"
   ]
  },
  {
   "cell_type": "code",
   "execution_count": 100,
   "id": "1157beb4",
   "metadata": {},
   "outputs": [
    {
     "data": {
      "image/png": "[encoded data removed]",
      "text/plain": [
       "plot without title"
      ]
     },
     "metadata": {},
     "output_type": "display_data"
    }
   ],
   "source": [
    "rpart.plot(dtPay, type=4, extra=1)"
   ]
  },
  {
   "cell_type": "code",
   "execution_count": 101,
   "id": "d93db8f4",
   "metadata": {},
   "outputs": [
    {
     "data": {
      "text/html": [
       "No\n",
       "<details>\n",
       "\t<summary style=display:list-item;cursor:pointer>\n",
       "\t\t<strong>Levels</strong>:\n",
       "\t</summary>\n",
       "\t<ol class=list-inline>\n",
       "\t\t<li>'No'</li>\n",
       "\t\t<li>'Yes'</li>\n",
       "\t</ol>\n",
       "</details>"
      ],
      "text/latex": [
       "No\n",
       "\\emph{Levels}: \\begin{enumerate*}\n",
       "\\item 'No'\n",
       "\\item 'Yes'\n",
       "\\end{enumerate*}\n"
      ],
      "text/markdown": [
       "No\n",
       "**Levels**: 1. 'No'\n",
       "2. 'Yes'\n",
       "\n",
       "\n"
      ],
      "text/plain": [
       "[1] No\n",
       "Levels: No Yes"
      ]
     },
     "metadata": {},
     "output_type": "display_data"
    }
   ],
   "source": [
    "predict(nbPay, test[2,])\n"
   ]
  },
  {
   "cell_type": "code",
   "execution_count": 102,
   "id": "1d563a05",
   "metadata": {},
   "outputs": [],
   "source": [
    "dtPay <- rpart(default.payment.next.month ~ PAY_0 + PAY_2 + PAY_3,\n",
    "            method=\"class\",\n",
    "            data=train, parms=list(split='information'), \n",
    "            minsplit=20, cp=0.001)"
   ]
  },
  {
   "cell_type": "code",
   "execution_count": 103,
   "id": "bef0333d",
   "metadata": {},
   "outputs": [
    {
     "data": {
      "text/html": [
       "No\n",
       "<details>\n",
       "\t<summary style=display:list-item;cursor:pointer>\n",
       "\t\t<strong>Levels</strong>:\n",
       "\t</summary>\n",
       "\t<ol class=list-inline>\n",
       "\t\t<li>'No'</li>\n",
       "\t\t<li>'Yes'</li>\n",
       "\t</ol>\n",
       "</details>"
      ],
      "text/latex": [
       "No\n",
       "\\emph{Levels}: \\begin{enumerate*}\n",
       "\\item 'No'\n",
       "\\item 'Yes'\n",
       "\\end{enumerate*}\n"
      ],
      "text/markdown": [
       "No\n",
       "**Levels**: 1. 'No'\n",
       "2. 'Yes'\n",
       "\n",
       "\n"
      ],
      "text/plain": [
       "[1] No\n",
       "Levels: No Yes"
      ]
     },
     "metadata": {},
     "output_type": "display_data"
    },
    {
     "data": {
      "image/png": "[encoded data removed]",
      "text/plain": [
       "plot without title"
      ]
     },
     "metadata": {},
     "output_type": "display_data"
    }
   ],
   "source": [
    "rpart.plot(dtPay, type=4, extra=1)\n",
    "predict(nbPay, test[2,])\n"
   ]
  },
  {
   "cell_type": "code",
   "execution_count": null,
   "id": "b677ee8c",
   "metadata": {},
   "outputs": [],
   "source": []
  }
 ],
 "metadata": {
  "kernelspec": {
   "display_name": "R",
   "language": "R",
   "name": "ir"
  },
  "language_info": {
   "codemirror_mode": "r",
   "file_extension": ".r",
   "mimetype": "text/x-r-source",
   "name": "R",
   "pygments_lexer": "r",
   "version": "3.6.1"
  }
 },
 "nbformat": 4,
 "nbformat_minor": 5
}
