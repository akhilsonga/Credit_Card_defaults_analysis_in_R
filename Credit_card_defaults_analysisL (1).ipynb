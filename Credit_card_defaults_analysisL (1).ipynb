{
 "cells": [
  {
   "cell_type": "code",
   "execution_count": 1,
   "id": "1ef3844d",
   "metadata": {},
   "outputs": [
    {
     "name": "stderr",
     "output_type": "stream",
     "text": [
      "Warning message:\n",
      "\"package 'e1071' was built under R version 3.6.3\""
     ]
    }
   ],
   "source": [
    "library(e1071)\n",
    "library(ggplot2)"
   ]
  },
  {
   "cell_type": "code",
   "execution_count": 2,
   "id": "86750e46",
   "metadata": {
    "scrolled": false
   },
   "outputs": [
    {
     "data": {
      "text/html": [
       "<table>\n",
       "<thead><tr><th scope=col>ID</th><th scope=col>LIMIT_BAL</th><th scope=col>SEX</th><th scope=col>EDUCATION</th><th scope=col>MARRIAGE</th><th scope=col>AGE</th><th scope=col>PAY_0</th><th scope=col>PAY_2</th><th scope=col>PAY_3</th><th scope=col>PAY_4</th><th scope=col>...</th><th scope=col>BILL_AMT4</th><th scope=col>BILL_AMT5</th><th scope=col>BILL_AMT6</th><th scope=col>PAY_AMT1</th><th scope=col>PAY_AMT2</th><th scope=col>PAY_AMT3</th><th scope=col>PAY_AMT4</th><th scope=col>PAY_AMT5</th><th scope=col>PAY_AMT6</th><th scope=col>default.payment.next.month</th></tr></thead>\n",
       "<tbody>\n",
       "\t<tr><td>1     </td><td> 20000</td><td>2     </td><td>2     </td><td>1     </td><td>24    </td><td> 2    </td><td>2     </td><td>-1    </td><td>-1    </td><td>...   </td><td>    0 </td><td>    0 </td><td>    0 </td><td>   0  </td><td>  689 </td><td>    0 </td><td>   0  </td><td>   0  </td><td>   0  </td><td>1     </td></tr>\n",
       "\t<tr><td>2     </td><td>120000</td><td>2     </td><td>2     </td><td>2     </td><td>26    </td><td>-1    </td><td>2     </td><td> 0    </td><td> 0    </td><td>...   </td><td> 3272 </td><td> 3455 </td><td> 3261 </td><td>   0  </td><td> 1000 </td><td> 1000 </td><td>1000  </td><td>   0  </td><td>2000  </td><td>1     </td></tr>\n",
       "\t<tr><td>3     </td><td> 90000</td><td>2     </td><td>2     </td><td>2     </td><td>34    </td><td> 0    </td><td>0     </td><td> 0    </td><td> 0    </td><td>...   </td><td>14331 </td><td>14948 </td><td>15549 </td><td>1518  </td><td> 1500 </td><td> 1000 </td><td>1000  </td><td>1000  </td><td>5000  </td><td>0     </td></tr>\n",
       "\t<tr><td>4     </td><td> 50000</td><td>2     </td><td>2     </td><td>1     </td><td>37    </td><td> 0    </td><td>0     </td><td> 0    </td><td> 0    </td><td>...   </td><td>28314 </td><td>28959 </td><td>29547 </td><td>2000  </td><td> 2019 </td><td> 1200 </td><td>1100  </td><td>1069  </td><td>1000  </td><td>0     </td></tr>\n",
       "\t<tr><td>5     </td><td> 50000</td><td>1     </td><td>2     </td><td>1     </td><td>57    </td><td>-1    </td><td>0     </td><td>-1    </td><td> 0    </td><td>...   </td><td>20940 </td><td>19146 </td><td>19131 </td><td>2000  </td><td>36681 </td><td>10000 </td><td>9000  </td><td> 689  </td><td> 679  </td><td>0     </td></tr>\n",
       "\t<tr><td>6     </td><td> 50000</td><td>1     </td><td>1     </td><td>2     </td><td>37    </td><td> 0    </td><td>0     </td><td> 0    </td><td> 0    </td><td>...   </td><td>19394 </td><td>19619 </td><td>20024 </td><td>2500  </td><td> 1815 </td><td>  657 </td><td>1000  </td><td>1000  </td><td> 800  </td><td>0     </td></tr>\n",
       "</tbody>\n",
       "</table>\n"
      ],
      "text/latex": [
       "\\begin{tabular}{r|lllllllllllllllllllllllll}\n",
       " ID & LIMIT\\_BAL & SEX & EDUCATION & MARRIAGE & AGE & PAY\\_0 & PAY\\_2 & PAY\\_3 & PAY\\_4 & ... & BILL\\_AMT4 & BILL\\_AMT5 & BILL\\_AMT6 & PAY\\_AMT1 & PAY\\_AMT2 & PAY\\_AMT3 & PAY\\_AMT4 & PAY\\_AMT5 & PAY\\_AMT6 & default.payment.next.month\\\\\n",
       "\\hline\n",
       "\t 1      &  20000 & 2      & 2      & 1      & 24     &  2     & 2      & -1     & -1     & ...    &     0  &     0  &     0  &    0   &   689  &     0  &    0   &    0   &    0   & 1     \\\\\n",
       "\t 2      & 120000 & 2      & 2      & 2      & 26     & -1     & 2      &  0     &  0     & ...    &  3272  &  3455  &  3261  &    0   &  1000  &  1000  & 1000   &    0   & 2000   & 1     \\\\\n",
       "\t 3      &  90000 & 2      & 2      & 2      & 34     &  0     & 0      &  0     &  0     & ...    & 14331  & 14948  & 15549  & 1518   &  1500  &  1000  & 1000   & 1000   & 5000   & 0     \\\\\n",
       "\t 4      &  50000 & 2      & 2      & 1      & 37     &  0     & 0      &  0     &  0     & ...    & 28314  & 28959  & 29547  & 2000   &  2019  &  1200  & 1100   & 1069   & 1000   & 0     \\\\\n",
       "\t 5      &  50000 & 1      & 2      & 1      & 57     & -1     & 0      & -1     &  0     & ...    & 20940  & 19146  & 19131  & 2000   & 36681  & 10000  & 9000   &  689   &  679   & 0     \\\\\n",
       "\t 6      &  50000 & 1      & 1      & 2      & 37     &  0     & 0      &  0     &  0     & ...    & 19394  & 19619  & 20024  & 2500   &  1815  &   657  & 1000   & 1000   &  800   & 0     \\\\\n",
       "\\end{tabular}\n"
      ],
      "text/markdown": [
       "\n",
       "| ID | LIMIT_BAL | SEX | EDUCATION | MARRIAGE | AGE | PAY_0 | PAY_2 | PAY_3 | PAY_4 | ... | BILL_AMT4 | BILL_AMT5 | BILL_AMT6 | PAY_AMT1 | PAY_AMT2 | PAY_AMT3 | PAY_AMT4 | PAY_AMT5 | PAY_AMT6 | default.payment.next.month |\n",
       "|---|---|---|---|---|---|---|---|---|---|---|---|---|---|---|---|---|---|---|---|---|\n",
       "| 1      |  20000 | 2      | 2      | 1      | 24     |  2     | 2      | -1     | -1     | ...    |     0  |     0  |     0  |    0   |   689  |     0  |    0   |    0   |    0   | 1      |\n",
       "| 2      | 120000 | 2      | 2      | 2      | 26     | -1     | 2      |  0     |  0     | ...    |  3272  |  3455  |  3261  |    0   |  1000  |  1000  | 1000   |    0   | 2000   | 1      |\n",
       "| 3      |  90000 | 2      | 2      | 2      | 34     |  0     | 0      |  0     |  0     | ...    | 14331  | 14948  | 15549  | 1518   |  1500  |  1000  | 1000   | 1000   | 5000   | 0      |\n",
       "| 4      |  50000 | 2      | 2      | 1      | 37     |  0     | 0      |  0     |  0     | ...    | 28314  | 28959  | 29547  | 2000   |  2019  |  1200  | 1100   | 1069   | 1000   | 0      |\n",
       "| 5      |  50000 | 1      | 2      | 1      | 57     | -1     | 0      | -1     |  0     | ...    | 20940  | 19146  | 19131  | 2000   | 36681  | 10000  | 9000   |  689   |  679   | 0      |\n",
       "| 6      |  50000 | 1      | 1      | 2      | 37     |  0     | 0      |  0     |  0     | ...    | 19394  | 19619  | 20024  | 2500   |  1815  |   657  | 1000   | 1000   |  800   | 0      |\n",
       "\n"
      ],
      "text/plain": [
       "  ID LIMIT_BAL SEX EDUCATION MARRIAGE AGE PAY_0 PAY_2 PAY_3 PAY_4 ... BILL_AMT4\n",
       "1 1   20000    2   2         1        24   2    2     -1    -1    ...     0    \n",
       "2 2  120000    2   2         2        26  -1    2      0     0    ...  3272    \n",
       "3 3   90000    2   2         2        34   0    0      0     0    ... 14331    \n",
       "4 4   50000    2   2         1        37   0    0      0     0    ... 28314    \n",
       "5 5   50000    1   2         1        57  -1    0     -1     0    ... 20940    \n",
       "6 6   50000    1   1         2        37   0    0      0     0    ... 19394    \n",
       "  BILL_AMT5 BILL_AMT6 PAY_AMT1 PAY_AMT2 PAY_AMT3 PAY_AMT4 PAY_AMT5 PAY_AMT6\n",
       "1     0         0        0       689        0       0        0        0    \n",
       "2  3455      3261        0      1000     1000    1000        0     2000    \n",
       "3 14948     15549     1518      1500     1000    1000     1000     5000    \n",
       "4 28959     29547     2000      2019     1200    1100     1069     1000    \n",
       "5 19146     19131     2000     36681    10000    9000      689      679    \n",
       "6 19619     20024     2500      1815      657    1000     1000      800    \n",
       "  default.payment.next.month\n",
       "1 1                         \n",
       "2 1                         \n",
       "3 0                         \n",
       "4 0                         \n",
       "5 0                         \n",
       "6 0                         "
      ]
     },
     "metadata": {},
     "output_type": "display_data"
    }
   ],
   "source": [
    "cc <- read.csv(\"C:/Users/akhil/Downloads/UCI_Credit_Card.csv\")\n",
    "head(cc)"
   ]
  },
  {
   "cell_type": "code",
   "execution_count": 3,
   "id": "57644b6c",
   "metadata": {},
   "outputs": [],
   "source": [
    "cc$default.payment.next.month <- factor(cc$default.payment.next.month,levels=c(0,1), labels=c(\"No\",\"Yes\"))"
   ]
  },
  {
   "cell_type": "code",
   "execution_count": 4,
   "id": "730befa1",
   "metadata": {
    "scrolled": true
   },
   "outputs": [
    {
     "data": {
      "text/html": [
       "<table>\n",
       "<thead><tr><th scope=col>ID</th><th scope=col>LIMIT_BAL</th><th scope=col>SEX</th><th scope=col>EDUCATION</th><th scope=col>MARRIAGE</th><th scope=col>AGE</th><th scope=col>PAY_0</th><th scope=col>PAY_2</th><th scope=col>PAY_3</th><th scope=col>PAY_4</th><th scope=col>...</th><th scope=col>BILL_AMT4</th><th scope=col>BILL_AMT5</th><th scope=col>BILL_AMT6</th><th scope=col>PAY_AMT1</th><th scope=col>PAY_AMT2</th><th scope=col>PAY_AMT3</th><th scope=col>PAY_AMT4</th><th scope=col>PAY_AMT5</th><th scope=col>PAY_AMT6</th><th scope=col>default.payment.next.month</th></tr></thead>\n",
       "<tbody>\n",
       "\t<tr><td>1     </td><td> 20000</td><td>2     </td><td>2     </td><td>1     </td><td>24    </td><td> 2    </td><td>2     </td><td>-1    </td><td>-1    </td><td>...   </td><td>    0 </td><td>    0 </td><td>    0 </td><td>   0  </td><td>  689 </td><td>    0 </td><td>   0  </td><td>   0  </td><td>   0  </td><td>Yes   </td></tr>\n",
       "\t<tr><td>2     </td><td>120000</td><td>2     </td><td>2     </td><td>2     </td><td>26    </td><td>-1    </td><td>2     </td><td> 0    </td><td> 0    </td><td>...   </td><td> 3272 </td><td> 3455 </td><td> 3261 </td><td>   0  </td><td> 1000 </td><td> 1000 </td><td>1000  </td><td>   0  </td><td>2000  </td><td>Yes   </td></tr>\n",
       "\t<tr><td>3     </td><td> 90000</td><td>2     </td><td>2     </td><td>2     </td><td>34    </td><td> 0    </td><td>0     </td><td> 0    </td><td> 0    </td><td>...   </td><td>14331 </td><td>14948 </td><td>15549 </td><td>1518  </td><td> 1500 </td><td> 1000 </td><td>1000  </td><td>1000  </td><td>5000  </td><td>No    </td></tr>\n",
       "\t<tr><td>4     </td><td> 50000</td><td>2     </td><td>2     </td><td>1     </td><td>37    </td><td> 0    </td><td>0     </td><td> 0    </td><td> 0    </td><td>...   </td><td>28314 </td><td>28959 </td><td>29547 </td><td>2000  </td><td> 2019 </td><td> 1200 </td><td>1100  </td><td>1069  </td><td>1000  </td><td>No    </td></tr>\n",
       "\t<tr><td>5     </td><td> 50000</td><td>1     </td><td>2     </td><td>1     </td><td>57    </td><td>-1    </td><td>0     </td><td>-1    </td><td> 0    </td><td>...   </td><td>20940 </td><td>19146 </td><td>19131 </td><td>2000  </td><td>36681 </td><td>10000 </td><td>9000  </td><td> 689  </td><td> 679  </td><td>No    </td></tr>\n",
       "\t<tr><td>6     </td><td> 50000</td><td>1     </td><td>1     </td><td>2     </td><td>37    </td><td> 0    </td><td>0     </td><td> 0    </td><td> 0    </td><td>...   </td><td>19394 </td><td>19619 </td><td>20024 </td><td>2500  </td><td> 1815 </td><td>  657 </td><td>1000  </td><td>1000  </td><td> 800  </td><td>No    </td></tr>\n",
       "</tbody>\n",
       "</table>\n"
      ],
      "text/latex": [
       "\\begin{tabular}{r|lllllllllllllllllllllllll}\n",
       " ID & LIMIT\\_BAL & SEX & EDUCATION & MARRIAGE & AGE & PAY\\_0 & PAY\\_2 & PAY\\_3 & PAY\\_4 & ... & BILL\\_AMT4 & BILL\\_AMT5 & BILL\\_AMT6 & PAY\\_AMT1 & PAY\\_AMT2 & PAY\\_AMT3 & PAY\\_AMT4 & PAY\\_AMT5 & PAY\\_AMT6 & default.payment.next.month\\\\\n",
       "\\hline\n",
       "\t 1      &  20000 & 2      & 2      & 1      & 24     &  2     & 2      & -1     & -1     & ...    &     0  &     0  &     0  &    0   &   689  &     0  &    0   &    0   &    0   & Yes   \\\\\n",
       "\t 2      & 120000 & 2      & 2      & 2      & 26     & -1     & 2      &  0     &  0     & ...    &  3272  &  3455  &  3261  &    0   &  1000  &  1000  & 1000   &    0   & 2000   & Yes   \\\\\n",
       "\t 3      &  90000 & 2      & 2      & 2      & 34     &  0     & 0      &  0     &  0     & ...    & 14331  & 14948  & 15549  & 1518   &  1500  &  1000  & 1000   & 1000   & 5000   & No    \\\\\n",
       "\t 4      &  50000 & 2      & 2      & 1      & 37     &  0     & 0      &  0     &  0     & ...    & 28314  & 28959  & 29547  & 2000   &  2019  &  1200  & 1100   & 1069   & 1000   & No    \\\\\n",
       "\t 5      &  50000 & 1      & 2      & 1      & 57     & -1     & 0      & -1     &  0     & ...    & 20940  & 19146  & 19131  & 2000   & 36681  & 10000  & 9000   &  689   &  679   & No    \\\\\n",
       "\t 6      &  50000 & 1      & 1      & 2      & 37     &  0     & 0      &  0     &  0     & ...    & 19394  & 19619  & 20024  & 2500   &  1815  &   657  & 1000   & 1000   &  800   & No    \\\\\n",
       "\\end{tabular}\n"
      ],
      "text/markdown": [
       "\n",
       "| ID | LIMIT_BAL | SEX | EDUCATION | MARRIAGE | AGE | PAY_0 | PAY_2 | PAY_3 | PAY_4 | ... | BILL_AMT4 | BILL_AMT5 | BILL_AMT6 | PAY_AMT1 | PAY_AMT2 | PAY_AMT3 | PAY_AMT4 | PAY_AMT5 | PAY_AMT6 | default.payment.next.month |\n",
       "|---|---|---|---|---|---|---|---|---|---|---|---|---|---|---|---|---|---|---|---|---|\n",
       "| 1      |  20000 | 2      | 2      | 1      | 24     |  2     | 2      | -1     | -1     | ...    |     0  |     0  |     0  |    0   |   689  |     0  |    0   |    0   |    0   | Yes    |\n",
       "| 2      | 120000 | 2      | 2      | 2      | 26     | -1     | 2      |  0     |  0     | ...    |  3272  |  3455  |  3261  |    0   |  1000  |  1000  | 1000   |    0   | 2000   | Yes    |\n",
       "| 3      |  90000 | 2      | 2      | 2      | 34     |  0     | 0      |  0     |  0     | ...    | 14331  | 14948  | 15549  | 1518   |  1500  |  1000  | 1000   | 1000   | 5000   | No     |\n",
       "| 4      |  50000 | 2      | 2      | 1      | 37     |  0     | 0      |  0     |  0     | ...    | 28314  | 28959  | 29547  | 2000   |  2019  |  1200  | 1100   | 1069   | 1000   | No     |\n",
       "| 5      |  50000 | 1      | 2      | 1      | 57     | -1     | 0      | -1     |  0     | ...    | 20940  | 19146  | 19131  | 2000   | 36681  | 10000  | 9000   |  689   |  679   | No     |\n",
       "| 6      |  50000 | 1      | 1      | 2      | 37     |  0     | 0      |  0     |  0     | ...    | 19394  | 19619  | 20024  | 2500   |  1815  |   657  | 1000   | 1000   |  800   | No     |\n",
       "\n"
      ],
      "text/plain": [
       "  ID LIMIT_BAL SEX EDUCATION MARRIAGE AGE PAY_0 PAY_2 PAY_3 PAY_4 ... BILL_AMT4\n",
       "1 1   20000    2   2         1        24   2    2     -1    -1    ...     0    \n",
       "2 2  120000    2   2         2        26  -1    2      0     0    ...  3272    \n",
       "3 3   90000    2   2         2        34   0    0      0     0    ... 14331    \n",
       "4 4   50000    2   2         1        37   0    0      0     0    ... 28314    \n",
       "5 5   50000    1   2         1        57  -1    0     -1     0    ... 20940    \n",
       "6 6   50000    1   1         2        37   0    0      0     0    ... 19394    \n",
       "  BILL_AMT5 BILL_AMT6 PAY_AMT1 PAY_AMT2 PAY_AMT3 PAY_AMT4 PAY_AMT5 PAY_AMT6\n",
       "1     0         0        0       689        0       0        0        0    \n",
       "2  3455      3261        0      1000     1000    1000        0     2000    \n",
       "3 14948     15549     1518      1500     1000    1000     1000     5000    \n",
       "4 28959     29547     2000      2019     1200    1100     1069     1000    \n",
       "5 19146     19131     2000     36681    10000    9000      689      679    \n",
       "6 19619     20024     2500      1815      657    1000     1000      800    \n",
       "  default.payment.next.month\n",
       "1 Yes                       \n",
       "2 Yes                       \n",
       "3 No                        \n",
       "4 No                        \n",
       "5 No                        \n",
       "6 No                        "
      ]
     },
     "metadata": {},
     "output_type": "display_data"
    }
   ],
   "source": [
    "head(cc)"
   ]
  },
  {
   "cell_type": "code",
   "execution_count": 5,
   "id": "a1d1cbe4",
   "metadata": {},
   "outputs": [
    {
     "data": {
      "image/png": "[encoded data removed]",
      "text/plain": [
       "plot without title"
      ]
     },
     "metadata": {},
     "output_type": "display_data"
    }
   ],
   "source": [
    "ggplot(cc, aes(x=EDUCATION, fill=default.payment.next.month, color=default.payment.next.month)) + \n",
    "  geom_histogram(binwidth=1, position=\"stack\") +\n",
    "  scale_color_manual(values=c(\"black\",\"black\")) +\n",
    "  scale_fill_manual(values=c(\"darkolivegreen4\", \"red\"))"
   ]
  },
  {
   "cell_type": "markdown",
   "id": "ed406708",
   "metadata": {},
   "source": [
    "# A.2. Demographic Variables\n",
    "Based on the histogram (education), we can conclude that students with a level of education between graduate, university, and high school, have credit card defaults, and that a large number of students are qualified to use credit cards and pay bills. Observing the histogram, we can deduce that the education category plays an essential part in the development of the model, as individuals with 1 to 3 years of schooling are more likely to pay their credit card payments on time or default."
   ]
  },
  {
   "cell_type": "code",
   "execution_count": 6,
   "id": "1deae88c",
   "metadata": {},
   "outputs": [
    {
     "data": {
      "image/png": "[encoded data removed]",
      "text/plain": [
       "plot without title"
      ]
     },
     "metadata": {},
     "output_type": "display_data"
    }
   ],
   "source": [
    "ggplot(cc, aes(x=MARRIAGE, fill=default.payment.next.month, color=default.payment.next.month)) + \n",
    "  geom_histogram(binwidth=1, position=\"stack\") +\n",
    "  scale_color_manual(values=c(\"black\",\"black\")) +\n",
    "  scale_fill_manual(values=c(\"#71FF43\", \"#A990D1\"))"
   ]
  },
  {
   "cell_type": "markdown",
   "id": "58ee8237",
   "metadata": {},
   "source": [
    "This marriage histogram is used for the development of the model as it has majority data in columns 1 and 2, indicating that the most of married individuals pay their credit card payments and just a few are defaulters. This variable may be used to forecast the default.payment.next.month."
   ]
  },
  {
   "cell_type": "code",
   "execution_count": 7,
   "id": "74eb6cfd",
   "metadata": {},
   "outputs": [
    {
     "data": {
      "image/png": "[encoded data removed]",
      "text/plain": [
       "plot without title"
      ]
     },
     "metadata": {},
     "output_type": "display_data"
    }
   ],
   "source": [
    "ggplot(cc, aes(x=PAY_2, fill=default.payment.next.month, color=default.payment.next.month)) + \n",
    "  geom_histogram(binwidth=1, position=\"stack\") +\n",
    "  scale_color_manual(values=c(\"black\",\"black\")) +\n",
    "  scale_fill_manual(values=c(\"darkolivegreen4\", \"red\"))"
   ]
  },
  {
   "cell_type": "markdown",
   "id": "2a12f725",
   "metadata": {},
   "source": [
    "PAY_2 indicates the repayment status as of August 2005. Over seventy-five percent of payments were made on time, and the most of those who defaulted had payments that had been overdue for more than two months."
   ]
  },
  {
   "cell_type": "code",
   "execution_count": 8,
   "id": "d306cfa4",
   "metadata": {},
   "outputs": [
    {
     "data": {
      "image/png": "[encoded data removed]",
      "text/plain": [
       "plot without title"
      ]
     },
     "metadata": {},
     "output_type": "display_data"
    }
   ],
   "source": [
    "ggplot(cc, aes(x=PAY_4, fill=default.payment.next.month, color=default.payment.next.month)) + \n",
    "  geom_histogram(binwidth=1, position=\"stack\") +\n",
    "  scale_color_manual(values=c(\"black\",\"black\")) +\n",
    "  scale_fill_manual(values=c(\"darkolivegreen4\", \"red\"))"
   ]
  },
  {
   "cell_type": "markdown",
   "id": "c54f1d44",
   "metadata": {},
   "source": [
    "PAY_4 indicates the repayment status as of June 2005. Over seventy-five percent of payments were made on time, and the most of those who defaulted had payments that had been overdue for more than two months."
   ]
  },
  {
   "cell_type": "code",
   "execution_count": 9,
   "id": "41318f0b",
   "metadata": {},
   "outputs": [
    {
     "data": {
      "image/png": "[encoded data removed]",
      "text/plain": [
       "plot without title"
      ]
     },
     "metadata": {},
     "output_type": "display_data"
    }
   ],
   "source": [
    "ggplot(cc, aes(x=PAY_6, fill=default.payment.next.month, color=default.payment.next.month)) + \n",
    "  geom_histogram(binwidth=1, position=\"stack\") +\n",
    "  scale_color_manual(values=c(\"black\",\"black\")) +\n",
    "  scale_fill_manual(values=c(\"darkolivegreen4\", \"red\"))"
   ]
  },
  {
   "cell_type": "markdown",
   "id": "912cd1d7",
   "metadata": {},
   "source": [
    "PAY_6 indicates the repayment status as of April 2005. Over seventy-five percent of payments were made on time, and the most of those who defaulted had payments that had been overdue for more than two months."
   ]
  },
  {
   "cell_type": "markdown",
   "id": "002bbe6b",
   "metadata": {},
   "source": [
    "# A.4. Transforming Nominal Variables\n",
    "Here, there are 3 demographic variables are there:- \n",
    "SEX, \n",
    "EDUCATION,\n",
    "MARRIAGE.\n",
    "These variables are transformed into nominal values by using factor."
   ]
  },
  {
   "cell_type": "code",
   "execution_count": 10,
   "id": "3f7a54c0",
   "metadata": {},
   "outputs": [],
   "source": [
    "cc$SEX <- factor(cc$SEX,levels=c(1,2), labels=c(\"Male\", \"Female\")) "
   ]
  },
  {
   "cell_type": "code",
   "execution_count": 11,
   "id": "38ff013e",
   "metadata": {},
   "outputs": [
    {
     "data": {
      "text/html": [
       "<table>\n",
       "<thead><tr><th scope=col>ID</th><th scope=col>LIMIT_BAL</th><th scope=col>SEX</th><th scope=col>EDUCATION</th><th scope=col>MARRIAGE</th><th scope=col>AGE</th><th scope=col>PAY_0</th><th scope=col>PAY_2</th><th scope=col>PAY_3</th><th scope=col>PAY_4</th><th scope=col>...</th><th scope=col>BILL_AMT4</th><th scope=col>BILL_AMT5</th><th scope=col>BILL_AMT6</th><th scope=col>PAY_AMT1</th><th scope=col>PAY_AMT2</th><th scope=col>PAY_AMT3</th><th scope=col>PAY_AMT4</th><th scope=col>PAY_AMT5</th><th scope=col>PAY_AMT6</th><th scope=col>default.payment.next.month</th></tr></thead>\n",
       "<tbody>\n",
       "\t<tr><td>1     </td><td> 20000</td><td>Female</td><td>2     </td><td>1     </td><td>24    </td><td> 2    </td><td>2     </td><td>-1    </td><td>-1    </td><td>...   </td><td>    0 </td><td>    0 </td><td>    0 </td><td>   0  </td><td>  689 </td><td>    0 </td><td>   0  </td><td>   0  </td><td>   0  </td><td>Yes   </td></tr>\n",
       "\t<tr><td>2     </td><td>120000</td><td>Female</td><td>2     </td><td>2     </td><td>26    </td><td>-1    </td><td>2     </td><td> 0    </td><td> 0    </td><td>...   </td><td> 3272 </td><td> 3455 </td><td> 3261 </td><td>   0  </td><td> 1000 </td><td> 1000 </td><td>1000  </td><td>   0  </td><td>2000  </td><td>Yes   </td></tr>\n",
       "\t<tr><td>3     </td><td> 90000</td><td>Female</td><td>2     </td><td>2     </td><td>34    </td><td> 0    </td><td>0     </td><td> 0    </td><td> 0    </td><td>...   </td><td>14331 </td><td>14948 </td><td>15549 </td><td>1518  </td><td> 1500 </td><td> 1000 </td><td>1000  </td><td>1000  </td><td>5000  </td><td>No    </td></tr>\n",
       "\t<tr><td>4     </td><td> 50000</td><td>Female</td><td>2     </td><td>1     </td><td>37    </td><td> 0    </td><td>0     </td><td> 0    </td><td> 0    </td><td>...   </td><td>28314 </td><td>28959 </td><td>29547 </td><td>2000  </td><td> 2019 </td><td> 1200 </td><td>1100  </td><td>1069  </td><td>1000  </td><td>No    </td></tr>\n",
       "\t<tr><td>5     </td><td> 50000</td><td>Male  </td><td>2     </td><td>1     </td><td>57    </td><td>-1    </td><td>0     </td><td>-1    </td><td> 0    </td><td>...   </td><td>20940 </td><td>19146 </td><td>19131 </td><td>2000  </td><td>36681 </td><td>10000 </td><td>9000  </td><td> 689  </td><td> 679  </td><td>No    </td></tr>\n",
       "\t<tr><td>6     </td><td> 50000</td><td>Male  </td><td>1     </td><td>2     </td><td>37    </td><td> 0    </td><td>0     </td><td> 0    </td><td> 0    </td><td>...   </td><td>19394 </td><td>19619 </td><td>20024 </td><td>2500  </td><td> 1815 </td><td>  657 </td><td>1000  </td><td>1000  </td><td> 800  </td><td>No    </td></tr>\n",
       "</tbody>\n",
       "</table>\n"
      ],
      "text/latex": [
       "\\begin{tabular}{r|lllllllllllllllllllllllll}\n",
       " ID & LIMIT\\_BAL & SEX & EDUCATION & MARRIAGE & AGE & PAY\\_0 & PAY\\_2 & PAY\\_3 & PAY\\_4 & ... & BILL\\_AMT4 & BILL\\_AMT5 & BILL\\_AMT6 & PAY\\_AMT1 & PAY\\_AMT2 & PAY\\_AMT3 & PAY\\_AMT4 & PAY\\_AMT5 & PAY\\_AMT6 & default.payment.next.month\\\\\n",
       "\\hline\n",
       "\t 1      &  20000 & Female & 2      & 1      & 24     &  2     & 2      & -1     & -1     & ...    &     0  &     0  &     0  &    0   &   689  &     0  &    0   &    0   &    0   & Yes   \\\\\n",
       "\t 2      & 120000 & Female & 2      & 2      & 26     & -1     & 2      &  0     &  0     & ...    &  3272  &  3455  &  3261  &    0   &  1000  &  1000  & 1000   &    0   & 2000   & Yes   \\\\\n",
       "\t 3      &  90000 & Female & 2      & 2      & 34     &  0     & 0      &  0     &  0     & ...    & 14331  & 14948  & 15549  & 1518   &  1500  &  1000  & 1000   & 1000   & 5000   & No    \\\\\n",
       "\t 4      &  50000 & Female & 2      & 1      & 37     &  0     & 0      &  0     &  0     & ...    & 28314  & 28959  & 29547  & 2000   &  2019  &  1200  & 1100   & 1069   & 1000   & No    \\\\\n",
       "\t 5      &  50000 & Male   & 2      & 1      & 57     & -1     & 0      & -1     &  0     & ...    & 20940  & 19146  & 19131  & 2000   & 36681  & 10000  & 9000   &  689   &  679   & No    \\\\\n",
       "\t 6      &  50000 & Male   & 1      & 2      & 37     &  0     & 0      &  0     &  0     & ...    & 19394  & 19619  & 20024  & 2500   &  1815  &   657  & 1000   & 1000   &  800   & No    \\\\\n",
       "\\end{tabular}\n"
      ],
      "text/markdown": [
       "\n",
       "| ID | LIMIT_BAL | SEX | EDUCATION | MARRIAGE | AGE | PAY_0 | PAY_2 | PAY_3 | PAY_4 | ... | BILL_AMT4 | BILL_AMT5 | BILL_AMT6 | PAY_AMT1 | PAY_AMT2 | PAY_AMT3 | PAY_AMT4 | PAY_AMT5 | PAY_AMT6 | default.payment.next.month |\n",
       "|---|---|---|---|---|---|---|---|---|---|---|---|---|---|---|---|---|---|---|---|---|\n",
       "| 1      |  20000 | Female | 2      | 1      | 24     |  2     | 2      | -1     | -1     | ...    |     0  |     0  |     0  |    0   |   689  |     0  |    0   |    0   |    0   | Yes    |\n",
       "| 2      | 120000 | Female | 2      | 2      | 26     | -1     | 2      |  0     |  0     | ...    |  3272  |  3455  |  3261  |    0   |  1000  |  1000  | 1000   |    0   | 2000   | Yes    |\n",
       "| 3      |  90000 | Female | 2      | 2      | 34     |  0     | 0      |  0     |  0     | ...    | 14331  | 14948  | 15549  | 1518   |  1500  |  1000  | 1000   | 1000   | 5000   | No     |\n",
       "| 4      |  50000 | Female | 2      | 1      | 37     |  0     | 0      |  0     |  0     | ...    | 28314  | 28959  | 29547  | 2000   |  2019  |  1200  | 1100   | 1069   | 1000   | No     |\n",
       "| 5      |  50000 | Male   | 2      | 1      | 57     | -1     | 0      | -1     |  0     | ...    | 20940  | 19146  | 19131  | 2000   | 36681  | 10000  | 9000   |  689   |  679   | No     |\n",
       "| 6      |  50000 | Male   | 1      | 2      | 37     |  0     | 0      |  0     |  0     | ...    | 19394  | 19619  | 20024  | 2500   |  1815  |   657  | 1000   | 1000   |  800   | No     |\n",
       "\n"
      ],
      "text/plain": [
       "  ID LIMIT_BAL SEX    EDUCATION MARRIAGE AGE PAY_0 PAY_2 PAY_3 PAY_4 ...\n",
       "1 1   20000    Female 2         1        24   2    2     -1    -1    ...\n",
       "2 2  120000    Female 2         2        26  -1    2      0     0    ...\n",
       "3 3   90000    Female 2         2        34   0    0      0     0    ...\n",
       "4 4   50000    Female 2         1        37   0    0      0     0    ...\n",
       "5 5   50000    Male   2         1        57  -1    0     -1     0    ...\n",
       "6 6   50000    Male   1         2        37   0    0      0     0    ...\n",
       "  BILL_AMT4 BILL_AMT5 BILL_AMT6 PAY_AMT1 PAY_AMT2 PAY_AMT3 PAY_AMT4 PAY_AMT5\n",
       "1     0         0         0        0       689        0       0        0    \n",
       "2  3272      3455      3261        0      1000     1000    1000        0    \n",
       "3 14331     14948     15549     1518      1500     1000    1000     1000    \n",
       "4 28314     28959     29547     2000      2019     1200    1100     1069    \n",
       "5 20940     19146     19131     2000     36681    10000    9000      689    \n",
       "6 19394     19619     20024     2500      1815      657    1000     1000    \n",
       "  PAY_AMT6 default.payment.next.month\n",
       "1    0     Yes                       \n",
       "2 2000     Yes                       \n",
       "3 5000     No                        \n",
       "4 1000     No                        \n",
       "5  679     No                        \n",
       "6  800     No                        "
      ]
     },
     "metadata": {},
     "output_type": "display_data"
    }
   ],
   "source": [
    "head(cc)"
   ]
  },
  {
   "cell_type": "code",
   "execution_count": 12,
   "id": "c660040c",
   "metadata": {},
   "outputs": [
    {
     "data": {
      "text/html": [
       "<table>\n",
       "<thead><tr><th scope=col>ID</th><th scope=col>LIMIT_BAL</th><th scope=col>SEX</th><th scope=col>EDUCATION</th><th scope=col>MARRIAGE</th><th scope=col>AGE</th><th scope=col>PAY_0</th><th scope=col>PAY_2</th><th scope=col>PAY_3</th><th scope=col>PAY_4</th><th scope=col>...</th><th scope=col>BILL_AMT4</th><th scope=col>BILL_AMT5</th><th scope=col>BILL_AMT6</th><th scope=col>PAY_AMT1</th><th scope=col>PAY_AMT2</th><th scope=col>PAY_AMT3</th><th scope=col>PAY_AMT4</th><th scope=col>PAY_AMT5</th><th scope=col>PAY_AMT6</th><th scope=col>default.payment.next.month</th></tr></thead>\n",
       "<tbody>\n",
       "\t<tr><td>1              </td><td> 20000         </td><td>Female         </td><td>university     </td><td>1              </td><td>24             </td><td> 2             </td><td>2              </td><td>-1             </td><td>-1             </td><td>...            </td><td>    0          </td><td>    0          </td><td>    0          </td><td>   0           </td><td>  689          </td><td>    0          </td><td>   0           </td><td>   0           </td><td>   0           </td><td>Yes            </td></tr>\n",
       "\t<tr><td>2              </td><td>120000         </td><td>Female         </td><td>university     </td><td>2              </td><td>26             </td><td>-1             </td><td>2              </td><td> 0             </td><td> 0             </td><td>...            </td><td> 3272          </td><td> 3455          </td><td> 3261          </td><td>   0           </td><td> 1000          </td><td> 1000          </td><td>1000           </td><td>   0           </td><td>2000           </td><td>Yes            </td></tr>\n",
       "\t<tr><td>3              </td><td> 90000         </td><td>Female         </td><td>university     </td><td>2              </td><td>34             </td><td> 0             </td><td>0              </td><td> 0             </td><td> 0             </td><td>...            </td><td>14331          </td><td>14948          </td><td>15549          </td><td>1518           </td><td> 1500          </td><td> 1000          </td><td>1000           </td><td>1000           </td><td>5000           </td><td>No             </td></tr>\n",
       "\t<tr><td>4              </td><td> 50000         </td><td>Female         </td><td>university     </td><td>1              </td><td>37             </td><td> 0             </td><td>0              </td><td> 0             </td><td> 0             </td><td>...            </td><td>28314          </td><td>28959          </td><td>29547          </td><td>2000           </td><td> 2019          </td><td> 1200          </td><td>1100           </td><td>1069           </td><td>1000           </td><td>No             </td></tr>\n",
       "\t<tr><td>5              </td><td> 50000         </td><td>Male           </td><td>university     </td><td>1              </td><td>57             </td><td>-1             </td><td>0              </td><td>-1             </td><td> 0             </td><td>...            </td><td>20940          </td><td>19146          </td><td>19131          </td><td>2000           </td><td>36681          </td><td>10000          </td><td>9000           </td><td> 689           </td><td> 679           </td><td>No             </td></tr>\n",
       "\t<tr><td>6              </td><td> 50000         </td><td>Male           </td><td>graduate_school</td><td>2              </td><td>37             </td><td> 0             </td><td>0              </td><td> 0             </td><td> 0             </td><td>...            </td><td>19394          </td><td>19619          </td><td>20024          </td><td>2500           </td><td> 1815          </td><td>  657          </td><td>1000           </td><td>1000           </td><td> 800           </td><td>No             </td></tr>\n",
       "</tbody>\n",
       "</table>\n"
      ],
      "text/latex": [
       "\\begin{tabular}{r|lllllllllllllllllllllllll}\n",
       " ID & LIMIT\\_BAL & SEX & EDUCATION & MARRIAGE & AGE & PAY\\_0 & PAY\\_2 & PAY\\_3 & PAY\\_4 & ... & BILL\\_AMT4 & BILL\\_AMT5 & BILL\\_AMT6 & PAY\\_AMT1 & PAY\\_AMT2 & PAY\\_AMT3 & PAY\\_AMT4 & PAY\\_AMT5 & PAY\\_AMT6 & default.payment.next.month\\\\\n",
       "\\hline\n",
       "\t 1               &  20000          & Female          & university      & 1               & 24              &  2              & 2               & -1              & -1              & ...             &     0           &     0           &     0           &    0            &   689           &     0           &    0            &    0            &    0            & Yes            \\\\\n",
       "\t 2               & 120000          & Female          & university      & 2               & 26              & -1              & 2               &  0              &  0              & ...             &  3272           &  3455           &  3261           &    0            &  1000           &  1000           & 1000            &    0            & 2000            & Yes            \\\\\n",
       "\t 3               &  90000          & Female          & university      & 2               & 34              &  0              & 0               &  0              &  0              & ...             & 14331           & 14948           & 15549           & 1518            &  1500           &  1000           & 1000            & 1000            & 5000            & No             \\\\\n",
       "\t 4               &  50000          & Female          & university      & 1               & 37              &  0              & 0               &  0              &  0              & ...             & 28314           & 28959           & 29547           & 2000            &  2019           &  1200           & 1100            & 1069            & 1000            & No             \\\\\n",
       "\t 5               &  50000          & Male            & university      & 1               & 57              & -1              & 0               & -1              &  0              & ...             & 20940           & 19146           & 19131           & 2000            & 36681           & 10000           & 9000            &  689            &  679            & No             \\\\\n",
       "\t 6                 &  50000            & Male              & graduate\\_school & 2                 & 37                &  0                & 0                 &  0                &  0                & ...               & 19394             & 19619             & 20024             & 2500              &  1815             &   657             & 1000              & 1000              &  800              & No               \\\\\n",
       "\\end{tabular}\n"
      ],
      "text/markdown": [
       "\n",
       "| ID | LIMIT_BAL | SEX | EDUCATION | MARRIAGE | AGE | PAY_0 | PAY_2 | PAY_3 | PAY_4 | ... | BILL_AMT4 | BILL_AMT5 | BILL_AMT6 | PAY_AMT1 | PAY_AMT2 | PAY_AMT3 | PAY_AMT4 | PAY_AMT5 | PAY_AMT6 | default.payment.next.month |\n",
       "|---|---|---|---|---|---|---|---|---|---|---|---|---|---|---|---|---|---|---|---|---|\n",
       "| 1               |  20000          | Female          | university      | 1               | 24              |  2              | 2               | -1              | -1              | ...             |     0           |     0           |     0           |    0            |   689           |     0           |    0            |    0            |    0            | Yes             |\n",
       "| 2               | 120000          | Female          | university      | 2               | 26              | -1              | 2               |  0              |  0              | ...             |  3272           |  3455           |  3261           |    0            |  1000           |  1000           | 1000            |    0            | 2000            | Yes             |\n",
       "| 3               |  90000          | Female          | university      | 2               | 34              |  0              | 0               |  0              |  0              | ...             | 14331           | 14948           | 15549           | 1518            |  1500           |  1000           | 1000            | 1000            | 5000            | No              |\n",
       "| 4               |  50000          | Female          | university      | 1               | 37              |  0              | 0               |  0              |  0              | ...             | 28314           | 28959           | 29547           | 2000            |  2019           |  1200           | 1100            | 1069            | 1000            | No              |\n",
       "| 5               |  50000          | Male            | university      | 1               | 57              | -1              | 0               | -1              |  0              | ...             | 20940           | 19146           | 19131           | 2000            | 36681           | 10000           | 9000            |  689            |  679            | No              |\n",
       "| 6               |  50000          | Male            | graduate_school | 2               | 37              |  0              | 0               |  0              |  0              | ...             | 19394           | 19619           | 20024           | 2500            |  1815           |   657           | 1000            | 1000            |  800            | No              |\n",
       "\n"
      ],
      "text/plain": [
       "  ID LIMIT_BAL SEX    EDUCATION       MARRIAGE AGE PAY_0 PAY_2 PAY_3 PAY_4 ...\n",
       "1 1   20000    Female university      1        24   2    2     -1    -1    ...\n",
       "2 2  120000    Female university      2        26  -1    2      0     0    ...\n",
       "3 3   90000    Female university      2        34   0    0      0     0    ...\n",
       "4 4   50000    Female university      1        37   0    0      0     0    ...\n",
       "5 5   50000    Male   university      1        57  -1    0     -1     0    ...\n",
       "6 6   50000    Male   graduate_school 2        37   0    0      0     0    ...\n",
       "  BILL_AMT4 BILL_AMT5 BILL_AMT6 PAY_AMT1 PAY_AMT2 PAY_AMT3 PAY_AMT4 PAY_AMT5\n",
       "1     0         0         0        0       689        0       0        0    \n",
       "2  3272      3455      3261        0      1000     1000    1000        0    \n",
       "3 14331     14948     15549     1518      1500     1000    1000     1000    \n",
       "4 28314     28959     29547     2000      2019     1200    1100     1069    \n",
       "5 20940     19146     19131     2000     36681    10000    9000      689    \n",
       "6 19394     19619     20024     2500      1815      657    1000     1000    \n",
       "  PAY_AMT6 default.payment.next.month\n",
       "1    0     Yes                       \n",
       "2 2000     Yes                       \n",
       "3 5000     No                        \n",
       "4 1000     No                        \n",
       "5  679     No                        \n",
       "6  800     No                        "
      ]
     },
     "metadata": {},
     "output_type": "display_data"
    }
   ],
   "source": [
    "cc$EDUCATION <- factor(cc$EDUCATION,levels=c(1,2,3,4,5,6), labels=c(\"graduate_school\", \"university\",\"high_school\",\"others\",\"unknown\",\"unknown\")) \n",
    "head(cc)"
   ]
  },
  {
   "cell_type": "code",
   "execution_count": 13,
   "id": "c4941fea",
   "metadata": {},
   "outputs": [],
   "source": [
    "cc$MARRIAGE <- factor(cc$MARRIAGE,levels=c(1,2,3), labels=c(\"married\", \"single\",\"others\")) \n"
   ]
  },
  {
   "cell_type": "code",
   "execution_count": 14,
   "id": "fc12b6d8",
   "metadata": {},
   "outputs": [
    {
     "data": {
      "text/html": [
       "<table>\n",
       "<thead><tr><th scope=col>ID</th><th scope=col>LIMIT_BAL</th><th scope=col>SEX</th><th scope=col>EDUCATION</th><th scope=col>MARRIAGE</th><th scope=col>AGE</th><th scope=col>PAY_0</th><th scope=col>PAY_2</th><th scope=col>PAY_3</th><th scope=col>PAY_4</th><th scope=col>...</th><th scope=col>BILL_AMT4</th><th scope=col>BILL_AMT5</th><th scope=col>BILL_AMT6</th><th scope=col>PAY_AMT1</th><th scope=col>PAY_AMT2</th><th scope=col>PAY_AMT3</th><th scope=col>PAY_AMT4</th><th scope=col>PAY_AMT5</th><th scope=col>PAY_AMT6</th><th scope=col>default.payment.next.month</th></tr></thead>\n",
       "<tbody>\n",
       "\t<tr><td>1              </td><td> 20000         </td><td>Female         </td><td>university     </td><td>married        </td><td>24             </td><td> 2             </td><td>2              </td><td>-1             </td><td>-1             </td><td>...            </td><td>    0          </td><td>    0          </td><td>    0          </td><td>   0           </td><td>  689          </td><td>    0          </td><td>   0           </td><td>   0           </td><td>   0           </td><td>Yes            </td></tr>\n",
       "\t<tr><td>2              </td><td>120000         </td><td>Female         </td><td>university     </td><td>single         </td><td>26             </td><td>-1             </td><td>2              </td><td> 0             </td><td> 0             </td><td>...            </td><td> 3272          </td><td> 3455          </td><td> 3261          </td><td>   0           </td><td> 1000          </td><td> 1000          </td><td>1000           </td><td>   0           </td><td>2000           </td><td>Yes            </td></tr>\n",
       "\t<tr><td>3              </td><td> 90000         </td><td>Female         </td><td>university     </td><td>single         </td><td>34             </td><td> 0             </td><td>0              </td><td> 0             </td><td> 0             </td><td>...            </td><td>14331          </td><td>14948          </td><td>15549          </td><td>1518           </td><td> 1500          </td><td> 1000          </td><td>1000           </td><td>1000           </td><td>5000           </td><td>No             </td></tr>\n",
       "\t<tr><td>4              </td><td> 50000         </td><td>Female         </td><td>university     </td><td>married        </td><td>37             </td><td> 0             </td><td>0              </td><td> 0             </td><td> 0             </td><td>...            </td><td>28314          </td><td>28959          </td><td>29547          </td><td>2000           </td><td> 2019          </td><td> 1200          </td><td>1100           </td><td>1069           </td><td>1000           </td><td>No             </td></tr>\n",
       "\t<tr><td>5              </td><td> 50000         </td><td>Male           </td><td>university     </td><td>married        </td><td>57             </td><td>-1             </td><td>0              </td><td>-1             </td><td> 0             </td><td>...            </td><td>20940          </td><td>19146          </td><td>19131          </td><td>2000           </td><td>36681          </td><td>10000          </td><td>9000           </td><td> 689           </td><td> 679           </td><td>No             </td></tr>\n",
       "\t<tr><td>6              </td><td> 50000         </td><td>Male           </td><td>graduate_school</td><td>single         </td><td>37             </td><td> 0             </td><td>0              </td><td> 0             </td><td> 0             </td><td>...            </td><td>19394          </td><td>19619          </td><td>20024          </td><td>2500           </td><td> 1815          </td><td>  657          </td><td>1000           </td><td>1000           </td><td> 800           </td><td>No             </td></tr>\n",
       "</tbody>\n",
       "</table>\n"
      ],
      "text/latex": [
       "\\begin{tabular}{r|lllllllllllllllllllllllll}\n",
       " ID & LIMIT\\_BAL & SEX & EDUCATION & MARRIAGE & AGE & PAY\\_0 & PAY\\_2 & PAY\\_3 & PAY\\_4 & ... & BILL\\_AMT4 & BILL\\_AMT5 & BILL\\_AMT6 & PAY\\_AMT1 & PAY\\_AMT2 & PAY\\_AMT3 & PAY\\_AMT4 & PAY\\_AMT5 & PAY\\_AMT6 & default.payment.next.month\\\\\n",
       "\\hline\n",
       "\t 1               &  20000          & Female          & university      & married         & 24              &  2              & 2               & -1              & -1              & ...             &     0           &     0           &     0           &    0            &   689           &     0           &    0            &    0            &    0            & Yes            \\\\\n",
       "\t 2               & 120000          & Female          & university      & single          & 26              & -1              & 2               &  0              &  0              & ...             &  3272           &  3455           &  3261           &    0            &  1000           &  1000           & 1000            &    0            & 2000            & Yes            \\\\\n",
       "\t 3               &  90000          & Female          & university      & single          & 34              &  0              & 0               &  0              &  0              & ...             & 14331           & 14948           & 15549           & 1518            &  1500           &  1000           & 1000            & 1000            & 5000            & No             \\\\\n",
       "\t 4               &  50000          & Female          & university      & married         & 37              &  0              & 0               &  0              &  0              & ...             & 28314           & 28959           & 29547           & 2000            &  2019           &  1200           & 1100            & 1069            & 1000            & No             \\\\\n",
       "\t 5               &  50000          & Male            & university      & married         & 57              & -1              & 0               & -1              &  0              & ...             & 20940           & 19146           & 19131           & 2000            & 36681           & 10000           & 9000            &  689            &  679            & No             \\\\\n",
       "\t 6                 &  50000            & Male              & graduate\\_school & single            & 37                &  0                & 0                 &  0                &  0                & ...               & 19394             & 19619             & 20024             & 2500              &  1815             &   657             & 1000              & 1000              &  800              & No               \\\\\n",
       "\\end{tabular}\n"
      ],
      "text/markdown": [
       "\n",
       "| ID | LIMIT_BAL | SEX | EDUCATION | MARRIAGE | AGE | PAY_0 | PAY_2 | PAY_3 | PAY_4 | ... | BILL_AMT4 | BILL_AMT5 | BILL_AMT6 | PAY_AMT1 | PAY_AMT2 | PAY_AMT3 | PAY_AMT4 | PAY_AMT5 | PAY_AMT6 | default.payment.next.month |\n",
       "|---|---|---|---|---|---|---|---|---|---|---|---|---|---|---|---|---|---|---|---|---|\n",
       "| 1               |  20000          | Female          | university      | married         | 24              |  2              | 2               | -1              | -1              | ...             |     0           |     0           |     0           |    0            |   689           |     0           |    0            |    0            |    0            | Yes             |\n",
       "| 2               | 120000          | Female          | university      | single          | 26              | -1              | 2               |  0              |  0              | ...             |  3272           |  3455           |  3261           |    0            |  1000           |  1000           | 1000            |    0            | 2000            | Yes             |\n",
       "| 3               |  90000          | Female          | university      | single          | 34              |  0              | 0               |  0              |  0              | ...             | 14331           | 14948           | 15549           | 1518            |  1500           |  1000           | 1000            | 1000            | 5000            | No              |\n",
       "| 4               |  50000          | Female          | university      | married         | 37              |  0              | 0               |  0              |  0              | ...             | 28314           | 28959           | 29547           | 2000            |  2019           |  1200           | 1100            | 1069            | 1000            | No              |\n",
       "| 5               |  50000          | Male            | university      | married         | 57              | -1              | 0               | -1              |  0              | ...             | 20940           | 19146           | 19131           | 2000            | 36681           | 10000           | 9000            |  689            |  679            | No              |\n",
       "| 6               |  50000          | Male            | graduate_school | single          | 37              |  0              | 0               |  0              |  0              | ...             | 19394           | 19619           | 20024           | 2500            |  1815           |   657           | 1000            | 1000            |  800            | No              |\n",
       "\n"
      ],
      "text/plain": [
       "  ID LIMIT_BAL SEX    EDUCATION       MARRIAGE AGE PAY_0 PAY_2 PAY_3 PAY_4 ...\n",
       "1 1   20000    Female university      married  24   2    2     -1    -1    ...\n",
       "2 2  120000    Female university      single   26  -1    2      0     0    ...\n",
       "3 3   90000    Female university      single   34   0    0      0     0    ...\n",
       "4 4   50000    Female university      married  37   0    0      0     0    ...\n",
       "5 5   50000    Male   university      married  57  -1    0     -1     0    ...\n",
       "6 6   50000    Male   graduate_school single   37   0    0      0     0    ...\n",
       "  BILL_AMT4 BILL_AMT5 BILL_AMT6 PAY_AMT1 PAY_AMT2 PAY_AMT3 PAY_AMT4 PAY_AMT5\n",
       "1     0         0         0        0       689        0       0        0    \n",
       "2  3272      3455      3261        0      1000     1000    1000        0    \n",
       "3 14331     14948     15549     1518      1500     1000    1000     1000    \n",
       "4 28314     28959     29547     2000      2019     1200    1100     1069    \n",
       "5 20940     19146     19131     2000     36681    10000    9000      689    \n",
       "6 19394     19619     20024     2500      1815      657    1000     1000    \n",
       "  PAY_AMT6 default.payment.next.month\n",
       "1    0     Yes                       \n",
       "2 2000     Yes                       \n",
       "3 5000     No                        \n",
       "4 1000     No                        \n",
       "5  679     No                        \n",
       "6  800     No                        "
      ]
     },
     "metadata": {},
     "output_type": "display_data"
    }
   ],
   "source": [
    "head(cc)"
   ]
  },
  {
   "cell_type": "code",
   "execution_count": null,
   "id": "b31f92e4",
   "metadata": {},
   "outputs": [],
   "source": []
  },
  {
   "cell_type": "markdown",
   "id": "0f1cf5ae",
   "metadata": {},
   "source": []
  },
  {
   "cell_type": "code",
   "execution_count": 15,
   "id": "c9b2a1fa",
   "metadata": {
    "scrolled": false
   },
   "outputs": [
    {
     "data": {
      "image/png": "[encoded data removed]",
      "text/plain": [
       "plot without title"
      ]
     },
     "metadata": {},
     "output_type": "display_data"
    }
   ],
   "source": [
    "education<-ggplot(data=cc, aes(x=EDUCATION, fill = as.factor(default.payment.next.month)))    +geom_bar(position=\"dodge\")  + \n",
    "  geom_text(stat='count', aes(label=..count.., vjust = -1), size = 3, position = position_dodge(width=.9))+\n",
    " ggtitle(\"Bar Plot to show distribution of Education by default payers\")+ theme(axis.text.x = element_text(angle = 45,hjust=1))\n",
    "education"
   ]
  },
  {
   "cell_type": "code",
   "execution_count": 16,
   "id": "d5c2a93b",
   "metadata": {
    "scrolled": false
   },
   "outputs": [
    {
     "data": {
      "image/png": "[encoded data removed]",
      "text/plain": [
       "plot without title"
      ]
     },
     "metadata": {},
     "output_type": "display_data"
    }
   ],
   "source": [
    "sex_class<-ggplot(data=cc, aes(x=SEX, fill = as.factor(default.payment.next.month)))    +geom_bar(position=\"dodge\")  + \n",
    "  geom_text(stat='count', aes(label=..count.., vjust = -1), size = 3, position = position_dodge(width=.9))+\n",
    "ggtitle(\"Bar Plot to show distribution of Sex by default payers\")\n",
    "\n",
    "sex_class"
   ]
  },
  {
   "cell_type": "code",
   "execution_count": 17,
   "id": "e9fb69a2",
   "metadata": {
    "scrolled": false
   },
   "outputs": [
    {
     "data": {
      "image/png": "[encoded data removed]",
      "text/plain": [
       "plot without title"
      ]
     },
     "metadata": {},
     "output_type": "display_data"
    }
   ],
   "source": [
    "marriage_class<-ggplot(data=cc, aes(x=MARRIAGE, fill = as.factor(default.payment.next.month)))    +geom_bar(position=\"dodge\")  + \n",
    "  geom_text(stat='count', aes(label=..count.., vjust = -1), size = 3, position = position_dodge(width=.9))+\n",
    "ggtitle(\"Bar Plot to show distribution of Marital status by default payers\")\n",
    "\n",
    "marriage_class"
   ]
  },
  {
   "cell_type": "code",
   "execution_count": 18,
   "id": "d3fe3716",
   "metadata": {},
   "outputs": [],
   "source": [
    "cc$PAY_0 <- factor(cc$PAY_0,levels=c(-2,-1,0,1,2,3,4,5,6,7,8), labels=c(\"pay duly\", \"pay duly\", \"pay duly\",\n",
    "                                                                          \"delay 1 mo\",\"delay 2 mo\",\"delay 3 mo\",\n",
    "                                                                          \"delay 4 mo\",\"delay 5 mo\",\"delay 6 mo\",\n",
    "                                                                          \"delay 7 mo\",\"delay 8 mo\"))\n",
    "\n",
    "cc$PAY_2 <- factor(cc$PAY_2,levels=c(-2,-1,0,1,2,3,4,5,6,7,8), labels=c(\"pay duly\", \"pay duly\", \"pay duly\",\n",
    "                                                                          \"delay 1 mo\",\"delay 2 mo\",\"delay 3 mo\",\n",
    "                                                                          \"delay 4 mo\",\"delay 5 mo\",\"delay 6 mo\",\n",
    "                                                                          \"delay 7 mo\",\"delay 8 mo\"))\n",
    "\n",
    "cc$PAY_3 <- factor(cc$PAY_3,levels=c(-2,-1,0,1,2,3,4,5,6,7,8), labels=c(\"pay duly\", \"pay duly\", \"pay duly\",\n",
    "                                                                          \"delay 1 mo\",\"delay 2 mo\",\"delay 3 mo\",\n",
    "                                                                          \"delay 4 mo\",\"delay 5 mo\",\"delay 6 mo\",\n",
    "                                                                          \"delay 7 mo\",\"delay 8 mo\"))\n",
    "cc$PAY_4 <- factor(cc$PAY_4,levels=c(-2,-1,0,1,2,3,4,5,6,7,8), labels=c(\"pay duly\", \"pay duly\", \"pay duly\",\n",
    "                                                                          \"delay 1 mo\",\"delay 2 mo\",\"delay 3 mo\",\n",
    "                                                                          \"delay 4 mo\",\"delay 5 mo\",\"delay 6 mo\",\n",
    "                                                                          \"delay 7 mo\",\"delay 8 mo\"))\n",
    "cc$PAY_5 <- factor(cc$PAY_5,levels=c(-2,-1,0,1,2,3,4,5,6,7,8), labels=c(\"pay duly\", \"pay duly\", \"pay duly\",\n",
    "                                                                          \"delay 1 mo\",\"delay 2 mo\",\"delay 3 mo\",\n",
    "                                                                          \"delay 4 mo\",\"delay 5 mo\",\"delay 6 mo\",\n",
    "                                                                          \"delay 7 mo\",\"delay 8 mo\"))\n",
    "cc$PAY_6 <- factor(cc$PAY_6,levels=c(-2,-1,0,1,2,3,4,5,6,7,8), labels=c(\"pay duly\", \"pay duly\", \"pay duly\",\n",
    "                                                                          \"delay 1 mo\",\"delay 2 mo\",\"delay 3 mo\",\n",
    "                                                                          \"delay 4 mo\",\"delay 5 mo\",\"delay 6 mo\",\n",
    "                                                                          \"delay 7 mo\",\"delay 8 mo\"))"
   ]
  },
  {
   "cell_type": "markdown",
   "id": "93f00b82",
   "metadata": {},
   "source": [
    "# A.5. Selection of Training Data \n",
    "Selected random rows and assigned it to variable train.<br>\n",
    "Used nrow(train) to check the data. We can use View(train)"
   ]
  },
  {
   "cell_type": "code",
   "execution_count": 19,
   "id": "286c32b4",
   "metadata": {},
   "outputs": [],
   "source": [
    "train <- cc[sample(nrow(cc), 5000), ] "
   ]
  },
  {
   "cell_type": "code",
   "execution_count": 20,
   "id": "3ede3bde",
   "metadata": {
    "scrolled": true
   },
   "outputs": [
    {
     "data": {
      "text/html": [
       "<table>\n",
       "<thead><tr><th></th><th scope=col>ID</th><th scope=col>LIMIT_BAL</th><th scope=col>SEX</th><th scope=col>EDUCATION</th><th scope=col>MARRIAGE</th><th scope=col>AGE</th><th scope=col>PAY_0</th><th scope=col>PAY_2</th><th scope=col>PAY_3</th><th scope=col>PAY_4</th><th scope=col>...</th><th scope=col>BILL_AMT4</th><th scope=col>BILL_AMT5</th><th scope=col>BILL_AMT6</th><th scope=col>PAY_AMT1</th><th scope=col>PAY_AMT2</th><th scope=col>PAY_AMT3</th><th scope=col>PAY_AMT4</th><th scope=col>PAY_AMT5</th><th scope=col>PAY_AMT6</th><th scope=col>default.payment.next.month</th></tr></thead>\n",
       "<tbody>\n",
       "\t<tr><th scope=row>14577</th><td>14577          </td><td>110000         </td><td>Female         </td><td>university     </td><td>single         </td><td>25             </td><td>delay 1 mo     </td><td>delay 2 mo     </td><td>delay 2 mo     </td><td>pay duly       </td><td>...            </td><td>102111         </td><td>101521         </td><td>100240         </td><td>8000           </td><td>   0           </td><td>4000           </td><td>4000           </td><td>3600           </td><td>3500           </td><td>No             </td></tr>\n",
       "\t<tr><th scope=row>15244</th><td>15244          </td><td>290000         </td><td>Female         </td><td>university     </td><td>single         </td><td>34             </td><td>pay duly       </td><td>pay duly       </td><td>pay duly       </td><td>pay duly       </td><td>...            </td><td> 38441         </td><td> 37454         </td><td> 35484         </td><td>2000           </td><td>2000           </td><td>2000           </td><td>2000           </td><td>2000           </td><td>2000           </td><td>No             </td></tr>\n",
       "\t<tr><th scope=row>25739</th><td>25739          </td><td>180000         </td><td>Female         </td><td>graduate_school</td><td>single         </td><td>34             </td><td>pay duly       </td><td>pay duly       </td><td>pay duly       </td><td>pay duly       </td><td>...            </td><td> 94820         </td><td>100740         </td><td> 99015         </td><td>5000           </td><td>5000           </td><td>5000           </td><td>7500           </td><td>   0           </td><td>6000           </td><td>Yes            </td></tr>\n",
       "\t<tr><th scope=row>8921</th><td> 8921          </td><td> 50000         </td><td>Male           </td><td>university     </td><td>married        </td><td>38             </td><td>pay duly       </td><td>pay duly       </td><td>pay duly       </td><td>pay duly       </td><td>...            </td><td> 19418         </td><td> 19315         </td><td> 18559         </td><td>1372           </td><td>1286           </td><td> 666           </td><td> 680           </td><td> 816           </td><td> 819           </td><td>No             </td></tr>\n",
       "\t<tr><th scope=row>10753</th><td>10753          </td><td>470000         </td><td>Male           </td><td>university     </td><td>married        </td><td>32             </td><td>pay duly       </td><td>pay duly       </td><td>pay duly       </td><td>pay duly       </td><td>...            </td><td>148871         </td><td>152309         </td><td>155769         </td><td>7000           </td><td>6000           </td><td>6000           </td><td>6000           </td><td>6000           </td><td>8000           </td><td>No             </td></tr>\n",
       "\t<tr><th scope=row>697</th><td>  697          </td><td> 50000         </td><td>Female         </td><td>graduate_school</td><td>married        </td><td>34             </td><td>pay duly       </td><td>pay duly       </td><td>pay duly       </td><td>pay duly       </td><td>...            </td><td>  6611         </td><td>  7349         </td><td>  7570         </td><td>1267           </td><td>1553           </td><td>7511           </td><td>1000           </td><td> 343           </td><td>1000           </td><td>No             </td></tr>\n",
       "</tbody>\n",
       "</table>\n"
      ],
      "text/latex": [
       "\\begin{tabular}{r|lllllllllllllllllllllllll}\n",
       "  & ID & LIMIT\\_BAL & SEX & EDUCATION & MARRIAGE & AGE & PAY\\_0 & PAY\\_2 & PAY\\_3 & PAY\\_4 & ... & BILL\\_AMT4 & BILL\\_AMT5 & BILL\\_AMT6 & PAY\\_AMT1 & PAY\\_AMT2 & PAY\\_AMT3 & PAY\\_AMT4 & PAY\\_AMT5 & PAY\\_AMT6 & default.payment.next.month\\\\\n",
       "\\hline\n",
       "\t14577 & 14577           & 110000          & Female          & university      & single          & 25              & delay 1 mo      & delay 2 mo      & delay 2 mo      & pay duly        & ...             & 102111          & 101521          & 100240          & 8000            &    0            & 4000            & 4000            & 3600            & 3500            & No             \\\\\n",
       "\t15244 & 15244           & 290000          & Female          & university      & single          & 34              & pay duly        & pay duly        & pay duly        & pay duly        & ...             &  38441          &  37454          &  35484          & 2000            & 2000            & 2000            & 2000            & 2000            & 2000            & No             \\\\\n",
       "\t25739 & 25739             & 180000            & Female            & graduate\\_school & single            & 34                & pay duly          & pay duly          & pay duly          & pay duly          & ...               &  94820            & 100740            &  99015            & 5000              & 5000              & 5000              & 7500              &    0              & 6000              & Yes              \\\\\n",
       "\t8921 &  8921           &  50000          & Male            & university      & married         & 38              & pay duly        & pay duly        & pay duly        & pay duly        & ...             &  19418          &  19315          &  18559          & 1372            & 1286            &  666            &  680            &  816            &  819            & No             \\\\\n",
       "\t10753 & 10753           & 470000          & Male            & university      & married         & 32              & pay duly        & pay duly        & pay duly        & pay duly        & ...             & 148871          & 152309          & 155769          & 7000            & 6000            & 6000            & 6000            & 6000            & 8000            & No             \\\\\n",
       "\t697 &   697             &  50000            & Female            & graduate\\_school & married           & 34                & pay duly          & pay duly          & pay duly          & pay duly          & ...               &   6611            &   7349            &   7570            & 1267              & 1553              & 7511              & 1000              &  343              & 1000              & No               \\\\\n",
       "\\end{tabular}\n"
      ],
      "text/markdown": [
       "\n",
       "| <!--/--> | ID | LIMIT_BAL | SEX | EDUCATION | MARRIAGE | AGE | PAY_0 | PAY_2 | PAY_3 | PAY_4 | ... | BILL_AMT4 | BILL_AMT5 | BILL_AMT6 | PAY_AMT1 | PAY_AMT2 | PAY_AMT3 | PAY_AMT4 | PAY_AMT5 | PAY_AMT6 | default.payment.next.month |\n",
       "|---|---|---|---|---|---|---|---|---|---|---|---|---|---|---|---|---|---|---|---|---|---|\n",
       "| 14577 | 14577           | 110000          | Female          | university      | single          | 25              | delay 1 mo      | delay 2 mo      | delay 2 mo      | pay duly        | ...             | 102111          | 101521          | 100240          | 8000            |    0            | 4000            | 4000            | 3600            | 3500            | No              |\n",
       "| 15244 | 15244           | 290000          | Female          | university      | single          | 34              | pay duly        | pay duly        | pay duly        | pay duly        | ...             |  38441          |  37454          |  35484          | 2000            | 2000            | 2000            | 2000            | 2000            | 2000            | No              |\n",
       "| 25739 | 25739           | 180000          | Female          | graduate_school | single          | 34              | pay duly        | pay duly        | pay duly        | pay duly        | ...             |  94820          | 100740          |  99015          | 5000            | 5000            | 5000            | 7500            |    0            | 6000            | Yes             |\n",
       "| 8921 |  8921           |  50000          | Male            | university      | married         | 38              | pay duly        | pay duly        | pay duly        | pay duly        | ...             |  19418          |  19315          |  18559          | 1372            | 1286            |  666            |  680            |  816            |  819            | No              |\n",
       "| 10753 | 10753           | 470000          | Male            | university      | married         | 32              | pay duly        | pay duly        | pay duly        | pay duly        | ...             | 148871          | 152309          | 155769          | 7000            | 6000            | 6000            | 6000            | 6000            | 8000            | No              |\n",
       "| 697 |   697           |  50000          | Female          | graduate_school | married         | 34              | pay duly        | pay duly        | pay duly        | pay duly        | ...             |   6611          |   7349          |   7570          | 1267            | 1553            | 7511            | 1000            |  343            | 1000            | No              |\n",
       "\n"
      ],
      "text/plain": [
       "      ID    LIMIT_BAL SEX    EDUCATION       MARRIAGE AGE PAY_0      PAY_2     \n",
       "14577 14577 110000    Female university      single   25  delay 1 mo delay 2 mo\n",
       "15244 15244 290000    Female university      single   34  pay duly   pay duly  \n",
       "25739 25739 180000    Female graduate_school single   34  pay duly   pay duly  \n",
       "8921   8921  50000    Male   university      married  38  pay duly   pay duly  \n",
       "10753 10753 470000    Male   university      married  32  pay duly   pay duly  \n",
       "697     697  50000    Female graduate_school married  34  pay duly   pay duly  \n",
       "      PAY_3      PAY_4    ... BILL_AMT4 BILL_AMT5 BILL_AMT6 PAY_AMT1 PAY_AMT2\n",
       "14577 delay 2 mo pay duly ... 102111    101521    100240    8000        0    \n",
       "15244 pay duly   pay duly ...  38441     37454     35484    2000     2000    \n",
       "25739 pay duly   pay duly ...  94820    100740     99015    5000     5000    \n",
       "8921  pay duly   pay duly ...  19418     19315     18559    1372     1286    \n",
       "10753 pay duly   pay duly ... 148871    152309    155769    7000     6000    \n",
       "697   pay duly   pay duly ...   6611      7349      7570    1267     1553    \n",
       "      PAY_AMT3 PAY_AMT4 PAY_AMT5 PAY_AMT6 default.payment.next.month\n",
       "14577 4000     4000     3600     3500     No                        \n",
       "15244 2000     2000     2000     2000     No                        \n",
       "25739 5000     7500        0     6000     Yes                       \n",
       "8921   666      680      816      819     No                        \n",
       "10753 6000     6000     6000     8000     No                        \n",
       "697   7511     1000      343     1000     No                        "
      ]
     },
     "metadata": {},
     "output_type": "display_data"
    }
   ],
   "source": [
    "head(train)"
   ]
  },
  {
   "cell_type": "code",
   "execution_count": 21,
   "id": "324fd355",
   "metadata": {
    "scrolled": false
   },
   "outputs": [
    {
     "data": {
      "text/html": [
       "<table>\n",
       "<thead><tr><th></th><th scope=col>ID</th><th scope=col>LIMIT_BAL</th><th scope=col>SEX</th><th scope=col>EDUCATION</th><th scope=col>MARRIAGE</th><th scope=col>AGE</th><th scope=col>PAY_0</th><th scope=col>PAY_2</th><th scope=col>PAY_3</th><th scope=col>PAY_4</th><th scope=col>...</th><th scope=col>BILL_AMT4</th><th scope=col>BILL_AMT5</th><th scope=col>BILL_AMT6</th><th scope=col>PAY_AMT1</th><th scope=col>PAY_AMT2</th><th scope=col>PAY_AMT3</th><th scope=col>PAY_AMT4</th><th scope=col>PAY_AMT5</th><th scope=col>PAY_AMT6</th><th scope=col>default.payment.next.month</th></tr></thead>\n",
       "<tbody>\n",
       "\t<tr><th scope=row>254</th><td>  254          </td><td>160000         </td><td>Female         </td><td>graduate_school</td><td>single         </td><td>28             </td><td>pay duly       </td><td>pay duly       </td><td>pay duly       </td><td>pay duly       </td><td>...            </td><td> 7222          </td><td>99669          </td><td>84426          </td><td>7042           </td><td>2000           </td><td>1000           </td><td>99669          </td><td>12600          </td><td>10000          </td><td>No             </td></tr>\n",
       "\t<tr><th scope=row>25358</th><td>25358          </td><td>180000         </td><td>Female         </td><td>graduate_school</td><td>single         </td><td>25             </td><td>pay duly       </td><td>pay duly       </td><td>pay duly       </td><td>pay duly       </td><td>...            </td><td>47383          </td><td>32876          </td><td>28915          </td><td>1867           </td><td>2501           </td><td>1271           </td><td>  926          </td><td>  876          </td><td> 3004          </td><td>No             </td></tr>\n",
       "\t<tr><th scope=row>67</th><td>   67          </td><td> 10000         </td><td>Male           </td><td>university     </td><td>married        </td><td>56             </td><td>delay 2 mo     </td><td>delay 2 mo     </td><td>delay 2 mo     </td><td>pay duly       </td><td>...            </td><td> 4062          </td><td> 4196          </td><td> 4326          </td><td>2300           </td><td>   0           </td><td> 150           </td><td>  200          </td><td>  200          </td><td>  160          </td><td>Yes            </td></tr>\n",
       "\t<tr><th scope=row>7437</th><td> 7437          </td><td> 30000         </td><td>Female         </td><td>graduate_school</td><td>single         </td><td>24             </td><td>delay 2 mo     </td><td>delay 2 mo     </td><td>delay 2 mo     </td><td>pay duly       </td><td>...            </td><td>15868          </td><td>16657          </td><td>13998          </td><td>4500           </td><td>   0           </td><td>1000           </td><td> 1000          </td><td>  668          </td><td>  203          </td><td>Yes            </td></tr>\n",
       "</tbody>\n",
       "</table>\n"
      ],
      "text/latex": [
       "\\begin{tabular}{r|lllllllllllllllllllllllll}\n",
       "  & ID & LIMIT\\_BAL & SEX & EDUCATION & MARRIAGE & AGE & PAY\\_0 & PAY\\_2 & PAY\\_3 & PAY\\_4 & ... & BILL\\_AMT4 & BILL\\_AMT5 & BILL\\_AMT6 & PAY\\_AMT1 & PAY\\_AMT2 & PAY\\_AMT3 & PAY\\_AMT4 & PAY\\_AMT5 & PAY\\_AMT6 & default.payment.next.month\\\\\n",
       "\\hline\n",
       "\t254 &   254             & 160000            & Female            & graduate\\_school & single            & 28                & pay duly          & pay duly          & pay duly          & pay duly          & ...               &  7222             & 99669             & 84426             & 7042              & 2000              & 1000              & 99669             & 12600             & 10000             & No               \\\\\n",
       "\t25358 & 25358             & 180000            & Female            & graduate\\_school & single            & 25                & pay duly          & pay duly          & pay duly          & pay duly          & ...               & 47383             & 32876             & 28915             & 1867              & 2501              & 1271              &   926             &   876             &  3004             & No               \\\\\n",
       "\t67 &    67           &  10000          & Male            & university      & married         & 56              & delay 2 mo      & delay 2 mo      & delay 2 mo      & pay duly        & ...             &  4062           &  4196           &  4326           & 2300            &    0            &  150            &   200           &   200           &   160           & Yes            \\\\\n",
       "\t7437 &  7437             &  30000            & Female            & graduate\\_school & single            & 24                & delay 2 mo        & delay 2 mo        & delay 2 mo        & pay duly          & ...               & 15868             & 16657             & 13998             & 4500              &    0              & 1000              &  1000             &   668             &   203             & Yes              \\\\\n",
       "\\end{tabular}\n"
      ],
      "text/markdown": [
       "\n",
       "| <!--/--> | ID | LIMIT_BAL | SEX | EDUCATION | MARRIAGE | AGE | PAY_0 | PAY_2 | PAY_3 | PAY_4 | ... | BILL_AMT4 | BILL_AMT5 | BILL_AMT6 | PAY_AMT1 | PAY_AMT2 | PAY_AMT3 | PAY_AMT4 | PAY_AMT5 | PAY_AMT6 | default.payment.next.month |\n",
       "|---|---|---|---|---|---|---|---|---|---|---|---|---|---|---|---|---|---|---|---|---|---|\n",
       "| 254 |   254           | 160000          | Female          | graduate_school | single          | 28              | pay duly        | pay duly        | pay duly        | pay duly        | ...             |  7222           | 99669           | 84426           | 7042            | 2000            | 1000            | 99669           | 12600           | 10000           | No              |\n",
       "| 25358 | 25358           | 180000          | Female          | graduate_school | single          | 25              | pay duly        | pay duly        | pay duly        | pay duly        | ...             | 47383           | 32876           | 28915           | 1867            | 2501            | 1271            |   926           |   876           |  3004           | No              |\n",
       "| 67 |    67           |  10000          | Male            | university      | married         | 56              | delay 2 mo      | delay 2 mo      | delay 2 mo      | pay duly        | ...             |  4062           |  4196           |  4326           | 2300            |    0            |  150            |   200           |   200           |   160           | Yes             |\n",
       "| 7437 |  7437           |  30000          | Female          | graduate_school | single          | 24              | delay 2 mo      | delay 2 mo      | delay 2 mo      | pay duly        | ...             | 15868           | 16657           | 13998           | 4500            |    0            | 1000            |  1000           |   668           |   203           | Yes             |\n",
       "\n"
      ],
      "text/plain": [
       "      ID    LIMIT_BAL SEX    EDUCATION       MARRIAGE AGE PAY_0      PAY_2     \n",
       "254     254 160000    Female graduate_school single   28  pay duly   pay duly  \n",
       "25358 25358 180000    Female graduate_school single   25  pay duly   pay duly  \n",
       "67       67  10000    Male   university      married  56  delay 2 mo delay 2 mo\n",
       "7437   7437  30000    Female graduate_school single   24  delay 2 mo delay 2 mo\n",
       "      PAY_3      PAY_4    ... BILL_AMT4 BILL_AMT5 BILL_AMT6 PAY_AMT1 PAY_AMT2\n",
       "254   pay duly   pay duly ...  7222     99669     84426     7042     2000    \n",
       "25358 pay duly   pay duly ... 47383     32876     28915     1867     2501    \n",
       "67    delay 2 mo pay duly ...  4062      4196      4326     2300        0    \n",
       "7437  delay 2 mo pay duly ... 15868     16657     13998     4500        0    \n",
       "      PAY_AMT3 PAY_AMT4 PAY_AMT5 PAY_AMT6 default.payment.next.month\n",
       "254   1000     99669    12600    10000    No                        \n",
       "25358 1271       926      876     3004    No                        \n",
       "67     150       200      200      160    Yes                       \n",
       "7437  1000      1000      668      203    Yes                       "
      ]
     },
     "metadata": {},
     "output_type": "display_data"
    }
   ],
   "source": [
    "test <- cc[c(254,25358,67,7437),]\n",
    "head(test)"
   ]
  },
  {
   "cell_type": "markdown",
   "id": "c3d45b7d",
   "metadata": {},
   "source": [
    "# B.1. Naive Bayes using Demographic Variables"
   ]
  },
  {
   "cell_type": "code",
   "execution_count": 22,
   "id": "ffef9327",
   "metadata": {
    "scrolled": false
   },
   "outputs": [
    {
     "data": {
      "text/plain": [
       "\n",
       "Naive Bayes Classifier for Discrete Predictors\n",
       "\n",
       "Call:\n",
       "naiveBayes.default(x = X, y = Y, laplace = laplace)\n",
       "\n",
       "A-priori probabilities:\n",
       "Y\n",
       "    No    Yes \n",
       "0.7814 0.2186 \n",
       "\n",
       "Conditional probabilities:\n",
       "     SEX\n",
       "Y          Male    Female\n",
       "  No  0.3857179 0.6142821\n",
       "  Yes 0.4345837 0.5654163\n",
       "\n",
       "     EDUCATION\n",
       "Y     graduate_school  university high_school      others     unknown\n",
       "  No      0.350576184 0.471190781 0.160051216 0.004865557 0.013316261\n",
       "  Yes     0.314730101 0.499542543 0.182982617 0.000000000 0.002744739\n",
       "\n",
       "     MARRIAGE\n",
       "Y        married     single     others\n",
       "  No  0.45114132 0.53808669 0.01077199\n",
       "  Yes 0.48532110 0.50091743 0.01376147\n"
      ]
     },
     "metadata": {},
     "output_type": "display_data"
    }
   ],
   "source": [
    "library(e1071)\n",
    "nbDem <- naiveBayes(default.payment.next.month ~ SEX + EDUCATION + MARRIAGE, train)\n",
    "nbDem"
   ]
  },
  {
   "cell_type": "code",
   "execution_count": 23,
   "id": "e4e983a5",
   "metadata": {},
   "outputs": [
    {
     "data": {
      "text/html": [
       "<ol class=list-inline>\n",
       "\t<li>No</li>\n",
       "\t<li>No</li>\n",
       "\t<li>No</li>\n",
       "\t<li>No</li>\n",
       "</ol>\n",
       "\n",
       "<details>\n",
       "\t<summary style=display:list-item;cursor:pointer>\n",
       "\t\t<strong>Levels</strong>:\n",
       "\t</summary>\n",
       "\t<ol class=list-inline>\n",
       "\t\t<li>'No'</li>\n",
       "\t\t<li>'Yes'</li>\n",
       "\t</ol>\n",
       "</details>"
      ],
      "text/latex": [
       "\\begin{enumerate*}\n",
       "\\item No\n",
       "\\item No\n",
       "\\item No\n",
       "\\item No\n",
       "\\end{enumerate*}\n",
       "\n",
       "\\emph{Levels}: \\begin{enumerate*}\n",
       "\\item 'No'\n",
       "\\item 'Yes'\n",
       "\\end{enumerate*}\n"
      ],
      "text/markdown": [
       "1. No\n",
       "2. No\n",
       "3. No\n",
       "4. No\n",
       "\n",
       "\n",
       "\n",
       "**Levels**: 1. 'No'\n",
       "2. 'Yes'\n",
       "\n",
       "\n"
      ],
      "text/plain": [
       "[1] No No No No\n",
       "Levels: No Yes"
      ]
     },
     "metadata": {},
     "output_type": "display_data"
    }
   ],
   "source": [
    "predict(nbDem, test)\n"
   ]
  },
  {
   "cell_type": "markdown",
   "id": "90a0424a",
   "metadata": {},
   "source": [
    "Based on the above probabilities and demographic features, there is a 78% chance that a person will not fail on a credit card payment and a 22% chance that they will fail.\n",
    "<br>\n",
    "When considering individual characteristics such as Sex, Education, and Marriage, the probability of defaulting on a credit card payment is highest for the female population; college students are more likely to default than other students; and married and single individuals are equally likely to default on payments."
   ]
  },
  {
   "cell_type": "markdown",
   "id": "73c922f7",
   "metadata": {},
   "source": [
    "# B.2. Naive Bayes using Payment Status"
   ]
  },
  {
   "cell_type": "code",
   "execution_count": 24,
   "id": "97003f47",
   "metadata": {
    "scrolled": false
   },
   "outputs": [
    {
     "data": {
      "text/plain": [
       "\n",
       "Naive Bayes Classifier for Discrete Predictors\n",
       "\n",
       "Call:\n",
       "naiveBayes.default(x = X, y = Y, laplace = laplace)\n",
       "\n",
       "A-priori probabilities:\n",
       "Y\n",
       "    No    Yes \n",
       "0.7814 0.2186 \n",
       "\n",
       "Conditional probabilities:\n",
       "     PAY_0\n",
       "Y         pay duly   delay 1 mo   delay 2 mo   delay 3 mo   delay 4 mo\n",
       "  No  0.8674174558 0.0952137190 0.0314819555 0.0035833120 0.0007678526\n",
       "  Yes 0.4867337603 0.1967063129 0.2625800549 0.0338517841 0.0109789570\n",
       "     PAY_0\n",
       "Y       delay 5 mo   delay 6 mo   delay 7 mo   delay 8 mo\n",
       "  No  0.0005119017 0.0002559509 0.0002559509 0.0005119017\n",
       "  Yes 0.0018298262 0.0018298262 0.0027447392 0.0027447392\n",
       "\n",
       "     PAY_2\n",
       "Y         pay duly   delay 1 mo   delay 2 mo   delay 3 mo   delay 4 mo\n",
       "  No  0.9165600205 0.0007678526 0.0749936012 0.0051190171 0.0012797543\n",
       "  Yes 0.6322049405 0.0009149131 0.3110704483 0.0384263495 0.0082342177\n",
       "     PAY_2\n",
       "Y       delay 5 mo   delay 6 mo   delay 7 mo   delay 8 mo\n",
       "  No  0.0005119017 0.0002559509 0.0005119017 0.0000000000\n",
       "  Yes 0.0027447392 0.0036596523 0.0027447392 0.0000000000\n",
       "\n",
       "     PAY_5\n",
       "Y         pay duly   delay 1 mo   delay 2 mo   delay 3 mo   delay 4 mo\n",
       "  No  0.9454824674 0.0000000000 0.0493985155 0.0033273611 0.0012797543\n",
       "  Yes 0.7438243367 0.0000000000 0.2223238792 0.0201280878 0.0073193047\n",
       "     PAY_5\n",
       "Y       delay 5 mo   delay 6 mo   delay 7 mo   delay 8 mo\n",
       "  No  0.0005119017 0.0000000000 0.0000000000 0.0000000000\n",
       "  Yes 0.0018298262 0.0009149131 0.0036596523 0.0000000000\n"
      ]
     },
     "metadata": {},
     "output_type": "display_data"
    }
   ],
   "source": [
    "nbPay <- naiveBayes(default.payment.next.month ~ PAY_0 + PAY_2 + PAY_5, train)\n",
    "nbPay"
   ]
  },
  {
   "cell_type": "code",
   "execution_count": 25,
   "id": "f5bdca3d",
   "metadata": {},
   "outputs": [
    {
     "data": {
      "text/html": [
       "<ol class=list-inline>\n",
       "\t<li>No</li>\n",
       "\t<li>No</li>\n",
       "\t<li>Yes</li>\n",
       "\t<li>Yes</li>\n",
       "</ol>\n",
       "\n",
       "<details>\n",
       "\t<summary style=display:list-item;cursor:pointer>\n",
       "\t\t<strong>Levels</strong>:\n",
       "\t</summary>\n",
       "\t<ol class=list-inline>\n",
       "\t\t<li>'No'</li>\n",
       "\t\t<li>'Yes'</li>\n",
       "\t</ol>\n",
       "</details>"
      ],
      "text/latex": [
       "\\begin{enumerate*}\n",
       "\\item No\n",
       "\\item No\n",
       "\\item Yes\n",
       "\\item Yes\n",
       "\\end{enumerate*}\n",
       "\n",
       "\\emph{Levels}: \\begin{enumerate*}\n",
       "\\item 'No'\n",
       "\\item 'Yes'\n",
       "\\end{enumerate*}\n"
      ],
      "text/markdown": [
       "1. No\n",
       "2. No\n",
       "3. Yes\n",
       "4. Yes\n",
       "\n",
       "\n",
       "\n",
       "**Levels**: 1. 'No'\n",
       "2. 'Yes'\n",
       "\n",
       "\n"
      ],
      "text/plain": [
       "[1] No  No  Yes Yes\n",
       "Levels: No Yes"
      ]
     },
     "metadata": {},
     "output_type": "display_data"
    }
   ],
   "source": [
    "predict(nbPay, test)\n"
   ]
  },
  {
   "cell_type": "markdown",
   "id": "a40cc9a2",
   "metadata": {},
   "source": [
    "Based on the above probabilities and PAY attributes, there is a 78% possibility that a person will not default on their credit card payment and a 22% chance of defaulting the bill payment.<br>\n",
    "For PAY_0 persons who pay their bills on time, there is a high probability of defaulting the bill.<br>\n",
    "For PAY_2 individuals who pay their bills on time,  there are having high probability of defaulting the bill followed by people having payment delay of 2 months.<br>\n",
    "For PAY 5 persons who pay their bills on time, the likelihood of default is huge."
   ]
  },
  {
   "cell_type": "markdown",
   "id": "0f9d9807",
   "metadata": {},
   "source": [
    "# B.3. Smoothed Naive Bayes using Payment Status"
   ]
  },
  {
   "cell_type": "code",
   "execution_count": 26,
   "id": "0705ffe9",
   "metadata": {},
   "outputs": [
    {
     "data": {
      "text/html": [
       "<ol class=list-inline>\n",
       "\t<li>No</li>\n",
       "\t<li>No</li>\n",
       "\t<li>Yes</li>\n",
       "\t<li>Yes</li>\n",
       "</ol>\n",
       "\n",
       "<details>\n",
       "\t<summary style=display:list-item;cursor:pointer>\n",
       "\t\t<strong>Levels</strong>:\n",
       "\t</summary>\n",
       "\t<ol class=list-inline>\n",
       "\t\t<li>'No'</li>\n",
       "\t\t<li>'Yes'</li>\n",
       "\t</ol>\n",
       "</details>"
      ],
      "text/latex": [
       "\\begin{enumerate*}\n",
       "\\item No\n",
       "\\item No\n",
       "\\item Yes\n",
       "\\item Yes\n",
       "\\end{enumerate*}\n",
       "\n",
       "\\emph{Levels}: \\begin{enumerate*}\n",
       "\\item 'No'\n",
       "\\item 'Yes'\n",
       "\\end{enumerate*}\n"
      ],
      "text/markdown": [
       "1. No\n",
       "2. No\n",
       "3. Yes\n",
       "4. Yes\n",
       "\n",
       "\n",
       "\n",
       "**Levels**: 1. 'No'\n",
       "2. 'Yes'\n",
       "\n",
       "\n"
      ],
      "text/plain": [
       "[1] No  No  Yes Yes\n",
       "Levels: No Yes"
      ]
     },
     "metadata": {},
     "output_type": "display_data"
    }
   ],
   "source": [
    "nbPay <- naiveBayes(default.payment.next.month ~ PAY_0 + PAY_2 + PAY_3, train, laplace=1.5)\n",
    "predict(nbPay, test)"
   ]
  },
  {
   "cell_type": "markdown",
   "id": "86ed12a2",
   "metadata": {},
   "source": [
    "The result is similar to that of a standard Naive Bayes model with Normal PAY parameters; the main difference is that Laplace Transforms have been used to exclude certain variables with zero probability."
   ]
  },
  {
   "cell_type": "markdown",
   "id": "701bf009",
   "metadata": {},
   "source": [
    "# C.1. Basic Decision Tree"
   ]
  },
  {
   "cell_type": "code",
   "execution_count": 27,
   "id": "5c16ed96",
   "metadata": {},
   "outputs": [],
   "source": [
    "library(\"rpart\")\n",
    "library(\"rpart.plot\")\n",
    "dfpy <- rpart(default.payment.next.month ~ PAY_0 + PAY_2 + PAY_3,\n",
    "            method=\"class\",\n",
    "            data=train, parms=list(split='information'), \n",
    "            minsplit=20, cp=0.02)"
   ]
  },
  {
   "cell_type": "code",
   "execution_count": 28,
   "id": "1157beb4",
   "metadata": {},
   "outputs": [
    {
     "data": {
      "image/png": "[encoded data removed]",
      "text/plain": [
       "plot without title"
      ]
     },
     "metadata": {},
     "output_type": "display_data"
    }
   ],
   "source": [
    "rpart.plot(dfpy, type=4, extra=1)"
   ]
  },
  {
   "cell_type": "markdown",
   "id": "8d4e276d",
   "metadata": {},
   "source": [
    "The decision tree classifier based on payment parameters is displayed above for the provided dataset. Individuals that make payments precisely on the given deadline without even any delays are categorized on the left side of the tree, whereas those with delays of 1,2,3,4,5,6, and 7 months are inclined to default and are classified on the right side of the tree.\n",
    "Furthermore, there is less likelihood of Default when the delay is between 1 and 5 months as compared to 2, 3, 4, 6 and 7 months."
   ]
  },
  {
   "cell_type": "code",
   "execution_count": 29,
   "id": "d93db8f4",
   "metadata": {},
   "outputs": [
    {
     "data": {
      "text/html": [
       "No\n",
       "<details>\n",
       "\t<summary style=display:list-item;cursor:pointer>\n",
       "\t\t<strong>Levels</strong>:\n",
       "\t</summary>\n",
       "\t<ol class=list-inline>\n",
       "\t\t<li>'No'</li>\n",
       "\t\t<li>'Yes'</li>\n",
       "\t</ol>\n",
       "</details>"
      ],
      "text/latex": [
       "No\n",
       "\\emph{Levels}: \\begin{enumerate*}\n",
       "\\item 'No'\n",
       "\\item 'Yes'\n",
       "\\end{enumerate*}\n"
      ],
      "text/markdown": [
       "No\n",
       "**Levels**: 1. 'No'\n",
       "2. 'Yes'\n",
       "\n",
       "\n"
      ],
      "text/plain": [
       "[1] No\n",
       "Levels: No Yes"
      ]
     },
     "metadata": {},
     "output_type": "display_data"
    }
   ],
   "source": [
    "predict(nbPay, test[2,])\n"
   ]
  },
  {
   "cell_type": "markdown",
   "id": "45f48e74",
   "metadata": {},
   "source": [
    "# C.2. Decision Tree with a Different Complexity Parameter"
   ]
  },
  {
   "cell_type": "code",
   "execution_count": 30,
   "id": "1d563a05",
   "metadata": {},
   "outputs": [],
   "source": [
    "dfpy <- rpart(default.payment.next.month ~ PAY_0 + PAY_2 + PAY_3,\n",
    "            method=\"class\",\n",
    "            data=train, parms=list(split='information'), \n",
    "            minsplit=20, cp=0.001)"
   ]
  },
  {
   "cell_type": "code",
   "execution_count": 31,
   "id": "bef0333d",
   "metadata": {
    "scrolled": false
   },
   "outputs": [
    {
     "data": {
      "text/html": [
       "No\n",
       "<details>\n",
       "\t<summary style=display:list-item;cursor:pointer>\n",
       "\t\t<strong>Levels</strong>:\n",
       "\t</summary>\n",
       "\t<ol class=list-inline>\n",
       "\t\t<li>'No'</li>\n",
       "\t\t<li>'Yes'</li>\n",
       "\t</ol>\n",
       "</details>"
      ],
      "text/latex": [
       "No\n",
       "\\emph{Levels}: \\begin{enumerate*}\n",
       "\\item 'No'\n",
       "\\item 'Yes'\n",
       "\\end{enumerate*}\n"
      ],
      "text/markdown": [
       "No\n",
       "**Levels**: 1. 'No'\n",
       "2. 'Yes'\n",
       "\n",
       "\n"
      ],
      "text/plain": [
       "[1] No\n",
       "Levels: No Yes"
      ]
     },
     "metadata": {},
     "output_type": "display_data"
    },
    {
     "data": {
      "image/png": "[encoded data removed]",
      "text/plain": [
       "plot without title"
      ]
     },
     "metadata": {},
     "output_type": "display_data"
    }
   ],
   "source": [
    "rpart.plot(dfpy, type=4, extra=1)\n",
    "predict(nbPay, test[2,])\n"
   ]
  },
  {
   "cell_type": "markdown",
   "id": "776f8b1d",
   "metadata": {},
   "source": [
    "The decision tree classifier based on payment parameters is displayed above for the provided dataset. Individuals that make payments precisely on the given deadline without even any delays are categorized on the left side of the tree, whereas those with delays of 1,2,3,4,5,6,7 and 8 months are inclined to default and are classified on the right side of the tree. \n",
    "And, there is a lower likelihood of default when the delay is between 1 and 5 months as compared to 2, 3, 4, 6, 7 and 8 months.Furthermore, delays of between 3 , 5 and 6 months have a high probability of default.\n",
    "\n"
   ]
  },
  {
   "cell_type": "markdown",
   "id": "56959a63",
   "metadata": {},
   "source": [
    "# Conclusion:\n",
    "In the following research, the trained 2 separate models, Nave Bayes and Decision tree, based on the same data. The naive Bayes classification approach uses probabilities, but the decision tree predict output using a tree-like structure and decision nodes. Because it does not account for their interrelationship, the naive Bayes model assumes that all of the qualities are independent of one another. And also another major difference in both the Nave Bayes model and the decision tree is that when the model is developed using the decision tree, we could see visually how it was constructed and acquire some understanding into the approach, whereas this is not possible with Nave Bayes.\n",
    "There are several unused properties, such as BILL_AMT4,BILL_AMT5,BILL_AMT6,PAY_AMT1,PAY_AMT2,PAY_AMT3,PAY_AMT4,PAY_AMT5,...\tPAY_AMT6. These parameters may also be used to train the model. In reality, the more data there is, the more accurate the model is. However, if we give the model every single data point and characteristic, it will take a lot of processing power to train and may end up being too accurate. Before determining which qualities to examine for model creation, we must thus carefully choose the attributes and have some domain knowledge. We may utilize the correlation between the characteristics to determine how much an attribute requires consideration. There are several methods to choose features. We may add these unused characteristics to the model as new attributes, and then we can utilize other strategies to determine which features should be used to train the model. In the aforementioned instance"
   ]
  },
  {
   "cell_type": "code",
   "execution_count": null,
   "id": "5198df4d",
   "metadata": {},
   "outputs": [],
   "source": []
  }
 ],
 "metadata": {
  "kernelspec": {
   "display_name": "R",
   "language": "R",
   "name": "ir"
  },
  "language_info": {
   "codemirror_mode": "r",
   "file_extension": ".r",
   "mimetype": "text/x-r-source",
   "name": "R",
   "pygments_lexer": "r",
   "version": "3.6.1"
  }
 },
 "nbformat": 4,
 "nbformat_minor": 5
}
